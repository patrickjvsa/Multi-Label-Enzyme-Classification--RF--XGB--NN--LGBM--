{
 "cells": [
  {
   "cell_type": "markdown",
   "id": "c9fd9785",
   "metadata": {
    "papermill": {
     "duration": 0.023893,
     "end_time": "2023-07-10T01:06:04.339682",
     "exception": false,
     "start_time": "2023-07-10T01:06:04.315789",
     "status": "completed"
    },
    "tags": []
   },
   "source": [
    "### Enzime clasification\n",
    "\n",
    "##### Este notebook asume las conclusiones de otras versiones, donde se prueba que calcular EC1 y EC2 por separado logra peores resultados que calcularlos de manera secuencial"
   ]
  },
  {
   "cell_type": "code",
   "execution_count": 1,
   "id": "ef153955",
   "metadata": {
    "_cell_guid": "b1076dfc-b9ad-4769-8c92-a6c4dae69d19",
    "_uuid": "8f2839f25d086af736a60e9eeb907d3b93b6e0e5",
    "execution": {
     "iopub.execute_input": "2023-07-10T01:06:04.389268Z",
     "iopub.status.busy": "2023-07-10T01:06:04.388576Z",
     "iopub.status.idle": "2023-07-10T01:06:04.404194Z",
     "shell.execute_reply": "2023-07-10T01:06:04.403071Z"
    },
    "papermill": {
     "duration": 0.043278,
     "end_time": "2023-07-10T01:06:04.406992",
     "exception": false,
     "start_time": "2023-07-10T01:06:04.363714",
     "status": "completed"
    },
    "tags": []
   },
   "outputs": [
    {
     "name": "stdout",
     "output_type": "stream",
     "text": [
      "/kaggle/input/playground-series-s3e18/sample_submission.csv\n",
      "/kaggle/input/playground-series-s3e18/train.csv\n",
      "/kaggle/input/playground-series-s3e18/test.csv\n"
     ]
    }
   ],
   "source": [
    "import numpy as np\n",
    "import pandas as pd\n",
    "\n",
    "import os\n",
    "for dirname, _, filenames in os.walk('/kaggle/input'):\n",
    "    for filename in filenames:\n",
    "        print(os.path.join(dirname, filename))"
   ]
  },
  {
   "cell_type": "code",
   "execution_count": 2,
   "id": "003567fa",
   "metadata": {
    "execution": {
     "iopub.execute_input": "2023-07-10T01:06:04.459411Z",
     "iopub.status.busy": "2023-07-10T01:06:04.458700Z",
     "iopub.status.idle": "2023-07-10T01:06:04.689604Z",
     "shell.execute_reply": "2023-07-10T01:06:04.688531Z"
    },
    "papermill": {
     "duration": 0.259943,
     "end_time": "2023-07-10T01:06:04.692058",
     "exception": false,
     "start_time": "2023-07-10T01:06:04.432115",
     "status": "completed"
    },
    "tags": []
   },
   "outputs": [
    {
     "data": {
      "text/html": [
       "<div>\n",
       "<style scoped>\n",
       "    .dataframe tbody tr th:only-of-type {\n",
       "        vertical-align: middle;\n",
       "    }\n",
       "\n",
       "    .dataframe tbody tr th {\n",
       "        vertical-align: top;\n",
       "    }\n",
       "\n",
       "    .dataframe thead th {\n",
       "        text-align: right;\n",
       "    }\n",
       "</style>\n",
       "<table border=\"1\" class=\"dataframe\">\n",
       "  <thead>\n",
       "    <tr style=\"text-align: right;\">\n",
       "      <th></th>\n",
       "      <th>id</th>\n",
       "      <th>BertzCT</th>\n",
       "      <th>Chi1</th>\n",
       "      <th>Chi1n</th>\n",
       "      <th>Chi1v</th>\n",
       "      <th>Chi2n</th>\n",
       "      <th>Chi2v</th>\n",
       "      <th>Chi3v</th>\n",
       "      <th>Chi4n</th>\n",
       "      <th>EState_VSA1</th>\n",
       "      <th>...</th>\n",
       "      <th>SlogP_VSA3</th>\n",
       "      <th>VSA_EState9</th>\n",
       "      <th>fr_COO</th>\n",
       "      <th>fr_COO2</th>\n",
       "      <th>EC1</th>\n",
       "      <th>EC2</th>\n",
       "      <th>EC3</th>\n",
       "      <th>EC4</th>\n",
       "      <th>EC5</th>\n",
       "      <th>EC6</th>\n",
       "    </tr>\n",
       "  </thead>\n",
       "  <tbody>\n",
       "    <tr>\n",
       "      <th>0</th>\n",
       "      <td>0</td>\n",
       "      <td>323.390782</td>\n",
       "      <td>9.879918</td>\n",
       "      <td>5.875576</td>\n",
       "      <td>5.875576</td>\n",
       "      <td>4.304757</td>\n",
       "      <td>4.304757</td>\n",
       "      <td>2.754513</td>\n",
       "      <td>1.749203</td>\n",
       "      <td>0.000000</td>\n",
       "      <td>...</td>\n",
       "      <td>4.794537</td>\n",
       "      <td>35.527357</td>\n",
       "      <td>0</td>\n",
       "      <td>0</td>\n",
       "      <td>1</td>\n",
       "      <td>1</td>\n",
       "      <td>0</td>\n",
       "      <td>0</td>\n",
       "      <td>0</td>\n",
       "      <td>0</td>\n",
       "    </tr>\n",
       "    <tr>\n",
       "      <th>1</th>\n",
       "      <td>1</td>\n",
       "      <td>273.723798</td>\n",
       "      <td>7.259037</td>\n",
       "      <td>4.441467</td>\n",
       "      <td>5.834958</td>\n",
       "      <td>3.285046</td>\n",
       "      <td>4.485235</td>\n",
       "      <td>2.201375</td>\n",
       "      <td>1.289775</td>\n",
       "      <td>45.135471</td>\n",
       "      <td>...</td>\n",
       "      <td>13.825658</td>\n",
       "      <td>44.707310</td>\n",
       "      <td>0</td>\n",
       "      <td>0</td>\n",
       "      <td>0</td>\n",
       "      <td>1</td>\n",
       "      <td>1</td>\n",
       "      <td>0</td>\n",
       "      <td>0</td>\n",
       "      <td>0</td>\n",
       "    </tr>\n",
       "    <tr>\n",
       "      <th>2</th>\n",
       "      <td>2</td>\n",
       "      <td>521.643822</td>\n",
       "      <td>10.911303</td>\n",
       "      <td>8.527859</td>\n",
       "      <td>11.050864</td>\n",
       "      <td>6.665291</td>\n",
       "      <td>9.519706</td>\n",
       "      <td>5.824822</td>\n",
       "      <td>1.770579</td>\n",
       "      <td>15.645394</td>\n",
       "      <td>...</td>\n",
       "      <td>17.964475</td>\n",
       "      <td>45.660120</td>\n",
       "      <td>0</td>\n",
       "      <td>0</td>\n",
       "      <td>1</td>\n",
       "      <td>1</td>\n",
       "      <td>0</td>\n",
       "      <td>0</td>\n",
       "      <td>1</td>\n",
       "      <td>0</td>\n",
       "    </tr>\n",
       "    <tr>\n",
       "      <th>3</th>\n",
       "      <td>3</td>\n",
       "      <td>567.431166</td>\n",
       "      <td>12.453343</td>\n",
       "      <td>7.089119</td>\n",
       "      <td>12.833709</td>\n",
       "      <td>6.478023</td>\n",
       "      <td>10.978151</td>\n",
       "      <td>7.914542</td>\n",
       "      <td>3.067181</td>\n",
       "      <td>95.639554</td>\n",
       "      <td>...</td>\n",
       "      <td>31.961948</td>\n",
       "      <td>87.509997</td>\n",
       "      <td>0</td>\n",
       "      <td>0</td>\n",
       "      <td>1</td>\n",
       "      <td>1</td>\n",
       "      <td>0</td>\n",
       "      <td>0</td>\n",
       "      <td>0</td>\n",
       "      <td>0</td>\n",
       "    </tr>\n",
       "    <tr>\n",
       "      <th>4</th>\n",
       "      <td>4</td>\n",
       "      <td>112.770735</td>\n",
       "      <td>4.414719</td>\n",
       "      <td>2.866236</td>\n",
       "      <td>2.866236</td>\n",
       "      <td>1.875634</td>\n",
       "      <td>1.875634</td>\n",
       "      <td>1.036450</td>\n",
       "      <td>0.727664</td>\n",
       "      <td>17.980451</td>\n",
       "      <td>...</td>\n",
       "      <td>9.589074</td>\n",
       "      <td>33.333333</td>\n",
       "      <td>2</td>\n",
       "      <td>2</td>\n",
       "      <td>1</td>\n",
       "      <td>0</td>\n",
       "      <td>1</td>\n",
       "      <td>1</td>\n",
       "      <td>1</td>\n",
       "      <td>0</td>\n",
       "    </tr>\n",
       "    <tr>\n",
       "      <th>...</th>\n",
       "      <td>...</td>\n",
       "      <td>...</td>\n",
       "      <td>...</td>\n",
       "      <td>...</td>\n",
       "      <td>...</td>\n",
       "      <td>...</td>\n",
       "      <td>...</td>\n",
       "      <td>...</td>\n",
       "      <td>...</td>\n",
       "      <td>...</td>\n",
       "      <td>...</td>\n",
       "      <td>...</td>\n",
       "      <td>...</td>\n",
       "      <td>...</td>\n",
       "      <td>...</td>\n",
       "      <td>...</td>\n",
       "      <td>...</td>\n",
       "      <td>...</td>\n",
       "      <td>...</td>\n",
       "      <td>...</td>\n",
       "      <td>...</td>\n",
       "    </tr>\n",
       "    <tr>\n",
       "      <th>14833</th>\n",
       "      <td>14833</td>\n",
       "      <td>632.207041</td>\n",
       "      <td>10.911303</td>\n",
       "      <td>6.579933</td>\n",
       "      <td>9.179964</td>\n",
       "      <td>4.653583</td>\n",
       "      <td>6.030052</td>\n",
       "      <td>3.670528</td>\n",
       "      <td>1.770579</td>\n",
       "      <td>32.971529</td>\n",
       "      <td>...</td>\n",
       "      <td>18.947452</td>\n",
       "      <td>61.376610</td>\n",
       "      <td>0</td>\n",
       "      <td>0</td>\n",
       "      <td>1</td>\n",
       "      <td>1</td>\n",
       "      <td>0</td>\n",
       "      <td>0</td>\n",
       "      <td>0</td>\n",
       "      <td>0</td>\n",
       "    </tr>\n",
       "    <tr>\n",
       "      <th>14834</th>\n",
       "      <td>14834</td>\n",
       "      <td>62.568425</td>\n",
       "      <td>2.642734</td>\n",
       "      <td>1.446898</td>\n",
       "      <td>1.446898</td>\n",
       "      <td>0.879497</td>\n",
       "      <td>0.879497</td>\n",
       "      <td>0.174620</td>\n",
       "      <td>0.000000</td>\n",
       "      <td>0.000000</td>\n",
       "      <td>...</td>\n",
       "      <td>0.000000</td>\n",
       "      <td>10.000000</td>\n",
       "      <td>0</td>\n",
       "      <td>0</td>\n",
       "      <td>0</td>\n",
       "      <td>1</td>\n",
       "      <td>0</td>\n",
       "      <td>1</td>\n",
       "      <td>0</td>\n",
       "      <td>0</td>\n",
       "    </tr>\n",
       "    <tr>\n",
       "      <th>14835</th>\n",
       "      <td>14835</td>\n",
       "      <td>981.327476</td>\n",
       "      <td>10.363081</td>\n",
       "      <td>6.146219</td>\n",
       "      <td>6.146219</td>\n",
       "      <td>4.700576</td>\n",
       "      <td>4.700576</td>\n",
       "      <td>3.064846</td>\n",
       "      <td>2.133897</td>\n",
       "      <td>17.248535</td>\n",
       "      <td>...</td>\n",
       "      <td>0.000000</td>\n",
       "      <td>66.666667</td>\n",
       "      <td>0</td>\n",
       "      <td>0</td>\n",
       "      <td>1</td>\n",
       "      <td>1</td>\n",
       "      <td>0</td>\n",
       "      <td>0</td>\n",
       "      <td>0</td>\n",
       "      <td>0</td>\n",
       "    </tr>\n",
       "    <tr>\n",
       "      <th>14836</th>\n",
       "      <td>14836</td>\n",
       "      <td>299.171248</td>\n",
       "      <td>9.949161</td>\n",
       "      <td>6.589761</td>\n",
       "      <td>7.848913</td>\n",
       "      <td>5.276568</td>\n",
       "      <td>5.476436</td>\n",
       "      <td>3.978973</td>\n",
       "      <td>2.299833</td>\n",
       "      <td>45.623794</td>\n",
       "      <td>...</td>\n",
       "      <td>9.088795</td>\n",
       "      <td>45.583333</td>\n",
       "      <td>0</td>\n",
       "      <td>0</td>\n",
       "      <td>0</td>\n",
       "      <td>1</td>\n",
       "      <td>1</td>\n",
       "      <td>0</td>\n",
       "      <td>0</td>\n",
       "      <td>0</td>\n",
       "    </tr>\n",
       "    <tr>\n",
       "      <th>14837</th>\n",
       "      <td>14837</td>\n",
       "      <td>785.394062</td>\n",
       "      <td>15.671142</td>\n",
       "      <td>9.896164</td>\n",
       "      <td>10.234264</td>\n",
       "      <td>7.860296</td>\n",
       "      <td>8.522605</td>\n",
       "      <td>5.645502</td>\n",
       "      <td>3.312893</td>\n",
       "      <td>82.448246</td>\n",
       "      <td>...</td>\n",
       "      <td>22.701338</td>\n",
       "      <td>71.127044</td>\n",
       "      <td>0</td>\n",
       "      <td>0</td>\n",
       "      <td>0</td>\n",
       "      <td>1</td>\n",
       "      <td>0</td>\n",
       "      <td>1</td>\n",
       "      <td>0</td>\n",
       "      <td>0</td>\n",
       "    </tr>\n",
       "  </tbody>\n",
       "</table>\n",
       "<p>14838 rows × 38 columns</p>\n",
       "</div>"
      ],
      "text/plain": [
       "          id     BertzCT       Chi1     Chi1n      Chi1v     Chi2n      Chi2v  \\\n",
       "0          0  323.390782   9.879918  5.875576   5.875576  4.304757   4.304757   \n",
       "1          1  273.723798   7.259037  4.441467   5.834958  3.285046   4.485235   \n",
       "2          2  521.643822  10.911303  8.527859  11.050864  6.665291   9.519706   \n",
       "3          3  567.431166  12.453343  7.089119  12.833709  6.478023  10.978151   \n",
       "4          4  112.770735   4.414719  2.866236   2.866236  1.875634   1.875634   \n",
       "...      ...         ...        ...       ...        ...       ...        ...   \n",
       "14833  14833  632.207041  10.911303  6.579933   9.179964  4.653583   6.030052   \n",
       "14834  14834   62.568425   2.642734  1.446898   1.446898  0.879497   0.879497   \n",
       "14835  14835  981.327476  10.363081  6.146219   6.146219  4.700576   4.700576   \n",
       "14836  14836  299.171248   9.949161  6.589761   7.848913  5.276568   5.476436   \n",
       "14837  14837  785.394062  15.671142  9.896164  10.234264  7.860296   8.522605   \n",
       "\n",
       "          Chi3v     Chi4n  EState_VSA1  ...  SlogP_VSA3  VSA_EState9  fr_COO  \\\n",
       "0      2.754513  1.749203     0.000000  ...    4.794537    35.527357       0   \n",
       "1      2.201375  1.289775    45.135471  ...   13.825658    44.707310       0   \n",
       "2      5.824822  1.770579    15.645394  ...   17.964475    45.660120       0   \n",
       "3      7.914542  3.067181    95.639554  ...   31.961948    87.509997       0   \n",
       "4      1.036450  0.727664    17.980451  ...    9.589074    33.333333       2   \n",
       "...         ...       ...          ...  ...         ...          ...     ...   \n",
       "14833  3.670528  1.770579    32.971529  ...   18.947452    61.376610       0   \n",
       "14834  0.174620  0.000000     0.000000  ...    0.000000    10.000000       0   \n",
       "14835  3.064846  2.133897    17.248535  ...    0.000000    66.666667       0   \n",
       "14836  3.978973  2.299833    45.623794  ...    9.088795    45.583333       0   \n",
       "14837  5.645502  3.312893    82.448246  ...   22.701338    71.127044       0   \n",
       "\n",
       "       fr_COO2  EC1  EC2  EC3  EC4  EC5  EC6  \n",
       "0            0    1    1    0    0    0    0  \n",
       "1            0    0    1    1    0    0    0  \n",
       "2            0    1    1    0    0    1    0  \n",
       "3            0    1    1    0    0    0    0  \n",
       "4            2    1    0    1    1    1    0  \n",
       "...        ...  ...  ...  ...  ...  ...  ...  \n",
       "14833        0    1    1    0    0    0    0  \n",
       "14834        0    0    1    0    1    0    0  \n",
       "14835        0    1    1    0    0    0    0  \n",
       "14836        0    0    1    1    0    0    0  \n",
       "14837        0    0    1    0    1    0    0  \n",
       "\n",
       "[14838 rows x 38 columns]"
      ]
     },
     "execution_count": 2,
     "metadata": {},
     "output_type": "execute_result"
    }
   ],
   "source": [
    "# Importar datos\n",
    "\n",
    "data_set = pd.read_csv(\"/kaggle/input/playground-series-s3e18/train.csv\")\n",
    "data_set"
   ]
  },
  {
   "cell_type": "code",
   "execution_count": 3,
   "id": "a049bb1e",
   "metadata": {
    "execution": {
     "iopub.execute_input": "2023-07-10T01:06:04.750187Z",
     "iopub.status.busy": "2023-07-10T01:06:04.749800Z",
     "iopub.status.idle": "2023-07-10T01:06:04.761700Z",
     "shell.execute_reply": "2023-07-10T01:06:04.760675Z"
    },
    "papermill": {
     "duration": 0.040739,
     "end_time": "2023-07-10T01:06:04.764102",
     "exception": false,
     "start_time": "2023-07-10T01:06:04.723363",
     "status": "completed"
    },
    "tags": []
   },
   "outputs": [
    {
     "data": {
      "text/plain": [
       "id                   0\n",
       "BertzCT              0\n",
       "Chi1                 0\n",
       "Chi1n                0\n",
       "Chi1v                0\n",
       "Chi2n                0\n",
       "Chi2v                0\n",
       "Chi3v                0\n",
       "Chi4n                0\n",
       "EState_VSA1          0\n",
       "EState_VSA2          0\n",
       "ExactMolWt           0\n",
       "FpDensityMorgan1     0\n",
       "FpDensityMorgan2     0\n",
       "FpDensityMorgan3     0\n",
       "HallKierAlpha        0\n",
       "HeavyAtomMolWt       0\n",
       "Kappa3               0\n",
       "MaxAbsEStateIndex    0\n",
       "MinEStateIndex       0\n",
       "NumHeteroatoms       0\n",
       "PEOE_VSA10           0\n",
       "PEOE_VSA14           0\n",
       "PEOE_VSA6            0\n",
       "PEOE_VSA7            0\n",
       "PEOE_VSA8            0\n",
       "SMR_VSA10            0\n",
       "SMR_VSA5             0\n",
       "SlogP_VSA3           0\n",
       "VSA_EState9          0\n",
       "fr_COO               0\n",
       "fr_COO2              0\n",
       "EC1                  0\n",
       "EC2                  0\n",
       "EC3                  0\n",
       "EC4                  0\n",
       "EC5                  0\n",
       "EC6                  0\n",
       "dtype: int64"
      ]
     },
     "execution_count": 3,
     "metadata": {},
     "output_type": "execute_result"
    }
   ],
   "source": [
    "# Revisar valores nan o null\n",
    "\n",
    "data_set.isna().sum()"
   ]
  },
  {
   "cell_type": "code",
   "execution_count": 4,
   "id": "b3e3fa22",
   "metadata": {
    "execution": {
     "iopub.execute_input": "2023-07-10T01:06:04.817107Z",
     "iopub.status.busy": "2023-07-10T01:06:04.816735Z",
     "iopub.status.idle": "2023-07-10T01:06:04.822918Z",
     "shell.execute_reply": "2023-07-10T01:06:04.821898Z"
    },
    "papermill": {
     "duration": 0.035713,
     "end_time": "2023-07-10T01:06:04.825053",
     "exception": false,
     "start_time": "2023-07-10T01:06:04.789340",
     "status": "completed"
    },
    "tags": []
   },
   "outputs": [],
   "source": [
    "# Borrar variables sin utilidad\n",
    "\n",
    "del data_set[\"EC3\"], data_set[\"EC4\"],data_set[\"EC5\"], data_set[\"EC6\"], data_set[\"id\"]"
   ]
  },
  {
   "cell_type": "code",
   "execution_count": 5,
   "id": "23d668a1",
   "metadata": {
    "execution": {
     "iopub.execute_input": "2023-07-10T01:06:04.877756Z",
     "iopub.status.busy": "2023-07-10T01:06:04.876877Z",
     "iopub.status.idle": "2023-07-10T01:06:07.276649Z",
     "shell.execute_reply": "2023-07-10T01:06:07.275577Z"
    },
    "papermill": {
     "duration": 2.42924,
     "end_time": "2023-07-10T01:06:07.280072",
     "exception": false,
     "start_time": "2023-07-10T01:06:04.850832",
     "status": "completed"
    },
    "tags": []
   },
   "outputs": [
    {
     "data": {
      "text/plain": [
       "<Axes: >"
      ]
     },
     "execution_count": 5,
     "metadata": {},
     "output_type": "execute_result"
    },
    {
     "data": {
      "image/png": "[encoded data removed]",
      "text/plain": [
       "<Figure size 1000x700 with 2 Axes>"
      ]
     },
     "metadata": {},
     "output_type": "display_data"
    }
   ],
   "source": [
    "# Construir heatmap para observar correlaciones\n",
    "\n",
    "import seaborn as sn\n",
    "import matplotlib.pyplot as plt\n",
    "\n",
    "corrmat = data_set.corr().abs()\n",
    "f, ax = plt.subplots(figsize=(10, 7))\n",
    "sn.heatmap(corrmat, square=True)"
   ]
  },
  {
   "cell_type": "code",
   "execution_count": 6,
   "id": "25f7d613",
   "metadata": {
    "execution": {
     "iopub.execute_input": "2023-07-10T01:06:07.334477Z",
     "iopub.status.busy": "2023-07-10T01:06:07.333855Z",
     "iopub.status.idle": "2023-07-10T01:06:07.340356Z",
     "shell.execute_reply": "2023-07-10T01:06:07.339544Z"
    },
    "papermill": {
     "duration": 0.036267,
     "end_time": "2023-07-10T01:06:07.342407",
     "exception": false,
     "start_time": "2023-07-10T01:06:07.306140",
     "status": "completed"
    },
    "tags": []
   },
   "outputs": [
    {
     "data": {
      "text/plain": [
       "0.9956968274327537"
      ]
     },
     "execution_count": 6,
     "metadata": {},
     "output_type": "execute_result"
    }
   ],
   "source": [
    "# Revisando correlaciones numericamente\n",
    "\n",
    "corrmat.loc[\"fr_COO\",\"fr_COO2\"]"
   ]
  },
  {
   "cell_type": "code",
   "execution_count": 7,
   "id": "9807cf02",
   "metadata": {
    "execution": {
     "iopub.execute_input": "2023-07-10T01:06:07.396696Z",
     "iopub.status.busy": "2023-07-10T01:06:07.396222Z",
     "iopub.status.idle": "2023-07-10T01:06:07.403720Z",
     "shell.execute_reply": "2023-07-10T01:06:07.402919Z"
    },
    "papermill": {
     "duration": 0.037517,
     "end_time": "2023-07-10T01:06:07.405722",
     "exception": false,
     "start_time": "2023-07-10T01:06:07.368205",
     "status": "completed"
    },
    "tags": []
   },
   "outputs": [
    {
     "data": {
      "text/plain": [
       "(0.9992158423518994, 0.9974520788606056, 0.9988169363116716)"
      ]
     },
     "execution_count": 7,
     "metadata": {},
     "output_type": "execute_result"
    }
   ],
   "source": [
    "# Revisando correlaciones numericamente\n",
    "\n",
    "corrmat.loc[\"FpDensityMorgan1\",\"FpDensityMorgan2\"], corrmat.loc[\"FpDensityMorgan1\",\"FpDensityMorgan3\"], corrmat.loc[\"FpDensityMorgan2\",\"FpDensityMorgan3\"] "
   ]
  },
  {
   "cell_type": "code",
   "execution_count": 8,
   "id": "6040e602",
   "metadata": {
    "execution": {
     "iopub.execute_input": "2023-07-10T01:06:07.463197Z",
     "iopub.status.busy": "2023-07-10T01:06:07.462514Z",
     "iopub.status.idle": "2023-07-10T01:06:07.471802Z",
     "shell.execute_reply": "2023-07-10T01:06:07.471048Z"
    },
    "papermill": {
     "duration": 0.040134,
     "end_time": "2023-07-10T01:06:07.473938",
     "exception": false,
     "start_time": "2023-07-10T01:06:07.433804",
     "status": "completed"
    },
    "tags": []
   },
   "outputs": [
    {
     "data": {
      "text/plain": [
       "(BertzCT              0.060120\n",
       " Chi1                 0.069660\n",
       " Chi1n                0.055030\n",
       " Chi1v                0.065679\n",
       " Chi2n                0.056264\n",
       " Chi2v                0.064649\n",
       " Chi3v                0.061797\n",
       " Chi4n                0.054333\n",
       " EState_VSA1          0.173752\n",
       " EState_VSA2          0.040751\n",
       " ExactMolWt           0.075954\n",
       " FpDensityMorgan1     0.000125\n",
       " FpDensityMorgan2     0.002198\n",
       " FpDensityMorgan3     0.005985\n",
       " HallKierAlpha        0.020765\n",
       " HeavyAtomMolWt       0.078682\n",
       " Kappa3               0.002552\n",
       " MaxAbsEStateIndex    0.122893\n",
       " MinEStateIndex       0.208827\n",
       " NumHeteroatoms       0.127448\n",
       " PEOE_VSA10           0.115469\n",
       " PEOE_VSA14           0.123488\n",
       " PEOE_VSA6            0.084942\n",
       " PEOE_VSA7            0.083718\n",
       " PEOE_VSA8            0.052619\n",
       " SMR_VSA10            0.025373\n",
       " SMR_VSA5             0.056336\n",
       " SlogP_VSA3           0.109439\n",
       " VSA_EState9          0.093636\n",
       " fr_COO               0.014353\n",
       " fr_COO2              0.014989\n",
       " EC1                  1.000000\n",
       " EC2                  0.146059\n",
       " Name: EC1, dtype: float64,\n",
       " BertzCT              0.024188\n",
       " Chi1                 0.027768\n",
       " Chi1n                0.030101\n",
       " Chi1v                0.029933\n",
       " Chi2n                0.027566\n",
       " Chi2v                0.028716\n",
       " Chi3v                0.029776\n",
       " Chi4n                0.030007\n",
       " EState_VSA1          0.012578\n",
       " EState_VSA2          0.034391\n",
       " ExactMolWt           0.030487\n",
       " FpDensityMorgan1     0.003914\n",
       " FpDensityMorgan2     0.004619\n",
       " FpDensityMorgan3     0.004831\n",
       " HallKierAlpha        0.039798\n",
       " HeavyAtomMolWt       0.029901\n",
       " Kappa3               0.002803\n",
       " MaxAbsEStateIndex    0.031225\n",
       " MinEStateIndex       0.000630\n",
       " NumHeteroatoms       0.016646\n",
       " PEOE_VSA10           0.010913\n",
       " PEOE_VSA14           0.017258\n",
       " PEOE_VSA6            0.040313\n",
       " PEOE_VSA7            0.030671\n",
       " PEOE_VSA8            0.044334\n",
       " SMR_VSA10            0.041555\n",
       " SMR_VSA5             0.031442\n",
       " SlogP_VSA3           0.031082\n",
       " VSA_EState9          0.034380\n",
       " fr_COO               0.068516\n",
       " fr_COO2              0.067992\n",
       " EC1                  0.146059\n",
       " EC2                  1.000000\n",
       " Name: EC2, dtype: float64)"
      ]
     },
     "execution_count": 8,
     "metadata": {},
     "output_type": "execute_result"
    }
   ],
   "source": [
    "# Revisando correlaciones numericamente\n",
    "\n",
    "corrmat.loc[\"EC1\"], corrmat.loc[\"EC2\"] "
   ]
  },
  {
   "cell_type": "code",
   "execution_count": 9,
   "id": "2770e7fe",
   "metadata": {
    "execution": {
     "iopub.execute_input": "2023-07-10T01:06:07.531612Z",
     "iopub.status.busy": "2023-07-10T01:06:07.530957Z",
     "iopub.status.idle": "2023-07-10T01:06:07.538624Z",
     "shell.execute_reply": "2023-07-10T01:06:07.537865Z"
    },
    "papermill": {
     "duration": 0.039456,
     "end_time": "2023-07-10T01:06:07.540735",
     "exception": false,
     "start_time": "2023-07-10T01:06:07.501279",
     "status": "completed"
    },
    "tags": []
   },
   "outputs": [
    {
     "data": {
      "text/plain": [
       "BertzCT              0.916533\n",
       "Chi1                 0.961543\n",
       "Chi1n                0.939796\n",
       "Chi1v                0.961587\n",
       "Chi2n                0.928774\n",
       "Chi2v                0.956842\n",
       "Chi3v                0.942007\n",
       "Chi4n                0.841389\n",
       "EState_VSA1          0.766878\n",
       "EState_VSA2          0.663346\n",
       "ExactMolWt           0.994905\n",
       "FpDensityMorgan1     0.022002\n",
       "FpDensityMorgan2     0.011231\n",
       "FpDensityMorgan3     0.012100\n",
       "HallKierAlpha        0.577941\n",
       "HeavyAtomMolWt       1.000000\n",
       "Kappa3               0.073555\n",
       "MaxAbsEStateIndex    0.644824\n",
       "MinEStateIndex       0.643817\n",
       "NumHeteroatoms       0.871039\n",
       "PEOE_VSA10           0.679597\n",
       "PEOE_VSA14           0.259804\n",
       "PEOE_VSA6            0.487616\n",
       "PEOE_VSA7            0.187222\n",
       "PEOE_VSA8            0.662362\n",
       "SMR_VSA10            0.772290\n",
       "SMR_VSA5             0.748263\n",
       "SlogP_VSA3           0.841745\n",
       "VSA_EState9          0.889792\n",
       "fr_COO               0.215636\n",
       "fr_COO2              0.217457\n",
       "EC1                  0.078682\n",
       "EC2                  0.029901\n",
       "Name: HeavyAtomMolWt, dtype: float64"
      ]
     },
     "execution_count": 9,
     "metadata": {},
     "output_type": "execute_result"
    }
   ],
   "source": [
    "# Revisando correlaciones numericamente\n",
    "\n",
    "corrmat.loc[\"HeavyAtomMolWt\"]"
   ]
  },
  {
   "cell_type": "code",
   "execution_count": 10,
   "id": "1712737a",
   "metadata": {
    "execution": {
     "iopub.execute_input": "2023-07-10T01:06:07.599222Z",
     "iopub.status.busy": "2023-07-10T01:06:07.598455Z",
     "iopub.status.idle": "2023-07-10T01:06:07.607633Z",
     "shell.execute_reply": "2023-07-10T01:06:07.606766Z"
    },
    "papermill": {
     "duration": 0.040727,
     "end_time": "2023-07-10T01:06:07.610027",
     "exception": false,
     "start_time": "2023-07-10T01:06:07.569300",
     "status": "completed"
    },
    "tags": []
   },
   "outputs": [],
   "source": [
    "# Eliminando variables redundantes\n",
    "\n",
    "variables_to_drop = ['FpDensityMorgan2', 'FpDensityMorgan1', 'fr_COO2', 'HeavyAtomMolWt', 'Chi1', 'Chi1v', 'Chi2v', 'BertzCT', 'Chi4n', 'Chi3v', 'Chi1n', 'Chi2n']\n",
    "for i in variables_to_drop:\n",
    "    del data_set[i]"
   ]
  },
  {
   "cell_type": "code",
   "execution_count": 11,
   "id": "6d420d90",
   "metadata": {
    "execution": {
     "iopub.execute_input": "2023-07-10T01:06:07.666666Z",
     "iopub.status.busy": "2023-07-10T01:06:07.666231Z",
     "iopub.status.idle": "2023-07-10T01:06:07.824295Z",
     "shell.execute_reply": "2023-07-10T01:06:07.823503Z"
    },
    "papermill": {
     "duration": 0.189469,
     "end_time": "2023-07-10T01:06:07.826803",
     "exception": false,
     "start_time": "2023-07-10T01:06:07.637334",
     "status": "completed"
    },
    "tags": []
   },
   "outputs": [],
   "source": [
    "\n",
    "# Normalizando\n",
    "\n",
    "from sklearn.preprocessing import MinMaxScaler\n",
    "\n",
    "scaler = MinMaxScaler()\n",
    "scaler_data = scaler.fit(data_set)\n",
    "data_set_scaled = pd.DataFrame(scaler_data.transform(data_set), index=data_set.index, columns=data_set.columns)\n"
   ]
  },
  {
   "cell_type": "code",
   "execution_count": 12,
   "id": "a1259755",
   "metadata": {
    "execution": {
     "iopub.execute_input": "2023-07-10T01:06:07.883107Z",
     "iopub.status.busy": "2023-07-10T01:06:07.882742Z",
     "iopub.status.idle": "2023-07-10T01:06:07.901194Z",
     "shell.execute_reply": "2023-07-10T01:06:07.900294Z"
    },
    "papermill": {
     "duration": 0.049492,
     "end_time": "2023-07-10T01:06:07.903593",
     "exception": false,
     "start_time": "2023-07-10T01:06:07.854101",
     "status": "completed"
    },
    "tags": []
   },
   "outputs": [
    {
     "data": {
      "text/html": [
       "<div>\n",
       "<style scoped>\n",
       "    .dataframe tbody tr th:only-of-type {\n",
       "        vertical-align: middle;\n",
       "    }\n",
       "\n",
       "    .dataframe tbody tr th {\n",
       "        vertical-align: top;\n",
       "    }\n",
       "\n",
       "    .dataframe thead th {\n",
       "        text-align: right;\n",
       "    }\n",
       "</style>\n",
       "<table border=\"1\" class=\"dataframe\">\n",
       "  <thead>\n",
       "    <tr style=\"text-align: right;\">\n",
       "      <th></th>\n",
       "      <th>EC1</th>\n",
       "      <th>EC2</th>\n",
       "    </tr>\n",
       "  </thead>\n",
       "  <tbody>\n",
       "    <tr>\n",
       "      <th>0</th>\n",
       "      <td>1.0</td>\n",
       "      <td>1.0</td>\n",
       "    </tr>\n",
       "    <tr>\n",
       "      <th>1</th>\n",
       "      <td>0.0</td>\n",
       "      <td>1.0</td>\n",
       "    </tr>\n",
       "    <tr>\n",
       "      <th>2</th>\n",
       "      <td>1.0</td>\n",
       "      <td>1.0</td>\n",
       "    </tr>\n",
       "    <tr>\n",
       "      <th>3</th>\n",
       "      <td>1.0</td>\n",
       "      <td>1.0</td>\n",
       "    </tr>\n",
       "    <tr>\n",
       "      <th>4</th>\n",
       "      <td>1.0</td>\n",
       "      <td>0.0</td>\n",
       "    </tr>\n",
       "    <tr>\n",
       "      <th>...</th>\n",
       "      <td>...</td>\n",
       "      <td>...</td>\n",
       "    </tr>\n",
       "    <tr>\n",
       "      <th>14833</th>\n",
       "      <td>1.0</td>\n",
       "      <td>1.0</td>\n",
       "    </tr>\n",
       "    <tr>\n",
       "      <th>14834</th>\n",
       "      <td>0.0</td>\n",
       "      <td>1.0</td>\n",
       "    </tr>\n",
       "    <tr>\n",
       "      <th>14835</th>\n",
       "      <td>1.0</td>\n",
       "      <td>1.0</td>\n",
       "    </tr>\n",
       "    <tr>\n",
       "      <th>14836</th>\n",
       "      <td>0.0</td>\n",
       "      <td>1.0</td>\n",
       "    </tr>\n",
       "    <tr>\n",
       "      <th>14837</th>\n",
       "      <td>0.0</td>\n",
       "      <td>1.0</td>\n",
       "    </tr>\n",
       "  </tbody>\n",
       "</table>\n",
       "<p>14838 rows × 2 columns</p>\n",
       "</div>"
      ],
      "text/plain": [
       "       EC1  EC2\n",
       "0      1.0  1.0\n",
       "1      0.0  1.0\n",
       "2      1.0  1.0\n",
       "3      1.0  1.0\n",
       "4      1.0  0.0\n",
       "...    ...  ...\n",
       "14833  1.0  1.0\n",
       "14834  0.0  1.0\n",
       "14835  1.0  1.0\n",
       "14836  0.0  1.0\n",
       "14837  0.0  1.0\n",
       "\n",
       "[14838 rows x 2 columns]"
      ]
     },
     "execution_count": 12,
     "metadata": {},
     "output_type": "execute_result"
    }
   ],
   "source": [
    "# Quitamos y del data_set\n",
    "\n",
    "y = data_set_scaled[['EC1', 'EC2']].copy() #toma el valor de 1 cuando la variable es si y 0 cuando la variable es no\n",
    "del data_set_scaled['EC1'], data_set_scaled[\"EC2\"]\n",
    "X = data_set_scaled\n",
    "y"
   ]
  },
  {
   "cell_type": "code",
   "execution_count": 13,
   "id": "06e14bfd",
   "metadata": {
    "execution": {
     "iopub.execute_input": "2023-07-10T01:06:07.961013Z",
     "iopub.status.busy": "2023-07-10T01:06:07.960605Z",
     "iopub.status.idle": "2023-07-10T01:06:08.073431Z",
     "shell.execute_reply": "2023-07-10T01:06:08.072270Z"
    },
    "papermill": {
     "duration": 0.144403,
     "end_time": "2023-07-10T01:06:08.076130",
     "exception": false,
     "start_time": "2023-07-10T01:06:07.931727",
     "status": "completed"
    },
    "tags": []
   },
   "outputs": [],
   "source": [
    "# Separamos el train y test set\n",
    "\n",
    "from sklearn.model_selection import train_test_split\n",
    "\n",
    "X_train, X_test, y_train, y_test = train_test_split(X, y, test_size=0.2, random_state=0)\n"
   ]
  },
  {
   "cell_type": "code",
   "execution_count": 14,
   "id": "aea5af6c",
   "metadata": {
    "execution": {
     "iopub.execute_input": "2023-07-10T01:06:08.135588Z",
     "iopub.status.busy": "2023-07-10T01:06:08.134987Z",
     "iopub.status.idle": "2023-07-10T01:06:08.147456Z",
     "shell.execute_reply": "2023-07-10T01:06:08.146092Z"
    },
    "papermill": {
     "duration": 0.045201,
     "end_time": "2023-07-10T01:06:08.149821",
     "exception": false,
     "start_time": "2023-07-10T01:06:08.104620",
     "status": "completed"
    },
    "tags": []
   },
   "outputs": [
    {
     "name": "stdout",
     "output_type": "stream",
     "text": [
      "EC1  EC2\n",
      "1.0  1.0    6045\n",
      "0.0  1.0    3468\n",
      "1.0  0.0    1877\n",
      "0.0  0.0     480\n",
      "dtype: int64\n"
     ]
    }
   ],
   "source": [
    "# Observando los valores de y\n",
    "\n",
    "print(y_train.value_counts())"
   ]
  },
  {
   "cell_type": "code",
   "execution_count": 15,
   "id": "6caef9ce",
   "metadata": {
    "execution": {
     "iopub.execute_input": "2023-07-10T01:06:08.207238Z",
     "iopub.status.busy": "2023-07-10T01:06:08.206064Z",
     "iopub.status.idle": "2023-07-10T01:06:08.221722Z",
     "shell.execute_reply": "2023-07-10T01:06:08.219206Z"
    },
    "papermill": {
     "duration": 0.046886,
     "end_time": "2023-07-10T01:06:08.224100",
     "exception": false,
     "start_time": "2023-07-10T01:06:08.177214",
     "status": "completed"
    },
    "tags": []
   },
   "outputs": [
    {
     "name": "stdout",
     "output_type": "stream",
     "text": [
      "EC1    11870\n",
      "EC2    11870\n",
      "dtype: int64 EState_VSA1          11870\n",
      "EState_VSA2          11870\n",
      "ExactMolWt           11870\n",
      "FpDensityMorgan3     11870\n",
      "HallKierAlpha        11870\n",
      "Kappa3               11870\n",
      "MaxAbsEStateIndex    11870\n",
      "MinEStateIndex       11870\n",
      "NumHeteroatoms       11870\n",
      "PEOE_VSA10           11870\n",
      "PEOE_VSA14           11870\n",
      "PEOE_VSA6            11870\n",
      "PEOE_VSA7            11870\n",
      "PEOE_VSA8            11870\n",
      "SMR_VSA10            11870\n",
      "SMR_VSA5             11870\n",
      "SlogP_VSA3           11870\n",
      "VSA_EState9          11870\n",
      "fr_COO               11870\n",
      "dtype: int64 EC1    2968\n",
      "EC2    2968\n",
      "dtype: int64 EState_VSA1          11870\n",
      "EState_VSA2          11870\n",
      "ExactMolWt           11870\n",
      "FpDensityMorgan3     11870\n",
      "HallKierAlpha        11870\n",
      "Kappa3               11870\n",
      "MaxAbsEStateIndex    11870\n",
      "MinEStateIndex       11870\n",
      "NumHeteroatoms       11870\n",
      "PEOE_VSA10           11870\n",
      "PEOE_VSA14           11870\n",
      "PEOE_VSA6            11870\n",
      "PEOE_VSA7            11870\n",
      "PEOE_VSA8            11870\n",
      "SMR_VSA10            11870\n",
      "SMR_VSA5             11870\n",
      "SlogP_VSA3           11870\n",
      "VSA_EState9          11870\n",
      "fr_COO               11870\n",
      "dtype: int64\n"
     ]
    }
   ],
   "source": [
    "# Observando los valores de los sets\n",
    "\n",
    "print(y_train.count(),X_train.count(),y_test.count(),X_train.count())"
   ]
  },
  {
   "cell_type": "code",
   "execution_count": 16,
   "id": "03680e26",
   "metadata": {
    "execution": {
     "iopub.execute_input": "2023-07-10T01:06:08.282248Z",
     "iopub.status.busy": "2023-07-10T01:06:08.281609Z",
     "iopub.status.idle": "2023-07-10T01:06:08.319224Z",
     "shell.execute_reply": "2023-07-10T01:06:08.318012Z"
    },
    "papermill": {
     "duration": 0.070794,
     "end_time": "2023-07-10T01:06:08.322562",
     "exception": false,
     "start_time": "2023-07-10T01:06:08.251768",
     "status": "completed"
    },
    "tags": []
   },
   "outputs": [
    {
     "data": {
      "text/html": [
       "<div>\n",
       "<style scoped>\n",
       "    .dataframe tbody tr th:only-of-type {\n",
       "        vertical-align: middle;\n",
       "    }\n",
       "\n",
       "    .dataframe tbody tr th {\n",
       "        vertical-align: top;\n",
       "    }\n",
       "\n",
       "    .dataframe thead th {\n",
       "        text-align: right;\n",
       "    }\n",
       "</style>\n",
       "<table border=\"1\" class=\"dataframe\">\n",
       "  <thead>\n",
       "    <tr style=\"text-align: right;\">\n",
       "      <th></th>\n",
       "      <th>EState_VSA1</th>\n",
       "      <th>EState_VSA2</th>\n",
       "      <th>ExactMolWt</th>\n",
       "      <th>FpDensityMorgan3</th>\n",
       "      <th>HallKierAlpha</th>\n",
       "      <th>Kappa3</th>\n",
       "      <th>MaxAbsEStateIndex</th>\n",
       "      <th>MinEStateIndex</th>\n",
       "      <th>NumHeteroatoms</th>\n",
       "      <th>PEOE_VSA10</th>\n",
       "      <th>PEOE_VSA14</th>\n",
       "      <th>PEOE_VSA6</th>\n",
       "      <th>PEOE_VSA7</th>\n",
       "      <th>PEOE_VSA8</th>\n",
       "      <th>SMR_VSA10</th>\n",
       "      <th>SMR_VSA5</th>\n",
       "      <th>SlogP_VSA3</th>\n",
       "      <th>VSA_EState9</th>\n",
       "      <th>fr_COO</th>\n",
       "    </tr>\n",
       "  </thead>\n",
       "  <tbody>\n",
       "    <tr>\n",
       "      <th>487</th>\n",
       "      <td>0.016412</td>\n",
       "      <td>0.057532</td>\n",
       "      <td>0.078265</td>\n",
       "      <td>0.997909</td>\n",
       "      <td>0.722807</td>\n",
       "      <td>0.065237</td>\n",
       "      <td>0.660166</td>\n",
       "      <td>0.447844</td>\n",
       "      <td>0.095238</td>\n",
       "      <td>0.000000</td>\n",
       "      <td>0.012373</td>\n",
       "      <td>0.000000</td>\n",
       "      <td>0.000000</td>\n",
       "      <td>0.178948</td>\n",
       "      <td>0.073930</td>\n",
       "      <td>0.000000</td>\n",
       "      <td>0.000000</td>\n",
       "      <td>0.100707</td>\n",
       "      <td>0.000</td>\n",
       "    </tr>\n",
       "    <tr>\n",
       "      <th>10974</th>\n",
       "      <td>0.043017</td>\n",
       "      <td>0.066111</td>\n",
       "      <td>0.075567</td>\n",
       "      <td>0.997909</td>\n",
       "      <td>0.904094</td>\n",
       "      <td>0.067562</td>\n",
       "      <td>0.624424</td>\n",
       "      <td>0.103926</td>\n",
       "      <td>0.214286</td>\n",
       "      <td>0.000000</td>\n",
       "      <td>0.032430</td>\n",
       "      <td>0.000000</td>\n",
       "      <td>0.032736</td>\n",
       "      <td>0.000000</td>\n",
       "      <td>0.193770</td>\n",
       "      <td>0.028104</td>\n",
       "      <td>0.155663</td>\n",
       "      <td>0.067840</td>\n",
       "      <td>0.000</td>\n",
       "    </tr>\n",
       "    <tr>\n",
       "      <th>2600</th>\n",
       "      <td>0.123387</td>\n",
       "      <td>0.000000</td>\n",
       "      <td>0.119425</td>\n",
       "      <td>0.998019</td>\n",
       "      <td>0.723977</td>\n",
       "      <td>0.066615</td>\n",
       "      <td>0.627068</td>\n",
       "      <td>0.132185</td>\n",
       "      <td>0.309524</td>\n",
       "      <td>0.247071</td>\n",
       "      <td>0.016215</td>\n",
       "      <td>0.000000</td>\n",
       "      <td>0.000000</td>\n",
       "      <td>0.000000</td>\n",
       "      <td>0.096885</td>\n",
       "      <td>0.049804</td>\n",
       "      <td>0.119800</td>\n",
       "      <td>0.157321</td>\n",
       "      <td>0.000</td>\n",
       "    </tr>\n",
       "    <tr>\n",
       "      <th>12665</th>\n",
       "      <td>0.066049</td>\n",
       "      <td>0.064249</td>\n",
       "      <td>0.074665</td>\n",
       "      <td>0.998407</td>\n",
       "      <td>0.752047</td>\n",
       "      <td>0.065161</td>\n",
       "      <td>0.657498</td>\n",
       "      <td>0.398646</td>\n",
       "      <td>0.166667</td>\n",
       "      <td>0.000000</td>\n",
       "      <td>0.000000</td>\n",
       "      <td>0.000000</td>\n",
       "      <td>0.028728</td>\n",
       "      <td>0.181180</td>\n",
       "      <td>0.145556</td>\n",
       "      <td>0.049930</td>\n",
       "      <td>0.085293</td>\n",
       "      <td>0.119089</td>\n",
       "      <td>0.000</td>\n",
       "    </tr>\n",
       "    <tr>\n",
       "      <th>7926</th>\n",
       "      <td>0.016783</td>\n",
       "      <td>0.122118</td>\n",
       "      <td>0.032651</td>\n",
       "      <td>0.998656</td>\n",
       "      <td>0.890058</td>\n",
       "      <td>0.066795</td>\n",
       "      <td>0.615372</td>\n",
       "      <td>0.452339</td>\n",
       "      <td>0.071429</td>\n",
       "      <td>0.000000</td>\n",
       "      <td>0.000000</td>\n",
       "      <td>0.000000</td>\n",
       "      <td>0.000000</td>\n",
       "      <td>0.055441</td>\n",
       "      <td>0.000000</td>\n",
       "      <td>0.000000</td>\n",
       "      <td>0.000000</td>\n",
       "      <td>0.065654</td>\n",
       "      <td>0.000</td>\n",
       "    </tr>\n",
       "    <tr>\n",
       "      <th>3569</th>\n",
       "      <td>0.124099</td>\n",
       "      <td>0.064249</td>\n",
       "      <td>0.133302</td>\n",
       "      <td>0.998859</td>\n",
       "      <td>0.692398</td>\n",
       "      <td>0.066575</td>\n",
       "      <td>0.732790</td>\n",
       "      <td>0.119605</td>\n",
       "      <td>0.261905</td>\n",
       "      <td>0.064366</td>\n",
       "      <td>0.016215</td>\n",
       "      <td>0.000000</td>\n",
       "      <td>0.000000</td>\n",
       "      <td>0.063985</td>\n",
       "      <td>0.478020</td>\n",
       "      <td>0.049804</td>\n",
       "      <td>0.158998</td>\n",
       "      <td>0.146875</td>\n",
       "      <td>0.000</td>\n",
       "    </tr>\n",
       "    <tr>\n",
       "      <th>11824</th>\n",
       "      <td>0.000000</td>\n",
       "      <td>0.057532</td>\n",
       "      <td>0.058154</td>\n",
       "      <td>0.998207</td>\n",
       "      <td>0.894737</td>\n",
       "      <td>0.065583</td>\n",
       "      <td>0.526934</td>\n",
       "      <td>0.528989</td>\n",
       "      <td>0.047619</td>\n",
       "      <td>0.058871</td>\n",
       "      <td>0.000000</td>\n",
       "      <td>0.048476</td>\n",
       "      <td>0.057365</td>\n",
       "      <td>0.000000</td>\n",
       "      <td>0.000000</td>\n",
       "      <td>0.000000</td>\n",
       "      <td>0.000000</td>\n",
       "      <td>0.069501</td>\n",
       "      <td>0.000</td>\n",
       "    </tr>\n",
       "    <tr>\n",
       "      <th>8253</th>\n",
       "      <td>0.000000</td>\n",
       "      <td>0.234982</td>\n",
       "      <td>0.115826</td>\n",
       "      <td>0.998656</td>\n",
       "      <td>0.732164</td>\n",
       "      <td>0.065161</td>\n",
       "      <td>0.663631</td>\n",
       "      <td>0.464317</td>\n",
       "      <td>0.095238</td>\n",
       "      <td>0.000000</td>\n",
       "      <td>0.000000</td>\n",
       "      <td>0.000000</td>\n",
       "      <td>0.000000</td>\n",
       "      <td>0.120906</td>\n",
       "      <td>0.135855</td>\n",
       "      <td>0.025293</td>\n",
       "      <td>0.000000</td>\n",
       "      <td>0.127639</td>\n",
       "      <td>0.000</td>\n",
       "    </tr>\n",
       "    <tr>\n",
       "      <th>14593</th>\n",
       "      <td>0.232482</td>\n",
       "      <td>0.416338</td>\n",
       "      <td>0.396246</td>\n",
       "      <td>0.998581</td>\n",
       "      <td>0.618713</td>\n",
       "      <td>0.072918</td>\n",
       "      <td>0.816791</td>\n",
       "      <td>0.060242</td>\n",
       "      <td>0.666667</td>\n",
       "      <td>0.371274</td>\n",
       "      <td>0.048645</td>\n",
       "      <td>0.359288</td>\n",
       "      <td>0.000000</td>\n",
       "      <td>0.369702</td>\n",
       "      <td>0.856321</td>\n",
       "      <td>0.299814</td>\n",
       "      <td>0.439296</td>\n",
       "      <td>0.315531</td>\n",
       "      <td>0.000</td>\n",
       "    </tr>\n",
       "    <tr>\n",
       "      <th>14556</th>\n",
       "      <td>0.049437</td>\n",
       "      <td>0.000000</td>\n",
       "      <td>0.066632</td>\n",
       "      <td>0.998573</td>\n",
       "      <td>0.775439</td>\n",
       "      <td>0.066751</td>\n",
       "      <td>0.639393</td>\n",
       "      <td>0.418739</td>\n",
       "      <td>0.119048</td>\n",
       "      <td>0.061864</td>\n",
       "      <td>0.024747</td>\n",
       "      <td>0.000000</td>\n",
       "      <td>0.060717</td>\n",
       "      <td>0.000000</td>\n",
       "      <td>0.147861</td>\n",
       "      <td>0.038324</td>\n",
       "      <td>0.083090</td>\n",
       "      <td>0.110539</td>\n",
       "      <td>0.125</td>\n",
       "    </tr>\n",
       "    <tr>\n",
       "      <th>5107</th>\n",
       "      <td>0.227225</td>\n",
       "      <td>0.058216</td>\n",
       "      <td>0.260812</td>\n",
       "      <td>0.998425</td>\n",
       "      <td>0.718129</td>\n",
       "      <td>0.068669</td>\n",
       "      <td>0.655015</td>\n",
       "      <td>0.062210</td>\n",
       "      <td>0.428571</td>\n",
       "      <td>0.437500</td>\n",
       "      <td>0.044224</td>\n",
       "      <td>0.000000</td>\n",
       "      <td>0.000000</td>\n",
       "      <td>0.137994</td>\n",
       "      <td>0.265395</td>\n",
       "      <td>0.124636</td>\n",
       "      <td>0.318497</td>\n",
       "      <td>0.191242</td>\n",
       "      <td>0.000</td>\n",
       "    </tr>\n",
       "    <tr>\n",
       "      <th>5344</th>\n",
       "      <td>0.226689</td>\n",
       "      <td>0.000000</td>\n",
       "      <td>0.144478</td>\n",
       "      <td>0.998506</td>\n",
       "      <td>0.876023</td>\n",
       "      <td>0.067195</td>\n",
       "      <td>0.719357</td>\n",
       "      <td>0.139907</td>\n",
       "      <td>0.333333</td>\n",
       "      <td>0.187500</td>\n",
       "      <td>0.044224</td>\n",
       "      <td>0.000000</td>\n",
       "      <td>0.000000</td>\n",
       "      <td>0.000000</td>\n",
       "      <td>0.265395</td>\n",
       "      <td>0.050447</td>\n",
       "      <td>0.276952</td>\n",
       "      <td>0.193043</td>\n",
       "      <td>0.000</td>\n",
       "    </tr>\n",
       "    <tr>\n",
       "      <th>14022</th>\n",
       "      <td>0.073872</td>\n",
       "      <td>0.122465</td>\n",
       "      <td>0.127035</td>\n",
       "      <td>0.998531</td>\n",
       "      <td>0.673684</td>\n",
       "      <td>0.066517</td>\n",
       "      <td>0.673056</td>\n",
       "      <td>0.120019</td>\n",
       "      <td>0.190476</td>\n",
       "      <td>0.058871</td>\n",
       "      <td>0.028588</td>\n",
       "      <td>0.017103</td>\n",
       "      <td>0.114730</td>\n",
       "      <td>0.063985</td>\n",
       "      <td>0.291113</td>\n",
       "      <td>0.024776</td>\n",
       "      <td>0.119800</td>\n",
       "      <td>0.104341</td>\n",
       "      <td>0.000</td>\n",
       "    </tr>\n",
       "    <tr>\n",
       "      <th>5816</th>\n",
       "      <td>0.059799</td>\n",
       "      <td>0.066111</td>\n",
       "      <td>0.118558</td>\n",
       "      <td>0.998805</td>\n",
       "      <td>0.692398</td>\n",
       "      <td>0.067004</td>\n",
       "      <td>0.724917</td>\n",
       "      <td>0.083127</td>\n",
       "      <td>0.261905</td>\n",
       "      <td>0.247543</td>\n",
       "      <td>0.032430</td>\n",
       "      <td>0.000000</td>\n",
       "      <td>0.000000</td>\n",
       "      <td>0.063985</td>\n",
       "      <td>0.404090</td>\n",
       "      <td>0.050447</td>\n",
       "      <td>0.196708</td>\n",
       "      <td>0.142143</td>\n",
       "      <td>0.000</td>\n",
       "    </tr>\n",
       "    <tr>\n",
       "      <th>7731</th>\n",
       "      <td>0.278244</td>\n",
       "      <td>0.055670</td>\n",
       "      <td>0.271015</td>\n",
       "      <td>0.998330</td>\n",
       "      <td>0.614035</td>\n",
       "      <td>0.071079</td>\n",
       "      <td>0.782160</td>\n",
       "      <td>0.056818</td>\n",
       "      <td>0.547619</td>\n",
       "      <td>0.436864</td>\n",
       "      <td>0.044224</td>\n",
       "      <td>0.000000</td>\n",
       "      <td>0.000000</td>\n",
       "      <td>0.191203</td>\n",
       "      <td>0.266930</td>\n",
       "      <td>0.116358</td>\n",
       "      <td>0.318497</td>\n",
       "      <td>0.245418</td>\n",
       "      <td>0.125</td>\n",
       "    </tr>\n",
       "    <tr>\n",
       "      <th>12451</th>\n",
       "      <td>0.000000</td>\n",
       "      <td>0.115063</td>\n",
       "      <td>0.065763</td>\n",
       "      <td>0.999538</td>\n",
       "      <td>0.775439</td>\n",
       "      <td>0.065035</td>\n",
       "      <td>0.681075</td>\n",
       "      <td>0.569403</td>\n",
       "      <td>0.095238</td>\n",
       "      <td>0.000000</td>\n",
       "      <td>0.000000</td>\n",
       "      <td>0.032343</td>\n",
       "      <td>0.000000</td>\n",
       "      <td>0.000000</td>\n",
       "      <td>0.000000</td>\n",
       "      <td>0.024776</td>\n",
       "      <td>0.000000</td>\n",
       "      <td>0.106692</td>\n",
       "      <td>0.000</td>\n",
       "    </tr>\n",
       "    <tr>\n",
       "      <th>11496</th>\n",
       "      <td>0.299101</td>\n",
       "      <td>0.416338</td>\n",
       "      <td>0.294616</td>\n",
       "      <td>0.998500</td>\n",
       "      <td>0.614035</td>\n",
       "      <td>0.068110</td>\n",
       "      <td>0.811217</td>\n",
       "      <td>0.060967</td>\n",
       "      <td>0.761905</td>\n",
       "      <td>0.371274</td>\n",
       "      <td>0.048645</td>\n",
       "      <td>0.068214</td>\n",
       "      <td>0.032736</td>\n",
       "      <td>0.305717</td>\n",
       "      <td>0.856321</td>\n",
       "      <td>0.152767</td>\n",
       "      <td>0.439296</td>\n",
       "      <td>0.268910</td>\n",
       "      <td>0.000</td>\n",
       "    </tr>\n",
       "    <tr>\n",
       "      <th>7477</th>\n",
       "      <td>0.245390</td>\n",
       "      <td>0.000000</td>\n",
       "      <td>0.244632</td>\n",
       "      <td>0.997909</td>\n",
       "      <td>0.742690</td>\n",
       "      <td>0.068560</td>\n",
       "      <td>0.777625</td>\n",
       "      <td>0.103926</td>\n",
       "      <td>0.476190</td>\n",
       "      <td>0.375000</td>\n",
       "      <td>0.032430</td>\n",
       "      <td>0.000000</td>\n",
       "      <td>0.000000</td>\n",
       "      <td>0.000000</td>\n",
       "      <td>0.193770</td>\n",
       "      <td>0.112122</td>\n",
       "      <td>0.276952</td>\n",
       "      <td>0.217289</td>\n",
       "      <td>0.000</td>\n",
       "    </tr>\n",
       "    <tr>\n",
       "      <th>4561</th>\n",
       "      <td>0.097179</td>\n",
       "      <td>0.000000</td>\n",
       "      <td>0.149835</td>\n",
       "      <td>0.998531</td>\n",
       "      <td>0.750877</td>\n",
       "      <td>0.066766</td>\n",
       "      <td>0.784501</td>\n",
       "      <td>0.378496</td>\n",
       "      <td>0.071429</td>\n",
       "      <td>0.062500</td>\n",
       "      <td>0.012373</td>\n",
       "      <td>0.080793</td>\n",
       "      <td>0.026305</td>\n",
       "      <td>0.125739</td>\n",
       "      <td>0.073930</td>\n",
       "      <td>0.115994</td>\n",
       "      <td>0.124135</td>\n",
       "      <td>0.175943</td>\n",
       "      <td>0.125</td>\n",
       "    </tr>\n",
       "    <tr>\n",
       "      <th>2472</th>\n",
       "      <td>0.238576</td>\n",
       "      <td>0.000000</td>\n",
       "      <td>0.244632</td>\n",
       "      <td>0.998506</td>\n",
       "      <td>0.618713</td>\n",
       "      <td>0.069582</td>\n",
       "      <td>0.815150</td>\n",
       "      <td>0.062210</td>\n",
       "      <td>0.547619</td>\n",
       "      <td>0.000000</td>\n",
       "      <td>0.044224</td>\n",
       "      <td>0.000000</td>\n",
       "      <td>0.000000</td>\n",
       "      <td>0.191203</td>\n",
       "      <td>0.337021</td>\n",
       "      <td>0.140868</td>\n",
       "      <td>0.360042</td>\n",
       "      <td>0.320112</td>\n",
       "      <td>0.000</td>\n",
       "    </tr>\n",
       "  </tbody>\n",
       "</table>\n",
       "</div>"
      ],
      "text/plain": [
       "       EState_VSA1  EState_VSA2  ExactMolWt  FpDensityMorgan3  HallKierAlpha  \\\n",
       "487       0.016412     0.057532    0.078265          0.997909       0.722807   \n",
       "10974     0.043017     0.066111    0.075567          0.997909       0.904094   \n",
       "2600      0.123387     0.000000    0.119425          0.998019       0.723977   \n",
       "12665     0.066049     0.064249    0.074665          0.998407       0.752047   \n",
       "7926      0.016783     0.122118    0.032651          0.998656       0.890058   \n",
       "3569      0.124099     0.064249    0.133302          0.998859       0.692398   \n",
       "11824     0.000000     0.057532    0.058154          0.998207       0.894737   \n",
       "8253      0.000000     0.234982    0.115826          0.998656       0.732164   \n",
       "14593     0.232482     0.416338    0.396246          0.998581       0.618713   \n",
       "14556     0.049437     0.000000    0.066632          0.998573       0.775439   \n",
       "5107      0.227225     0.058216    0.260812          0.998425       0.718129   \n",
       "5344      0.226689     0.000000    0.144478          0.998506       0.876023   \n",
       "14022     0.073872     0.122465    0.127035          0.998531       0.673684   \n",
       "5816      0.059799     0.066111    0.118558          0.998805       0.692398   \n",
       "7731      0.278244     0.055670    0.271015          0.998330       0.614035   \n",
       "12451     0.000000     0.115063    0.065763          0.999538       0.775439   \n",
       "11496     0.299101     0.416338    0.294616          0.998500       0.614035   \n",
       "7477      0.245390     0.000000    0.244632          0.997909       0.742690   \n",
       "4561      0.097179     0.000000    0.149835          0.998531       0.750877   \n",
       "2472      0.238576     0.000000    0.244632          0.998506       0.618713   \n",
       "\n",
       "         Kappa3  MaxAbsEStateIndex  MinEStateIndex  NumHeteroatoms  \\\n",
       "487    0.065237           0.660166        0.447844        0.095238   \n",
       "10974  0.067562           0.624424        0.103926        0.214286   \n",
       "2600   0.066615           0.627068        0.132185        0.309524   \n",
       "12665  0.065161           0.657498        0.398646        0.166667   \n",
       "7926   0.066795           0.615372        0.452339        0.071429   \n",
       "3569   0.066575           0.732790        0.119605        0.261905   \n",
       "11824  0.065583           0.526934        0.528989        0.047619   \n",
       "8253   0.065161           0.663631        0.464317        0.095238   \n",
       "14593  0.072918           0.816791        0.060242        0.666667   \n",
       "14556  0.066751           0.639393        0.418739        0.119048   \n",
       "5107   0.068669           0.655015        0.062210        0.428571   \n",
       "5344   0.067195           0.719357        0.139907        0.333333   \n",
       "14022  0.066517           0.673056        0.120019        0.190476   \n",
       "5816   0.067004           0.724917        0.083127        0.261905   \n",
       "7731   0.071079           0.782160        0.056818        0.547619   \n",
       "12451  0.065035           0.681075        0.569403        0.095238   \n",
       "11496  0.068110           0.811217        0.060967        0.761905   \n",
       "7477   0.068560           0.777625        0.103926        0.476190   \n",
       "4561   0.066766           0.784501        0.378496        0.071429   \n",
       "2472   0.069582           0.815150        0.062210        0.547619   \n",
       "\n",
       "       PEOE_VSA10  PEOE_VSA14  PEOE_VSA6  PEOE_VSA7  PEOE_VSA8  SMR_VSA10  \\\n",
       "487      0.000000    0.012373   0.000000   0.000000   0.178948   0.073930   \n",
       "10974    0.000000    0.032430   0.000000   0.032736   0.000000   0.193770   \n",
       "2600     0.247071    0.016215   0.000000   0.000000   0.000000   0.096885   \n",
       "12665    0.000000    0.000000   0.000000   0.028728   0.181180   0.145556   \n",
       "7926     0.000000    0.000000   0.000000   0.000000   0.055441   0.000000   \n",
       "3569     0.064366    0.016215   0.000000   0.000000   0.063985   0.478020   \n",
       "11824    0.058871    0.000000   0.048476   0.057365   0.000000   0.000000   \n",
       "8253     0.000000    0.000000   0.000000   0.000000   0.120906   0.135855   \n",
       "14593    0.371274    0.048645   0.359288   0.000000   0.369702   0.856321   \n",
       "14556    0.061864    0.024747   0.000000   0.060717   0.000000   0.147861   \n",
       "5107     0.437500    0.044224   0.000000   0.000000   0.137994   0.265395   \n",
       "5344     0.187500    0.044224   0.000000   0.000000   0.000000   0.265395   \n",
       "14022    0.058871    0.028588   0.017103   0.114730   0.063985   0.291113   \n",
       "5816     0.247543    0.032430   0.000000   0.000000   0.063985   0.404090   \n",
       "7731     0.436864    0.044224   0.000000   0.000000   0.191203   0.266930   \n",
       "12451    0.000000    0.000000   0.032343   0.000000   0.000000   0.000000   \n",
       "11496    0.371274    0.048645   0.068214   0.032736   0.305717   0.856321   \n",
       "7477     0.375000    0.032430   0.000000   0.000000   0.000000   0.193770   \n",
       "4561     0.062500    0.012373   0.080793   0.026305   0.125739   0.073930   \n",
       "2472     0.000000    0.044224   0.000000   0.000000   0.191203   0.337021   \n",
       "\n",
       "       SMR_VSA5  SlogP_VSA3  VSA_EState9  fr_COO  \n",
       "487    0.000000    0.000000     0.100707   0.000  \n",
       "10974  0.028104    0.155663     0.067840   0.000  \n",
       "2600   0.049804    0.119800     0.157321   0.000  \n",
       "12665  0.049930    0.085293     0.119089   0.000  \n",
       "7926   0.000000    0.000000     0.065654   0.000  \n",
       "3569   0.049804    0.158998     0.146875   0.000  \n",
       "11824  0.000000    0.000000     0.069501   0.000  \n",
       "8253   0.025293    0.000000     0.127639   0.000  \n",
       "14593  0.299814    0.439296     0.315531   0.000  \n",
       "14556  0.038324    0.083090     0.110539   0.125  \n",
       "5107   0.124636    0.318497     0.191242   0.000  \n",
       "5344   0.050447    0.276952     0.193043   0.000  \n",
       "14022  0.024776    0.119800     0.104341   0.000  \n",
       "5816   0.050447    0.196708     0.142143   0.000  \n",
       "7731   0.116358    0.318497     0.245418   0.125  \n",
       "12451  0.024776    0.000000     0.106692   0.000  \n",
       "11496  0.152767    0.439296     0.268910   0.000  \n",
       "7477   0.112122    0.276952     0.217289   0.000  \n",
       "4561   0.115994    0.124135     0.175943   0.125  \n",
       "2472   0.140868    0.360042     0.320112   0.000  "
      ]
     },
     "execution_count": 16,
     "metadata": {},
     "output_type": "execute_result"
    }
   ],
   "source": [
    "X_train.head(20)"
   ]
  },
  {
   "cell_type": "code",
   "execution_count": 17,
   "id": "4ac797d9",
   "metadata": {
    "execution": {
     "iopub.execute_input": "2023-07-10T01:06:08.383586Z",
     "iopub.status.busy": "2023-07-10T01:06:08.382874Z",
     "iopub.status.idle": "2023-07-10T01:06:09.047925Z",
     "shell.execute_reply": "2023-07-10T01:06:09.046868Z"
    },
    "papermill": {
     "duration": 0.698452,
     "end_time": "2023-07-10T01:06:09.051055",
     "exception": false,
     "start_time": "2023-07-10T01:06:08.352603",
     "status": "completed"
    },
    "tags": []
   },
   "outputs": [
    {
     "data": {
      "text/plain": [
       "<Axes: >"
      ]
     },
     "execution_count": 17,
     "metadata": {},
     "output_type": "execute_result"
    },
    {
     "data": {
      "image/png": "[encoded data removed]",
      "text/plain": [
       "<Figure size 1000x700 with 2 Axes>"
      ]
     },
     "metadata": {},
     "output_type": "display_data"
    }
   ],
   "source": [
    "# Heatmap de correlacion\n",
    "\n",
    "corrmat = X_train.corr().abs()\n",
    "f, ax = plt.subplots(figsize=(10, 7))\n",
    "sn.heatmap(corrmat, square=True)"
   ]
  },
  {
   "cell_type": "code",
   "execution_count": 18,
   "id": "546e644f",
   "metadata": {
    "execution": {
     "iopub.execute_input": "2023-07-10T01:06:09.113424Z",
     "iopub.status.busy": "2023-07-10T01:06:09.112767Z",
     "iopub.status.idle": "2023-07-10T01:06:09.848381Z",
     "shell.execute_reply": "2023-07-10T01:06:09.847065Z"
    },
    "papermill": {
     "duration": 0.769655,
     "end_time": "2023-07-10T01:06:09.850715",
     "exception": false,
     "start_time": "2023-07-10T01:06:09.081060",
     "status": "completed"
    },
    "tags": []
   },
   "outputs": [
    {
     "data": {
      "text/plain": [
       "{0.0: 7922, 1.0: 7922}"
      ]
     },
     "execution_count": 18,
     "metadata": {},
     "output_type": "execute_result"
    }
   ],
   "source": [
    "# Oversampling para subsanar diferencias de clases\n",
    "\n",
    "from imblearn.over_sampling import SMOTE\n",
    "\n",
    "sm = SMOTE(sampling_strategy='minority') \n",
    "X_train_n, y_train_n = sm.fit_resample(X_train, y_train[\"EC1\"])\n",
    "unique, counts = np.unique(y_train_n, return_counts=True)\n",
    "dict(zip(unique, counts))"
   ]
  },
  {
   "cell_type": "code",
   "execution_count": 19,
   "id": "b7800a54",
   "metadata": {
    "execution": {
     "iopub.execute_input": "2023-07-10T01:06:09.913346Z",
     "iopub.status.busy": "2023-07-10T01:06:09.912906Z",
     "iopub.status.idle": "2023-07-10T01:06:09.942261Z",
     "shell.execute_reply": "2023-07-10T01:06:09.940553Z"
    },
    "papermill": {
     "duration": 0.06369,
     "end_time": "2023-07-10T01:06:09.944606",
     "exception": false,
     "start_time": "2023-07-10T01:06:09.880916",
     "status": "completed"
    },
    "tags": []
   },
   "outputs": [
    {
     "name": "stdout",
     "output_type": "stream",
     "text": [
      "<class 'pandas.core.frame.DataFrame'>\n",
      "RangeIndex: 15844 entries, 0 to 15843\n",
      "Data columns (total 19 columns):\n",
      " #   Column             Non-Null Count  Dtype  \n",
      "---  ------             --------------  -----  \n",
      " 0   EState_VSA1        15844 non-null  float64\n",
      " 1   EState_VSA2        15844 non-null  float64\n",
      " 2   ExactMolWt         15844 non-null  float64\n",
      " 3   FpDensityMorgan3   15844 non-null  float64\n",
      " 4   HallKierAlpha      15844 non-null  float64\n",
      " 5   Kappa3             15844 non-null  float64\n",
      " 6   MaxAbsEStateIndex  15844 non-null  float64\n",
      " 7   MinEStateIndex     15844 non-null  float64\n",
      " 8   NumHeteroatoms     15844 non-null  float64\n",
      " 9   PEOE_VSA10         15844 non-null  float64\n",
      " 10  PEOE_VSA14         15844 non-null  float64\n",
      " 11  PEOE_VSA6          15844 non-null  float64\n",
      " 12  PEOE_VSA7          15844 non-null  float64\n",
      " 13  PEOE_VSA8          15844 non-null  float64\n",
      " 14  SMR_VSA10          15844 non-null  float64\n",
      " 15  SMR_VSA5           15844 non-null  float64\n",
      " 16  SlogP_VSA3         15844 non-null  float64\n",
      " 17  VSA_EState9        15844 non-null  float64\n",
      " 18  fr_COO             15844 non-null  float64\n",
      "dtypes: float64(19)\n",
      "memory usage: 2.3 MB\n",
      "<class 'pandas.core.series.Series'>\n",
      "RangeIndex: 15844 entries, 0 to 15843\n",
      "Series name: EC1\n",
      "Non-Null Count  Dtype  \n",
      "--------------  -----  \n",
      "15844 non-null  float64\n",
      "dtypes: float64(1)\n",
      "memory usage: 123.9 KB\n"
     ]
    },
    {
     "data": {
      "text/plain": [
       "(None, None)"
      ]
     },
     "execution_count": 19,
     "metadata": {},
     "output_type": "execute_result"
    }
   ],
   "source": [
    "X_train_n.info(), y_train_n.info()"
   ]
  },
  {
   "cell_type": "code",
   "execution_count": 20,
   "id": "bf7c3b3b",
   "metadata": {
    "execution": {
     "iopub.execute_input": "2023-07-10T01:06:10.007094Z",
     "iopub.status.busy": "2023-07-10T01:06:10.006675Z",
     "iopub.status.idle": "2023-07-10T01:06:10.012419Z",
     "shell.execute_reply": "2023-07-10T01:06:10.011547Z"
    },
    "papermill": {
     "duration": 0.039675,
     "end_time": "2023-07-10T01:06:10.014619",
     "exception": false,
     "start_time": "2023-07-10T01:06:09.974944",
     "status": "completed"
    },
    "tags": []
   },
   "outputs": [],
   "source": [
    "# Ajustar el formato\n",
    "\n",
    "X_train_n = pd.DataFrame(X_train_n, columns = X_train_n.columns)\n",
    "X_test = pd.DataFrame(X_test, columns = X_test.columns)"
   ]
  },
  {
   "cell_type": "markdown",
   "id": "4fcc009a",
   "metadata": {
    "papermill": {
     "duration": 0.029775,
     "end_time": "2023-07-10T01:06:10.074890",
     "exception": false,
     "start_time": "2023-07-10T01:06:10.045115",
     "status": "completed"
    },
    "tags": []
   },
   "source": [
    "#### Parte 2: Prediciendo EC1\n",
    "Aplicamos distintos modelos para predecir EC1: gradient boosting (xgb, lgbm), random forest, neural network."
   ]
  },
  {
   "cell_type": "markdown",
   "id": "901f4ca2",
   "metadata": {
    "papermill": {
     "duration": 0.030315,
     "end_time": "2023-07-10T01:06:10.135001",
     "exception": false,
     "start_time": "2023-07-10T01:06:10.104686",
     "status": "completed"
    },
    "tags": []
   },
   "source": [
    "##### 1. Random Forest"
   ]
  },
  {
   "cell_type": "code",
   "execution_count": 21,
   "id": "4ee4d2ba",
   "metadata": {
    "execution": {
     "iopub.execute_input": "2023-07-10T01:06:10.197640Z",
     "iopub.status.busy": "2023-07-10T01:06:10.196914Z",
     "iopub.status.idle": "2023-07-10T01:07:01.119642Z",
     "shell.execute_reply": "2023-07-10T01:07:01.118261Z"
    },
    "papermill": {
     "duration": 50.985339,
     "end_time": "2023-07-10T01:07:01.150472",
     "exception": false,
     "start_time": "2023-07-10T01:06:10.165133",
     "status": "completed"
    },
    "tags": []
   },
   "outputs": [
    {
     "name": "stdout",
     "output_type": "stream",
     "text": [
      "Mejor Configuración de Parámetros\n",
      "n_estimators: 100\n",
      "max_depth: 15\n",
      "min_samples_leaf: 2\n",
      "max_features: sqrt\n",
      "min_samples_split: 2\n",
      "bootstrap: False\n",
      "tiempo de entrenamiento: 0:00:50.909310\n"
     ]
    }
   ],
   "source": [
    "# Random Forest\n",
    "\n",
    "from sklearn.ensemble import RandomForestClassifier\n",
    "from sklearn.model_selection import RandomizedSearchCV\n",
    "from datetime import datetime\n",
    "\n",
    "# Hiperparametros\n",
    "n_estimators = [50, 100, 125]\n",
    "max_features = ['sqrt']\n",
    "max_depth = [5, 10, 15]\n",
    "min_samples_split = [2, 5, 10]\n",
    "min_samples_leaf = [1, 2, 4]\n",
    "bootstrap = [True, False]\n",
    "\n",
    "# Creamos la grilla de parametros\n",
    "parameters_rfrandom = {'n_estimators': n_estimators,\n",
    "               'max_features': max_features,\n",
    "               'max_depth': max_depth,\n",
    "               'min_samples_split': min_samples_split,\n",
    "               'min_samples_leaf': min_samples_leaf,\n",
    "               'bootstrap': bootstrap}\n",
    "\n",
    "rf_rm = RandomForestClassifier(random_state=0) # Definimos un random forest llamado rf_rm\n",
    "rf_random = RandomizedSearchCV (estimator = rf_rm, param_distributions = parameters_rfrandom, cv = 4,\n",
    "                                random_state = 0, n_jobs = -1)  # Definimos el RandomizedSearchCV\n",
    "\n",
    "\n",
    "start_1=datetime.now()\n",
    "rf_random.fit(X_train_n, y_train_n) # Entrenamos el modelo\n",
    "\n",
    "print('Mejor Configuración de Parámetros')\n",
    "print('n_estimators: ' +str(rf_random.best_params_['n_estimators']))\n",
    "print('max_depth: ' +str(rf_random.best_params_['max_depth']))\n",
    "print('min_samples_leaf: ' +str(rf_random.best_params_['min_samples_leaf']))\n",
    "print('max_features: ' +str(rf_random.best_params_['max_features']))\n",
    "print('min_samples_split: ' +str(rf_random.best_params_['min_samples_split']))\n",
    "print('bootstrap: ' +str(rf_random.best_params_['bootstrap']))\n",
    "\n",
    "\n",
    "stop_1=datetime.now()\n",
    "execution_time = stop_1-start_1\n",
    "print('tiempo de entrenamiento: {}'.format(execution_time))"
   ]
  },
  {
   "cell_type": "code",
   "execution_count": 22,
   "id": "08d1eb89",
   "metadata": {
    "execution": {
     "iopub.execute_input": "2023-07-10T01:07:01.211870Z",
     "iopub.status.busy": "2023-07-10T01:07:01.210824Z",
     "iopub.status.idle": "2023-07-10T01:07:01.588872Z",
     "shell.execute_reply": "2023-07-10T01:07:01.587645Z"
    },
    "papermill": {
     "duration": 0.411789,
     "end_time": "2023-07-10T01:07:01.591237",
     "exception": false,
     "start_time": "2023-07-10T01:07:01.179448",
     "status": "completed"
    },
    "tags": []
   },
   "outputs": [
    {
     "name": "stdout",
     "output_type": "stream",
     "text": [
      "Random Forest. Random Search.\n",
      "AUC Test = 70.47\n",
      "AUC Train = 99.15\n"
     ]
    }
   ],
   "source": [
    "# Revisando rendimiento\n",
    "\n",
    "from sklearn.metrics import precision_recall_fscore_support\n",
    "from sklearn.metrics import roc_auc_score\n",
    "\n",
    "y_pred_test_proba_rf_random = rf_random.predict_proba(X_test)[:,1]\n",
    "auc_rf_random_test = roc_auc_score(y_test['EC1'], y_pred_test_proba_rf_random)\n",
    "\n",
    "\n",
    "y_pred_train_proba_rf_random = rf_random.predict_proba(X_train_n)[:,1]\n",
    "auc_rf_random_train = roc_auc_score(y_train_n, y_pred_train_proba_rf_random)\n",
    "\n",
    "print(\"Random Forest. Random Search.\")\n",
    "print('AUC Test = %.2f' %(auc_rf_random_test*100))\n",
    "print('AUC Train = %.2f' %(auc_rf_random_train*100))\n"
   ]
  },
  {
   "cell_type": "markdown",
   "id": "9fa50f2b",
   "metadata": {
    "papermill": {
     "duration": 0.030183,
     "end_time": "2023-07-10T01:07:01.650825",
     "exception": false,
     "start_time": "2023-07-10T01:07:01.620642",
     "status": "completed"
    },
    "tags": []
   },
   "source": [
    "##### 2. Red Neuronal"
   ]
  },
  {
   "cell_type": "code",
   "execution_count": 23,
   "id": "36760452",
   "metadata": {
    "execution": {
     "iopub.execute_input": "2023-07-10T01:07:01.712282Z",
     "iopub.status.busy": "2023-07-10T01:07:01.711889Z",
     "iopub.status.idle": "2023-07-10T01:09:47.634803Z",
     "shell.execute_reply": "2023-07-10T01:09:47.633350Z"
    },
    "papermill": {
     "duration": 165.958774,
     "end_time": "2023-07-10T01:09:47.640092",
     "exception": false,
     "start_time": "2023-07-10T01:07:01.681318",
     "status": "completed"
    },
    "tags": []
   },
   "outputs": [
    {
     "name": "stderr",
     "output_type": "stream",
     "text": [
      "/opt/conda/lib/python3.10/site-packages/sklearn/neural_network/_multilayer_perceptron.py:541: ConvergenceWarning: lbfgs failed to converge (status=1):\n",
      "STOP: TOTAL NO. of ITERATIONS REACHED LIMIT.\n",
      "\n",
      "Increase the number of iterations (max_iter) or scale the data as shown in:\n",
      "    https://scikit-learn.org/stable/modules/preprocessing.html\n",
      "  self.n_iter_ = _check_optimize_result(\"lbfgs\", opt_res, self.max_iter)\n",
      "/opt/conda/lib/python3.10/site-packages/sklearn/neural_network/_multilayer_perceptron.py:686: ConvergenceWarning: Stochastic Optimizer: Maximum iterations (100) reached and the optimization hasn't converged yet.\n",
      "  warnings.warn(\n",
      "/opt/conda/lib/python3.10/site-packages/sklearn/neural_network/_multilayer_perceptron.py:686: ConvergenceWarning: Stochastic Optimizer: Maximum iterations (100) reached and the optimization hasn't converged yet.\n",
      "  warnings.warn(\n",
      "/opt/conda/lib/python3.10/site-packages/sklearn/neural_network/_multilayer_perceptron.py:686: ConvergenceWarning: Stochastic Optimizer: Maximum iterations (100) reached and the optimization hasn't converged yet.\n",
      "  warnings.warn(\n",
      "/opt/conda/lib/python3.10/site-packages/sklearn/neural_network/_multilayer_perceptron.py:686: ConvergenceWarning: Stochastic Optimizer: Maximum iterations (100) reached and the optimization hasn't converged yet.\n",
      "  warnings.warn(\n",
      "/opt/conda/lib/python3.10/site-packages/sklearn/neural_network/_multilayer_perceptron.py:686: ConvergenceWarning: Stochastic Optimizer: Maximum iterations (100) reached and the optimization hasn't converged yet.\n",
      "  warnings.warn(\n",
      "/opt/conda/lib/python3.10/site-packages/sklearn/neural_network/_multilayer_perceptron.py:686: ConvergenceWarning: Stochastic Optimizer: Maximum iterations (100) reached and the optimization hasn't converged yet.\n",
      "  warnings.warn(\n",
      "/opt/conda/lib/python3.10/site-packages/sklearn/neural_network/_multilayer_perceptron.py:686: ConvergenceWarning: Stochastic Optimizer: Maximum iterations (100) reached and the optimization hasn't converged yet.\n",
      "  warnings.warn(\n",
      "/opt/conda/lib/python3.10/site-packages/sklearn/neural_network/_multilayer_perceptron.py:686: ConvergenceWarning: Stochastic Optimizer: Maximum iterations (100) reached and the optimization hasn't converged yet.\n",
      "  warnings.warn(\n",
      "/opt/conda/lib/python3.10/site-packages/sklearn/neural_network/_multilayer_perceptron.py:686: ConvergenceWarning: Stochastic Optimizer: Maximum iterations (100) reached and the optimization hasn't converged yet.\n",
      "  warnings.warn(\n",
      "/opt/conda/lib/python3.10/site-packages/sklearn/neural_network/_multilayer_perceptron.py:686: ConvergenceWarning: Stochastic Optimizer: Maximum iterations (100) reached and the optimization hasn't converged yet.\n",
      "  warnings.warn(\n",
      "/opt/conda/lib/python3.10/site-packages/sklearn/neural_network/_multilayer_perceptron.py:686: ConvergenceWarning: Stochastic Optimizer: Maximum iterations (50) reached and the optimization hasn't converged yet.\n",
      "  warnings.warn(\n",
      "/opt/conda/lib/python3.10/site-packages/sklearn/neural_network/_multilayer_perceptron.py:686: ConvergenceWarning: Stochastic Optimizer: Maximum iterations (50) reached and the optimization hasn't converged yet.\n",
      "  warnings.warn(\n",
      "/opt/conda/lib/python3.10/site-packages/sklearn/neural_network/_multilayer_perceptron.py:686: ConvergenceWarning: Stochastic Optimizer: Maximum iterations (50) reached and the optimization hasn't converged yet.\n",
      "  warnings.warn(\n",
      "/opt/conda/lib/python3.10/site-packages/sklearn/neural_network/_multilayer_perceptron.py:686: ConvergenceWarning: Stochastic Optimizer: Maximum iterations (50) reached and the optimization hasn't converged yet.\n",
      "  warnings.warn(\n",
      "/opt/conda/lib/python3.10/site-packages/sklearn/neural_network/_multilayer_perceptron.py:686: ConvergenceWarning: Stochastic Optimizer: Maximum iterations (50) reached and the optimization hasn't converged yet.\n",
      "  warnings.warn(\n",
      "/opt/conda/lib/python3.10/site-packages/sklearn/neural_network/_multilayer_perceptron.py:686: ConvergenceWarning: Stochastic Optimizer: Maximum iterations (50) reached and the optimization hasn't converged yet.\n",
      "  warnings.warn(\n",
      "/opt/conda/lib/python3.10/site-packages/sklearn/neural_network/_multilayer_perceptron.py:686: ConvergenceWarning: Stochastic Optimizer: Maximum iterations (50) reached and the optimization hasn't converged yet.\n",
      "  warnings.warn(\n",
      "/opt/conda/lib/python3.10/site-packages/sklearn/neural_network/_multilayer_perceptron.py:686: ConvergenceWarning: Stochastic Optimizer: Maximum iterations (50) reached and the optimization hasn't converged yet.\n",
      "  warnings.warn(\n",
      "/opt/conda/lib/python3.10/site-packages/sklearn/neural_network/_multilayer_perceptron.py:541: ConvergenceWarning: lbfgs failed to converge (status=1):\n",
      "STOP: TOTAL NO. of ITERATIONS REACHED LIMIT.\n",
      "\n",
      "Increase the number of iterations (max_iter) or scale the data as shown in:\n",
      "    https://scikit-learn.org/stable/modules/preprocessing.html\n",
      "  self.n_iter_ = _check_optimize_result(\"lbfgs\", opt_res, self.max_iter)\n",
      "/opt/conda/lib/python3.10/site-packages/sklearn/neural_network/_multilayer_perceptron.py:541: ConvergenceWarning: lbfgs failed to converge (status=1):\n",
      "STOP: TOTAL NO. of ITERATIONS REACHED LIMIT.\n",
      "\n",
      "Increase the number of iterations (max_iter) or scale the data as shown in:\n",
      "    https://scikit-learn.org/stable/modules/preprocessing.html\n",
      "  self.n_iter_ = _check_optimize_result(\"lbfgs\", opt_res, self.max_iter)\n",
      "/opt/conda/lib/python3.10/site-packages/sklearn/neural_network/_multilayer_perceptron.py:541: ConvergenceWarning: lbfgs failed to converge (status=1):\n",
      "STOP: TOTAL NO. of ITERATIONS REACHED LIMIT.\n",
      "\n",
      "Increase the number of iterations (max_iter) or scale the data as shown in:\n",
      "    https://scikit-learn.org/stable/modules/preprocessing.html\n",
      "  self.n_iter_ = _check_optimize_result(\"lbfgs\", opt_res, self.max_iter)\n",
      "/opt/conda/lib/python3.10/site-packages/sklearn/neural_network/_multilayer_perceptron.py:541: ConvergenceWarning: lbfgs failed to converge (status=1):\n",
      "STOP: TOTAL NO. of ITERATIONS REACHED LIMIT.\n",
      "\n",
      "Increase the number of iterations (max_iter) or scale the data as shown in:\n",
      "    https://scikit-learn.org/stable/modules/preprocessing.html\n",
      "  self.n_iter_ = _check_optimize_result(\"lbfgs\", opt_res, self.max_iter)\n",
      "/opt/conda/lib/python3.10/site-packages/sklearn/neural_network/_multilayer_perceptron.py:686: ConvergenceWarning: Stochastic Optimizer: Maximum iterations (100) reached and the optimization hasn't converged yet.\n",
      "  warnings.warn(\n",
      "/opt/conda/lib/python3.10/site-packages/sklearn/neural_network/_multilayer_perceptron.py:686: ConvergenceWarning: Stochastic Optimizer: Maximum iterations (100) reached and the optimization hasn't converged yet.\n",
      "  warnings.warn(\n",
      "/opt/conda/lib/python3.10/site-packages/sklearn/neural_network/_multilayer_perceptron.py:686: ConvergenceWarning: Stochastic Optimizer: Maximum iterations (100) reached and the optimization hasn't converged yet.\n",
      "  warnings.warn(\n",
      "/opt/conda/lib/python3.10/site-packages/sklearn/neural_network/_multilayer_perceptron.py:686: ConvergenceWarning: Stochastic Optimizer: Maximum iterations (100) reached and the optimization hasn't converged yet.\n",
      "  warnings.warn(\n",
      "/opt/conda/lib/python3.10/site-packages/sklearn/neural_network/_multilayer_perceptron.py:686: ConvergenceWarning: Stochastic Optimizer: Maximum iterations (100) reached and the optimization hasn't converged yet.\n",
      "  warnings.warn(\n",
      "/opt/conda/lib/python3.10/site-packages/sklearn/neural_network/_multilayer_perceptron.py:686: ConvergenceWarning: Stochastic Optimizer: Maximum iterations (100) reached and the optimization hasn't converged yet.\n",
      "  warnings.warn(\n",
      "/opt/conda/lib/python3.10/site-packages/sklearn/neural_network/_multilayer_perceptron.py:686: ConvergenceWarning: Stochastic Optimizer: Maximum iterations (100) reached and the optimization hasn't converged yet.\n",
      "  warnings.warn(\n",
      "/opt/conda/lib/python3.10/site-packages/sklearn/neural_network/_multilayer_perceptron.py:686: ConvergenceWarning: Stochastic Optimizer: Maximum iterations (100) reached and the optimization hasn't converged yet.\n",
      "  warnings.warn(\n",
      "/opt/conda/lib/python3.10/site-packages/sklearn/neural_network/_multilayer_perceptron.py:686: ConvergenceWarning: Stochastic Optimizer: Maximum iterations (100) reached and the optimization hasn't converged yet.\n",
      "  warnings.warn(\n",
      "/opt/conda/lib/python3.10/site-packages/sklearn/neural_network/_multilayer_perceptron.py:686: ConvergenceWarning: Stochastic Optimizer: Maximum iterations (100) reached and the optimization hasn't converged yet.\n",
      "  warnings.warn(\n",
      "/opt/conda/lib/python3.10/site-packages/sklearn/neural_network/_multilayer_perceptron.py:686: ConvergenceWarning: Stochastic Optimizer: Maximum iterations (100) reached and the optimization hasn't converged yet.\n",
      "  warnings.warn(\n",
      "/opt/conda/lib/python3.10/site-packages/sklearn/neural_network/_multilayer_perceptron.py:686: ConvergenceWarning: Stochastic Optimizer: Maximum iterations (100) reached and the optimization hasn't converged yet.\n",
      "  warnings.warn(\n",
      "/opt/conda/lib/python3.10/site-packages/sklearn/neural_network/_multilayer_perceptron.py:686: ConvergenceWarning: Stochastic Optimizer: Maximum iterations (100) reached and the optimization hasn't converged yet.\n",
      "  warnings.warn(\n",
      "/opt/conda/lib/python3.10/site-packages/sklearn/neural_network/_multilayer_perceptron.py:686: ConvergenceWarning: Stochastic Optimizer: Maximum iterations (100) reached and the optimization hasn't converged yet.\n",
      "  warnings.warn(\n",
      "/opt/conda/lib/python3.10/site-packages/sklearn/neural_network/_multilayer_perceptron.py:686: ConvergenceWarning: Stochastic Optimizer: Maximum iterations (100) reached and the optimization hasn't converged yet.\n",
      "  warnings.warn(\n",
      "/opt/conda/lib/python3.10/site-packages/sklearn/neural_network/_multilayer_perceptron.py:686: ConvergenceWarning: Stochastic Optimizer: Maximum iterations (100) reached and the optimization hasn't converged yet.\n",
      "  warnings.warn(\n",
      "/opt/conda/lib/python3.10/site-packages/sklearn/neural_network/_multilayer_perceptron.py:686: ConvergenceWarning: Stochastic Optimizer: Maximum iterations (100) reached and the optimization hasn't converged yet.\n",
      "  warnings.warn(\n",
      "/opt/conda/lib/python3.10/site-packages/sklearn/neural_network/_multilayer_perceptron.py:686: ConvergenceWarning: Stochastic Optimizer: Maximum iterations (100) reached and the optimization hasn't converged yet.\n",
      "  warnings.warn(\n",
      "/opt/conda/lib/python3.10/site-packages/sklearn/neural_network/_multilayer_perceptron.py:686: ConvergenceWarning: Stochastic Optimizer: Maximum iterations (100) reached and the optimization hasn't converged yet.\n",
      "  warnings.warn(\n",
      "/opt/conda/lib/python3.10/site-packages/sklearn/neural_network/_multilayer_perceptron.py:686: ConvergenceWarning: Stochastic Optimizer: Maximum iterations (100) reached and the optimization hasn't converged yet.\n",
      "  warnings.warn(\n",
      "/opt/conda/lib/python3.10/site-packages/sklearn/neural_network/_multilayer_perceptron.py:686: ConvergenceWarning: Stochastic Optimizer: Maximum iterations (100) reached and the optimization hasn't converged yet.\n",
      "  warnings.warn(\n",
      "/opt/conda/lib/python3.10/site-packages/sklearn/neural_network/_multilayer_perceptron.py:686: ConvergenceWarning: Stochastic Optimizer: Maximum iterations (100) reached and the optimization hasn't converged yet.\n",
      "  warnings.warn(\n",
      "/opt/conda/lib/python3.10/site-packages/sklearn/neural_network/_multilayer_perceptron.py:686: ConvergenceWarning: Stochastic Optimizer: Maximum iterations (100) reached and the optimization hasn't converged yet.\n",
      "  warnings.warn(\n",
      "/opt/conda/lib/python3.10/site-packages/sklearn/neural_network/_multilayer_perceptron.py:686: ConvergenceWarning: Stochastic Optimizer: Maximum iterations (100) reached and the optimization hasn't converged yet.\n",
      "  warnings.warn(\n",
      "/opt/conda/lib/python3.10/site-packages/sklearn/neural_network/_multilayer_perceptron.py:541: ConvergenceWarning: lbfgs failed to converge (status=1):\n",
      "STOP: TOTAL NO. of ITERATIONS REACHED LIMIT.\n",
      "\n",
      "Increase the number of iterations (max_iter) or scale the data as shown in:\n",
      "    https://scikit-learn.org/stable/modules/preprocessing.html\n",
      "  self.n_iter_ = _check_optimize_result(\"lbfgs\", opt_res, self.max_iter)\n",
      "/opt/conda/lib/python3.10/site-packages/sklearn/neural_network/_multilayer_perceptron.py:541: ConvergenceWarning: lbfgs failed to converge (status=1):\n",
      "STOP: TOTAL NO. of ITERATIONS REACHED LIMIT.\n",
      "\n",
      "Increase the number of iterations (max_iter) or scale the data as shown in:\n",
      "    https://scikit-learn.org/stable/modules/preprocessing.html\n",
      "  self.n_iter_ = _check_optimize_result(\"lbfgs\", opt_res, self.max_iter)\n",
      "/opt/conda/lib/python3.10/site-packages/sklearn/neural_network/_multilayer_perceptron.py:541: ConvergenceWarning: lbfgs failed to converge (status=1):\n",
      "STOP: TOTAL NO. of ITERATIONS REACHED LIMIT.\n",
      "\n",
      "Increase the number of iterations (max_iter) or scale the data as shown in:\n",
      "    https://scikit-learn.org/stable/modules/preprocessing.html\n",
      "  self.n_iter_ = _check_optimize_result(\"lbfgs\", opt_res, self.max_iter)\n",
      "/opt/conda/lib/python3.10/site-packages/sklearn/neural_network/_multilayer_perceptron.py:541: ConvergenceWarning: lbfgs failed to converge (status=1):\n",
      "STOP: TOTAL NO. of ITERATIONS REACHED LIMIT.\n",
      "\n",
      "Increase the number of iterations (max_iter) or scale the data as shown in:\n",
      "    https://scikit-learn.org/stable/modules/preprocessing.html\n",
      "  self.n_iter_ = _check_optimize_result(\"lbfgs\", opt_res, self.max_iter)\n",
      "/opt/conda/lib/python3.10/site-packages/sklearn/neural_network/_multilayer_perceptron.py:541: ConvergenceWarning: lbfgs failed to converge (status=1):\n",
      "STOP: TOTAL NO. of ITERATIONS REACHED LIMIT.\n",
      "\n",
      "Increase the number of iterations (max_iter) or scale the data as shown in:\n",
      "    https://scikit-learn.org/stable/modules/preprocessing.html\n",
      "  self.n_iter_ = _check_optimize_result(\"lbfgs\", opt_res, self.max_iter)\n",
      "/opt/conda/lib/python3.10/site-packages/sklearn/neural_network/_multilayer_perceptron.py:541: ConvergenceWarning: lbfgs failed to converge (status=1):\n",
      "STOP: TOTAL NO. of ITERATIONS REACHED LIMIT.\n",
      "\n",
      "Increase the number of iterations (max_iter) or scale the data as shown in:\n",
      "    https://scikit-learn.org/stable/modules/preprocessing.html\n",
      "  self.n_iter_ = _check_optimize_result(\"lbfgs\", opt_res, self.max_iter)\n",
      "/opt/conda/lib/python3.10/site-packages/sklearn/neural_network/_multilayer_perceptron.py:541: ConvergenceWarning: lbfgs failed to converge (status=1):\n",
      "STOP: TOTAL NO. of ITERATIONS REACHED LIMIT.\n",
      "\n",
      "Increase the number of iterations (max_iter) or scale the data as shown in:\n",
      "    https://scikit-learn.org/stable/modules/preprocessing.html\n",
      "  self.n_iter_ = _check_optimize_result(\"lbfgs\", opt_res, self.max_iter)\n",
      "/opt/conda/lib/python3.10/site-packages/sklearn/neural_network/_multilayer_perceptron.py:541: ConvergenceWarning: lbfgs failed to converge (status=1):\n",
      "STOP: TOTAL NO. of ITERATIONS REACHED LIMIT.\n",
      "\n",
      "Increase the number of iterations (max_iter) or scale the data as shown in:\n",
      "    https://scikit-learn.org/stable/modules/preprocessing.html\n",
      "  self.n_iter_ = _check_optimize_result(\"lbfgs\", opt_res, self.max_iter)\n",
      "/opt/conda/lib/python3.10/site-packages/sklearn/neural_network/_multilayer_perceptron.py:541: ConvergenceWarning: lbfgs failed to converge (status=1):\n",
      "STOP: TOTAL NO. of ITERATIONS REACHED LIMIT.\n",
      "\n",
      "Increase the number of iterations (max_iter) or scale the data as shown in:\n",
      "    https://scikit-learn.org/stable/modules/preprocessing.html\n",
      "  self.n_iter_ = _check_optimize_result(\"lbfgs\", opt_res, self.max_iter)\n",
      "/opt/conda/lib/python3.10/site-packages/sklearn/neural_network/_multilayer_perceptron.py:541: ConvergenceWarning: lbfgs failed to converge (status=1):\n",
      "STOP: TOTAL NO. of ITERATIONS REACHED LIMIT.\n",
      "\n",
      "Increase the number of iterations (max_iter) or scale the data as shown in:\n",
      "    https://scikit-learn.org/stable/modules/preprocessing.html\n",
      "  self.n_iter_ = _check_optimize_result(\"lbfgs\", opt_res, self.max_iter)\n",
      "/opt/conda/lib/python3.10/site-packages/sklearn/neural_network/_multilayer_perceptron.py:541: ConvergenceWarning: lbfgs failed to converge (status=1):\n",
      "STOP: TOTAL NO. of ITERATIONS REACHED LIMIT.\n",
      "\n",
      "Increase the number of iterations (max_iter) or scale the data as shown in:\n",
      "    https://scikit-learn.org/stable/modules/preprocessing.html\n",
      "  self.n_iter_ = _check_optimize_result(\"lbfgs\", opt_res, self.max_iter)\n",
      "/opt/conda/lib/python3.10/site-packages/sklearn/neural_network/_multilayer_perceptron.py:541: ConvergenceWarning: lbfgs failed to converge (status=1):\n",
      "STOP: TOTAL NO. of ITERATIONS REACHED LIMIT.\n",
      "\n",
      "Increase the number of iterations (max_iter) or scale the data as shown in:\n",
      "    https://scikit-learn.org/stable/modules/preprocessing.html\n",
      "  self.n_iter_ = _check_optimize_result(\"lbfgs\", opt_res, self.max_iter)\n",
      "/opt/conda/lib/python3.10/site-packages/sklearn/neural_network/_multilayer_perceptron.py:541: ConvergenceWarning: lbfgs failed to converge (status=1):\n",
      "STOP: TOTAL NO. of ITERATIONS REACHED LIMIT.\n",
      "\n",
      "Increase the number of iterations (max_iter) or scale the data as shown in:\n",
      "    https://scikit-learn.org/stable/modules/preprocessing.html\n",
      "  self.n_iter_ = _check_optimize_result(\"lbfgs\", opt_res, self.max_iter)\n",
      "/opt/conda/lib/python3.10/site-packages/sklearn/neural_network/_multilayer_perceptron.py:541: ConvergenceWarning: lbfgs failed to converge (status=1):\n",
      "STOP: TOTAL NO. of ITERATIONS REACHED LIMIT.\n",
      "\n",
      "Increase the number of iterations (max_iter) or scale the data as shown in:\n",
      "    https://scikit-learn.org/stable/modules/preprocessing.html\n",
      "  self.n_iter_ = _check_optimize_result(\"lbfgs\", opt_res, self.max_iter)\n",
      "/opt/conda/lib/python3.10/site-packages/sklearn/neural_network/_multilayer_perceptron.py:541: ConvergenceWarning: lbfgs failed to converge (status=1):\n",
      "STOP: TOTAL NO. of ITERATIONS REACHED LIMIT.\n",
      "\n",
      "Increase the number of iterations (max_iter) or scale the data as shown in:\n",
      "    https://scikit-learn.org/stable/modules/preprocessing.html\n",
      "  self.n_iter_ = _check_optimize_result(\"lbfgs\", opt_res, self.max_iter)\n",
      "/opt/conda/lib/python3.10/site-packages/sklearn/neural_network/_multilayer_perceptron.py:541: ConvergenceWarning: lbfgs failed to converge (status=1):\n",
      "STOP: TOTAL NO. of ITERATIONS REACHED LIMIT.\n",
      "\n",
      "Increase the number of iterations (max_iter) or scale the data as shown in:\n",
      "    https://scikit-learn.org/stable/modules/preprocessing.html\n",
      "  self.n_iter_ = _check_optimize_result(\"lbfgs\", opt_res, self.max_iter)\n",
      "/opt/conda/lib/python3.10/site-packages/sklearn/neural_network/_multilayer_perceptron.py:541: ConvergenceWarning: lbfgs failed to converge (status=1):\n",
      "STOP: TOTAL NO. of ITERATIONS REACHED LIMIT.\n",
      "\n",
      "Increase the number of iterations (max_iter) or scale the data as shown in:\n",
      "    https://scikit-learn.org/stable/modules/preprocessing.html\n",
      "  self.n_iter_ = _check_optimize_result(\"lbfgs\", opt_res, self.max_iter)\n",
      "/opt/conda/lib/python3.10/site-packages/sklearn/neural_network/_multilayer_perceptron.py:541: ConvergenceWarning: lbfgs failed to converge (status=1):\n",
      "STOP: TOTAL NO. of ITERATIONS REACHED LIMIT.\n",
      "\n",
      "Increase the number of iterations (max_iter) or scale the data as shown in:\n",
      "    https://scikit-learn.org/stable/modules/preprocessing.html\n",
      "  self.n_iter_ = _check_optimize_result(\"lbfgs\", opt_res, self.max_iter)\n",
      "/opt/conda/lib/python3.10/site-packages/sklearn/neural_network/_multilayer_perceptron.py:541: ConvergenceWarning: lbfgs failed to converge (status=1):\n",
      "STOP: TOTAL NO. of ITERATIONS REACHED LIMIT.\n",
      "\n",
      "Increase the number of iterations (max_iter) or scale the data as shown in:\n",
      "    https://scikit-learn.org/stable/modules/preprocessing.html\n",
      "  self.n_iter_ = _check_optimize_result(\"lbfgs\", opt_res, self.max_iter)\n",
      "/opt/conda/lib/python3.10/site-packages/sklearn/neural_network/_multilayer_perceptron.py:541: ConvergenceWarning: lbfgs failed to converge (status=1):\n",
      "STOP: TOTAL NO. of ITERATIONS REACHED LIMIT.\n",
      "\n",
      "Increase the number of iterations (max_iter) or scale the data as shown in:\n",
      "    https://scikit-learn.org/stable/modules/preprocessing.html\n",
      "  self.n_iter_ = _check_optimize_result(\"lbfgs\", opt_res, self.max_iter)\n"
     ]
    },
    {
     "name": "stdout",
     "output_type": "stream",
     "text": [
      "{'activation': 'logistic', 'alpha': 0.1, 'hidden_layer_sizes': 4, 'max_iter': 50, 'solver': 'lbfgs'}\n"
     ]
    },
    {
     "name": "stderr",
     "output_type": "stream",
     "text": [
      "/opt/conda/lib/python3.10/site-packages/sklearn/neural_network/_multilayer_perceptron.py:541: ConvergenceWarning: lbfgs failed to converge (status=1):\n",
      "STOP: TOTAL NO. of ITERATIONS REACHED LIMIT.\n",
      "\n",
      "Increase the number of iterations (max_iter) or scale the data as shown in:\n",
      "    https://scikit-learn.org/stable/modules/preprocessing.html\n",
      "  self.n_iter_ = _check_optimize_result(\"lbfgs\", opt_res, self.max_iter)\n"
     ]
    }
   ],
   "source": [
    "# Red neuronal\n",
    "\n",
    "from sklearn.neural_network import MLPClassifier\n",
    "from sklearn.model_selection import RandomizedSearchCV\n",
    "from scipy.stats import randint\n",
    "\n",
    "# Optimización hiperparámetros de la Red Neuronal\n",
    "red = MLPClassifier()\n",
    "\n",
    "# Hiper Parámetros a testear mediante Random Search\n",
    "parametros = {\n",
    "    'max_iter': [50, 100],\n",
    "    'alpha': [0.1, 0.01, 0.001],\n",
    "    'solver': ['adam', 'lbfgs'],\n",
    "    'activation': ['relu', 'logistic'],\n",
    "    'hidden_layer_sizes': randint(2, 7)\n",
    "}\n",
    "\n",
    "red_random = RandomizedSearchCV(red, parametros, n_iter=10, cv=10, random_state=0)\n",
    "red_random.fit(X_train_n, y_train_n)\n",
    "\n",
    "print(red_random.best_params_)"
   ]
  },
  {
   "cell_type": "code",
   "execution_count": 24,
   "id": "59ca97b7",
   "metadata": {
    "execution": {
     "iopub.execute_input": "2023-07-10T01:09:47.769569Z",
     "iopub.status.busy": "2023-07-10T01:09:47.768885Z",
     "iopub.status.idle": "2023-07-10T01:09:47.809260Z",
     "shell.execute_reply": "2023-07-10T01:09:47.807289Z"
    },
    "papermill": {
     "duration": 0.096251,
     "end_time": "2023-07-10T01:09:47.812850",
     "exception": false,
     "start_time": "2023-07-10T01:09:47.716599",
     "status": "completed"
    },
    "tags": []
   },
   "outputs": [
    {
     "name": "stdout",
     "output_type": "stream",
     "text": [
      "Red Neuronal. Random Search:\n",
      "AUC Test = 70.89\n",
      "AUC Train = 69.91\n"
     ]
    }
   ],
   "source": [
    "# Calculando rendimiento\n",
    "\n",
    "red_EC1 = red_random.best_estimator_\n",
    "\n",
    "y_pred_test_proba_red_random = red_EC1.predict_proba(X_test)[:,1]\n",
    "auc_red_random_test = roc_auc_score(y_test['EC1'], y_pred_test_proba_red_random)\n",
    "\n",
    "y_pred_train_proba_red_random = red_EC1.predict_proba(X_train_n)[:,1]\n",
    "auc_red_random_train = roc_auc_score(y_train_n, y_pred_train_proba_red_random)\n",
    "\n",
    "\n",
    "print(\"Red Neuronal. Random Search:\")\n",
    "print('AUC Test = %.2f' %(auc_red_random_test*100))\n",
    "print('AUC Train = %.2f' %(auc_red_random_train*100))\n"
   ]
  },
  {
   "cell_type": "markdown",
   "id": "0cea4a1f",
   "metadata": {
    "papermill": {
     "duration": 0.045909,
     "end_time": "2023-07-10T01:09:47.932489",
     "exception": false,
     "start_time": "2023-07-10T01:09:47.886580",
     "status": "completed"
    },
    "tags": []
   },
   "source": [
    "##### 3. Gradient Boosting (xgb)"
   ]
  },
  {
   "cell_type": "code",
   "execution_count": 25,
   "id": "a62e2579",
   "metadata": {
    "execution": {
     "iopub.execute_input": "2023-07-10T01:09:48.004651Z",
     "iopub.status.busy": "2023-07-10T01:09:48.004230Z",
     "iopub.status.idle": "2023-07-10T01:09:48.393617Z",
     "shell.execute_reply": "2023-07-10T01:09:48.392665Z"
    },
    "papermill": {
     "duration": 0.428545,
     "end_time": "2023-07-10T01:09:48.396383",
     "exception": false,
     "start_time": "2023-07-10T01:09:47.967838",
     "status": "completed"
    },
    "tags": []
   },
   "outputs": [],
   "source": [
    "# Conversion del conjunto de datos para xgb\n",
    "\n",
    "import xgboost as xgb \n",
    "\n",
    "original_data  = xgb.DMatrix(X, label=y[\"EC1\"])\n",
    "train_data = xgb.DMatrix(X_train_n, label=y_train_n)\n",
    "test_data = xgb.DMatrix(X_test, label=y_test[\"EC1\"])\n"
   ]
  },
  {
   "cell_type": "code",
   "execution_count": 26,
   "id": "e454477d",
   "metadata": {
    "execution": {
     "iopub.execute_input": "2023-07-10T01:09:48.468560Z",
     "iopub.status.busy": "2023-07-10T01:09:48.468178Z",
     "iopub.status.idle": "2023-07-10T01:12:09.171170Z",
     "shell.execute_reply": "2023-07-10T01:12:09.170297Z"
    },
    "papermill": {
     "duration": 140.741793,
     "end_time": "2023-07-10T01:12:09.174030",
     "exception": false,
     "start_time": "2023-07-10T01:09:48.432237",
     "status": "completed"
    },
    "tags": []
   },
   "outputs": [],
   "source": [
    "# Gradient Boosting\n",
    "\n",
    "from datetime import datetime\n",
    "from sklearn.model_selection import RandomizedSearchCV\n",
    "\n",
    "# creo el clasificador\n",
    "gbm_random = xgb.XGBClassifier(objective='binary:logistic',\n",
    "                               eval_metric='auc',\n",
    "                               n_estimators=100,\n",
    "                               verbosity=0,\n",
    "                               random_state=0)\n",
    "# Declaro los parametros a revisar\n",
    "grid_parametros = {\n",
    "    'max_depth': [1, 3, 6, 12],\n",
    "    'min_child_weight': [1, 3, 10],\n",
    "    'subsample': [0.8, 1.0],\n",
    "    'colsample_bytree': [0.8, 1.0],\n",
    "    'learning_rate': [0.05, 0.1, 0.5],\n",
    "    'gamma': [0, 0.1, 0.2],\n",
    "    'n_estimators': [100, 200, 300, 500]\n",
    "}\n",
    "\n",
    "# Optimizo hiperparametros mediante random search\n",
    "xgb_random = RandomizedSearchCV(gbm_random, grid_parametros, scoring='roc_auc', cv=5, n_jobs=-1)\n",
    "start_1 = datetime.now()\n",
    "xgb_random.fit(X_train_n, y_train_n)\n",
    "stop_1 = datetime.now()\n"
   ]
  },
  {
   "cell_type": "code",
   "execution_count": 27,
   "id": "e9764347",
   "metadata": {
    "execution": {
     "iopub.execute_input": "2023-07-10T01:12:09.246997Z",
     "iopub.status.busy": "2023-07-10T01:12:09.246639Z",
     "iopub.status.idle": "2023-07-10T01:12:09.252543Z",
     "shell.execute_reply": "2023-07-10T01:12:09.251244Z"
    },
    "papermill": {
     "duration": 0.044105,
     "end_time": "2023-07-10T01:12:09.254671",
     "exception": false,
     "start_time": "2023-07-10T01:12:09.210566",
     "status": "completed"
    },
    "tags": []
   },
   "outputs": [
    {
     "name": "stdout",
     "output_type": "stream",
     "text": [
      "{'subsample': 0.8, 'n_estimators': 500, 'min_child_weight': 1, 'max_depth': 12, 'learning_rate': 0.1, 'gamma': 0.1, 'colsample_bytree': 0.8} 0:02:20.695554\n"
     ]
    }
   ],
   "source": [
    "#Execution time: Cuanto se demoró en entrenar el modelo.\n",
    "\n",
    "execution_time_xgb = stop_1-start_1\n",
    "\n",
    "#muestro los mejores parametros\n",
    "print(xgb_random.best_params_, execution_time_xgb)"
   ]
  },
  {
   "cell_type": "code",
   "execution_count": 28,
   "id": "75bae0aa",
   "metadata": {
    "execution": {
     "iopub.execute_input": "2023-07-10T01:12:09.322288Z",
     "iopub.status.busy": "2023-07-10T01:12:09.321948Z",
     "iopub.status.idle": "2023-07-10T01:12:13.382304Z",
     "shell.execute_reply": "2023-07-10T01:12:13.381514Z"
    },
    "papermill": {
     "duration": 4.096889,
     "end_time": "2023-07-10T01:12:13.384570",
     "exception": false,
     "start_time": "2023-07-10T01:12:09.287681",
     "status": "completed"
    },
    "tags": []
   },
   "outputs": [
    {
     "name": "stdout",
     "output_type": "stream",
     "text": [
      "[01:12:09] WARNING: ../src/learner.cc:767: \n",
      "Parameters: { \"early_stopping_rounds\", \"n_estimators\", \"verbose\" } are not used.\n",
      "\n",
      "Cantidad de rounds óptimo = 16\n"
     ]
    }
   ],
   "source": [
    "from sklearn.metrics import roc_auc_score\n",
    "\n",
    "# Escogemos ahora el mejor número de rondas en base a los hiperparámetros ya elegidos:\n",
    "grid_parametros = {\n",
    "    'booster': 'gbtree',\n",
    "    'objective': 'binary:logistic',\n",
    "    'eval_metric': 'auc',\n",
    "    'n_estimators': xgb_random.best_params_['n_estimators'],\n",
    "    'early_stopping_rounds': 100,\n",
    "    'verbose': -10,\n",
    "    'seed': 0,\n",
    "    'max_depth': xgb_random.best_params_['max_depth'],\n",
    "    'min_child_weight': xgb_random.best_params_['min_child_weight'],\n",
    "    'subsample': xgb_random.best_params_['subsample'],\n",
    "    'colsample_bytree': xgb_random.best_params_['colsample_bytree'],\n",
    "    'learning_rate': xgb_random.best_params_['learning_rate'],\n",
    "    'gamma': xgb_random.best_params_['gamma']}\n",
    "\n",
    "# Corro el mejor modelo para conocer rounds optimo\n",
    "xgb_random_best = xgb.train(grid_parametros, train_data, num_boost_round=xgb_random.best_params_['n_estimators'], \n",
    "                            evals=[(test_data, 'test')], early_stopping_rounds=100, verbose_eval=False)\n",
    "\n",
    "print('Cantidad de rounds óptimo = %d' % xgb_random_best.best_iteration)\n"
   ]
  },
  {
   "cell_type": "code",
   "execution_count": 29,
   "id": "831ec986",
   "metadata": {
    "_kg_hide-input": true,
    "execution": {
     "iopub.execute_input": "2023-07-10T01:12:13.458017Z",
     "iopub.status.busy": "2023-07-10T01:12:13.457670Z",
     "iopub.status.idle": "2023-07-10T01:12:14.077337Z",
     "shell.execute_reply": "2023-07-10T01:12:14.076574Z"
    },
    "papermill": {
     "duration": 0.658096,
     "end_time": "2023-07-10T01:12:14.079465",
     "exception": false,
     "start_time": "2023-07-10T01:12:13.421369",
     "status": "completed"
    },
    "tags": []
   },
   "outputs": [
    {
     "name": "stdout",
     "output_type": "stream",
     "text": [
      "[01:12:13] WARNING: ../src/learner.cc:767: \n",
      "Parameters: { \"n_estimators\", \"verbose\" } are not used.\n",
      "\n",
      "XGB. Random Search:\n",
      "AUC Train = 95.05\n",
      "AUC Test = 69.39\n"
     ]
    }
   ],
   "source": [
    "# Declaro los mejores parametros\n",
    "\n",
    "params = {\n",
    "    'booster': 'gbtree',\n",
    "    'objective': 'binary:logistic',\n",
    "    'eval_metric': 'auc',\n",
    "    'n_estimators': xgb_random_best.best_iteration,\n",
    "    'verbose': -10,\n",
    "    'seed': 0,\n",
    "    'max_depth': xgb_random.best_params_['max_depth'],\n",
    "    'min_child_weight': xgb_random.best_params_['min_child_weight'],\n",
    "    'subsample': xgb_random.best_params_['subsample'],\n",
    "    'colsample_bytree': xgb_random.best_params_['colsample_bytree'],\n",
    "    'learning_rate': xgb_random.best_params_['learning_rate'],\n",
    "    'gamma': xgb_random.best_params_['gamma']\n",
    "}\n",
    "\n",
    "xgb_random_best1 = xgb.train(params, train_data, num_boost_round=xgb_random_best.best_iteration)\n",
    "\n",
    "# Generamos las predicciones.\n",
    "y_pred_train = xgb_random_best1.predict(train_data)\n",
    "auc_xgb_random_train = roc_auc_score(y_train_n, y_pred_train)\n",
    "\n",
    "y_pred_test = xgb_random_best1.predict(test_data)\n",
    "auc_xgb_random_test = roc_auc_score(y_test['EC1'], y_pred_test)\n",
    "\n",
    "print(\"XGB. Random Search:\")\n",
    "print('AUC Train = %.2f' % (auc_xgb_random_train * 100))\n",
    "print('AUC Test = %.2f' % (auc_xgb_random_test * 100))\n"
   ]
  },
  {
   "cell_type": "markdown",
   "id": "889980d4",
   "metadata": {
    "papermill": {
     "duration": 0.033706,
     "end_time": "2023-07-10T01:12:14.148770",
     "exception": false,
     "start_time": "2023-07-10T01:12:14.115064",
     "status": "completed"
    },
    "tags": []
   },
   "source": [
    "##### 4. Gradient Boosting (lgbm)"
   ]
  },
  {
   "cell_type": "code",
   "execution_count": 30,
   "id": "a4fdff5d",
   "metadata": {
    "execution": {
     "iopub.execute_input": "2023-07-10T01:12:14.222039Z",
     "iopub.status.busy": "2023-07-10T01:12:14.221647Z",
     "iopub.status.idle": "2023-07-10T01:12:15.155110Z",
     "shell.execute_reply": "2023-07-10T01:12:15.153957Z"
    },
    "papermill": {
     "duration": 0.97336,
     "end_time": "2023-07-10T01:12:15.157729",
     "exception": false,
     "start_time": "2023-07-10T01:12:14.184369",
     "status": "completed"
    },
    "tags": []
   },
   "outputs": [],
   "source": [
    "#Importamos lightgbm\n",
    "import lightgbm as lgb \n",
    "\n",
    "# conversion del conjunto de datos\n",
    "\n",
    "original_data_lgb  = lgb.Dataset(X, label=y[\"EC1\"])\n",
    "train_data_lgb = lgb.Dataset(X_train_n,label=y_train_n)\n",
    "test_data_lgb = lgb.Dataset(X_test, label=y_test[\"EC1\"] )"
   ]
  },
  {
   "cell_type": "code",
   "execution_count": 31,
   "id": "e06b8d4c",
   "metadata": {
    "execution": {
     "iopub.execute_input": "2023-07-10T01:12:15.229427Z",
     "iopub.status.busy": "2023-07-10T01:12:15.228872Z",
     "iopub.status.idle": "2023-07-10T01:13:13.450985Z",
     "shell.execute_reply": "2023-07-10T01:13:13.450137Z"
    },
    "papermill": {
     "duration": 58.260435,
     "end_time": "2023-07-10T01:13:13.453528",
     "exception": false,
     "start_time": "2023-07-10T01:12:15.193093",
     "status": "completed"
    },
    "tags": []
   },
   "outputs": [
    {
     "name": "stdout",
     "output_type": "stream",
     "text": [
      "[LightGBM] [Warning] min_data_in_leaf is set=20, min_child_samples=20 will be ignored. Current value: min_data_in_leaf=20\n"
     ]
    }
   ],
   "source": [
    "gbm_random = lgb.LGBMClassifier(boosting_type  = 'gbdt',\n",
    "                        application = 'binary',\n",
    "                        objective =  'binary',\n",
    "                        metric = 'auc',\n",
    "                        n_estimators = 100,\n",
    "                        verbose= -10,\n",
    "                        seed = 0)\n",
    "\n",
    "grid_parametros = {\n",
    "'max_depth': [1,3,6,12], #profundidad\n",
    "'min_data_in_bin': [1,3,10], #Mínimo número de datos por bucket en histograma\n",
    "'min_data_in_leaf': [5,20,40], #Mínima cantidad de datos en nodos terminales\n",
    "'num_leaves':[150,200],\n",
    "'learning_rate':[.05, 1, 1.5],\n",
    "'max_bin':[200],\n",
    "'n_estimators': [100,200,300,500]}  \n",
    "\n",
    "lgbm_random = RandomizedSearchCV(gbm_random, grid_parametros, scoring = 'roc_auc', cv = 5, n_jobs=-1)\n",
    "start_1=datetime.now()\n",
    "lgbm_random.fit(X_train_n, y_train_n)\n",
    "stop_1=datetime.now()"
   ]
  },
  {
   "cell_type": "code",
   "execution_count": 32,
   "id": "73af3888",
   "metadata": {
    "execution": {
     "iopub.execute_input": "2023-07-10T01:13:13.522789Z",
     "iopub.status.busy": "2023-07-10T01:13:13.522416Z",
     "iopub.status.idle": "2023-07-10T01:13:13.529898Z",
     "shell.execute_reply": "2023-07-10T01:13:13.528970Z"
    },
    "papermill": {
     "duration": 0.044675,
     "end_time": "2023-07-10T01:13:13.531968",
     "exception": false,
     "start_time": "2023-07-10T01:13:13.487293",
     "status": "completed"
    },
    "tags": []
   },
   "outputs": [
    {
     "name": "stdout",
     "output_type": "stream",
     "text": [
      "{'num_leaves': 200, 'n_estimators': 300, 'min_data_in_leaf': 20, 'min_data_in_bin': 3, 'max_depth': 12, 'max_bin': 200, 'learning_rate': 0.05} 0:00:58.213745\n"
     ]
    }
   ],
   "source": [
    "#Execution time: Cuanto se demoró en entrenar el modelo.\n",
    "\n",
    "execution_time_lgb = stop_1-start_1\n",
    "\n",
    "#muestro los mejores parametros\n",
    "print(lgbm_random.best_params_, execution_time_lgb)"
   ]
  },
  {
   "cell_type": "code",
   "execution_count": 33,
   "id": "00ee3612",
   "metadata": {
    "execution": {
     "iopub.execute_input": "2023-07-10T01:13:13.601675Z",
     "iopub.status.busy": "2023-07-10T01:13:13.601180Z",
     "iopub.status.idle": "2023-07-10T01:13:14.664442Z",
     "shell.execute_reply": "2023-07-10T01:13:14.662798Z"
    },
    "papermill": {
     "duration": 1.100756,
     "end_time": "2023-07-10T01:13:14.666607",
     "exception": false,
     "start_time": "2023-07-10T01:13:13.565851",
     "status": "completed"
    },
    "tags": []
   },
   "outputs": [
    {
     "name": "stderr",
     "output_type": "stream",
     "text": [
      "/opt/conda/lib/python3.10/site-packages/lightgbm/engine.py:177: UserWarning: Found `n_estimators` in params. Will use it instead of argument\n",
      "  _log_warning(f\"Found `{alias}` in params. Will use it instead of argument\")\n",
      "/opt/conda/lib/python3.10/site-packages/lightgbm/engine.py:239: UserWarning: 'verbose_eval' argument is deprecated and will be removed in a future release of LightGBM. Pass 'log_evaluation()' callback via 'callbacks' argument instead.\n",
      "  _log_warning(\"'verbose_eval' argument is deprecated and will be removed in a future release of LightGBM. \"\n"
     ]
    },
    {
     "name": "stdout",
     "output_type": "stream",
     "text": [
      "Cantidad de rounds óptimo = 42\n"
     ]
    }
   ],
   "source": [
    "# Escogemos ahora el mejor rounds en base a los hiper parámetros ya elegidos:\n",
    "\n",
    "grid_parametros = {'boosting_type': 'gbdt',\n",
    "                        'application': 'binary',\n",
    "                        'objective':  'binary',\n",
    "                        'metric': 'auc',\n",
    "                        'n_estimators': lgbm_random.best_params_['n_estimators'],\n",
    "                        'early_stopping_rounds': 100,\n",
    "                        'verbose': -10,\n",
    "                        'seed': 0,\n",
    "                        'max_depth':lgbm_random.best_params_['max_depth'],\n",
    "                        'min_data_in_bin': lgbm_random.best_params_['min_data_in_bin'],\n",
    "                        'min_data_in_leaf': lgbm_random.best_params_['min_data_in_leaf'],\n",
    "                        'learning_rate': lgbm_random.best_params_['learning_rate'],\n",
    "                        'max_bin': lgbm_random.best_params_['max_bin']}\n",
    "\n",
    "lgbm_random_best = lgb.train(grid_parametros,\n",
    "                        train_data_lgb,\n",
    "                        valid_sets=test_data_lgb, \n",
    "                         verbose_eval=False)\n",
    "\n",
    "print('Cantidad de rounds óptimo = %.1d' %lgbm_random_best.best_iteration)"
   ]
  },
  {
   "cell_type": "code",
   "execution_count": 34,
   "id": "24d5c3da",
   "metadata": {
    "execution": {
     "iopub.execute_input": "2023-07-10T01:13:14.738378Z",
     "iopub.status.busy": "2023-07-10T01:13:14.737997Z",
     "iopub.status.idle": "2023-07-10T01:13:15.102901Z",
     "shell.execute_reply": "2023-07-10T01:13:15.101868Z"
    },
    "papermill": {
     "duration": 0.403219,
     "end_time": "2023-07-10T01:13:15.105216",
     "exception": false,
     "start_time": "2023-07-10T01:13:14.701997",
     "status": "completed"
    },
    "tags": []
   },
   "outputs": [
    {
     "name": "stderr",
     "output_type": "stream",
     "text": [
      "/opt/conda/lib/python3.10/site-packages/lightgbm/engine.py:177: UserWarning: Found `n_estimators` in params. Will use it instead of argument\n",
      "  _log_warning(f\"Found `{alias}` in params. Will use it instead of argument\")\n"
     ]
    },
    {
     "name": "stdout",
     "output_type": "stream",
     "text": [
      "LGBM. Random Search:\n",
      "AUC Train = 83.85\n",
      "AUC Test = 70.57\n"
     ]
    }
   ],
   "source": [
    "#  Ejecutamos el modelo con el rounds óptimo.\n",
    "\n",
    "params = {'boosting_type': 'gbdt',\n",
    "                        'application': 'binary',\n",
    "                        'objective':  'binary',\n",
    "                        'metric': 'auc',\n",
    "                        'n_estimators': lgbm_random_best.best_iteration,\n",
    "                        'verbose': -10,\n",
    "                        'seed': 0,\n",
    "                        'max_depth':lgbm_random.best_params_['max_depth'],\n",
    "                        'min_data_in_bin': lgbm_random.best_params_['min_data_in_bin'],\n",
    "                        'min_data_in_leaf': lgbm_random.best_params_['min_data_in_leaf'],\n",
    "                        'learning_rate': lgbm_random.best_params_['learning_rate'],\n",
    "                        'max_bin': lgbm_random.best_params_['max_bin']}\n",
    "lgb_EC1 = lgb.train(params,\n",
    "                        train_data_lgb)\n",
    "\n",
    "# Generamos las predicciones.\n",
    "\n",
    "y_pred = lgb_EC1.predict(X_train_n)\n",
    "auc_lgbm_random_train = roc_auc_score(y_train_n, y_pred)\n",
    "\n",
    "y_pred = lgb_EC1.predict(X_test)\n",
    "auc_lgbm_random_test = roc_auc_score(y_test['EC1'], y_pred)\n",
    "\n",
    "\n",
    "print (\"LGBM. Random Search:\")\n",
    "print('AUC Train = %.2f' %(auc_lgbm_random_train*100))\n",
    "print('AUC Test = %.2f' %(auc_lgbm_random_test*100))"
   ]
  },
  {
   "cell_type": "markdown",
   "id": "188c94e0",
   "metadata": {
    "papermill": {
     "duration": 0.036026,
     "end_time": "2023-07-10T01:13:15.177798",
     "exception": false,
     "start_time": "2023-07-10T01:13:15.141772",
     "status": "completed"
    },
    "tags": []
   },
   "source": [
    "### Reentrenamos sobre toda la muestra el mejor modelo:"
   ]
  },
  {
   "cell_type": "code",
   "execution_count": 35,
   "id": "2f1c8059",
   "metadata": {
    "execution": {
     "iopub.execute_input": "2023-07-10T01:13:15.251919Z",
     "iopub.status.busy": "2023-07-10T01:13:15.251493Z",
     "iopub.status.idle": "2023-07-10T01:13:15.258917Z",
     "shell.execute_reply": "2023-07-10T01:13:15.257978Z"
    },
    "papermill": {
     "duration": 0.046927,
     "end_time": "2023-07-10T01:13:15.261234",
     "exception": false,
     "start_time": "2023-07-10T01:13:15.214307",
     "status": "completed"
    },
    "tags": []
   },
   "outputs": [
    {
     "name": "stdout",
     "output_type": "stream",
     "text": [
      "\n",
      "Random Forest. Random Search:\n",
      "AUC Train = 99.15\n",
      "AUC Test = 70.47\n",
      "\n",
      "Red Neuronal. Random Search:\n",
      "AUC Train = 69.91\n",
      "AUC Test = 70.89\n",
      "\n",
      "XGB. Random Search:\n",
      "AUC Train = 95.05\n",
      "AUC Test = 69.39\n",
      "\n",
      "LGBM. Random Search:\n",
      "AUC Train = 83.85\n",
      "AUC Test = 70.57\n"
     ]
    }
   ],
   "source": [
    "print(\"\\nRandom Forest. Random Search:\")\n",
    "print('AUC Train = %.2f' %(auc_rf_random_train*100))\n",
    "print('AUC Test = %.2f' %(auc_rf_random_test*100))\n",
    "\n",
    "print(\"\\nRed Neuronal. Random Search:\")\n",
    "print('AUC Train = %.2f' %(auc_red_random_train*100))\n",
    "print('AUC Test = %.2f' %(auc_red_random_test*100))\n",
    "\n",
    "\n",
    "print(\"\\nXGB. Random Search:\")\n",
    "print('AUC Train = %.2f' % (auc_xgb_random_train * 100))\n",
    "print('AUC Test = %.2f' % (auc_xgb_random_test * 100))\n",
    "\n",
    "print (\"\\nLGBM. Random Search:\")\n",
    "print('AUC Train = %.2f' %(auc_lgbm_random_train*100))\n",
    "print('AUC Test = %.2f' %(auc_lgbm_random_test*100))\n"
   ]
  },
  {
   "cell_type": "markdown",
   "id": "02cd6681",
   "metadata": {
    "papermill": {
     "duration": 0.034868,
     "end_time": "2023-07-10T01:13:15.332519",
     "exception": false,
     "start_time": "2023-07-10T01:13:15.297651",
     "status": "completed"
    },
    "tags": []
   },
   "source": [
    "Dados los resultados, se decidirá utilizar LGBM. Esto debido a que obtiene el mejor resultado en el test set (junto a xgb), pero sin la necesidad de haber hecho overfitting en el train set"
   ]
  },
  {
   "cell_type": "code",
   "execution_count": 36,
   "id": "bc29198e",
   "metadata": {
    "execution": {
     "iopub.execute_input": "2023-07-10T01:13:15.404217Z",
     "iopub.status.busy": "2023-07-10T01:13:15.403837Z",
     "iopub.status.idle": "2023-07-10T01:13:15.715754Z",
     "shell.execute_reply": "2023-07-10T01:13:15.714726Z"
    },
    "papermill": {
     "duration": 0.350878,
     "end_time": "2023-07-10T01:13:15.718126",
     "exception": false,
     "start_time": "2023-07-10T01:13:15.367248",
     "status": "completed"
    },
    "tags": []
   },
   "outputs": [
    {
     "name": "stdout",
     "output_type": "stream",
     "text": [
      "[LightGBM] [Warning] objective is set=binary, application=binary will be ignored. Current value: objective=binary\n"
     ]
    },
    {
     "name": "stderr",
     "output_type": "stream",
     "text": [
      "/opt/conda/lib/python3.10/site-packages/lightgbm/engine.py:177: UserWarning: Found `n_estimators` in params. Will use it instead of argument\n",
      "  _log_warning(f\"Found `{alias}` in params. Will use it instead of argument\")\n"
     ]
    }
   ],
   "source": [
    "# Reentrenamos sobre todo el modelo\n",
    "\n",
    "lgbm_EC1 = lgb.train(params,\n",
    "                        original_data_lgb)\n"
   ]
  },
  {
   "cell_type": "code",
   "execution_count": 37,
   "id": "91e6cf42",
   "metadata": {
    "execution": {
     "iopub.execute_input": "2023-07-10T01:13:15.791127Z",
     "iopub.status.busy": "2023-07-10T01:13:15.790775Z",
     "iopub.status.idle": "2023-07-10T01:13:15.817703Z",
     "shell.execute_reply": "2023-07-10T01:13:15.816538Z"
    },
    "papermill": {
     "duration": 0.066334,
     "end_time": "2023-07-10T01:13:15.819790",
     "exception": false,
     "start_time": "2023-07-10T01:13:15.753456",
     "status": "completed"
    },
    "tags": []
   },
   "outputs": [
    {
     "name": "stdout",
     "output_type": "stream",
     "text": [
      "LGBM. Random Search:\n",
      "AUC = 75.68\n"
     ]
    }
   ],
   "source": [
    "EC1 = lgbm_EC1.predict(X)\n",
    "auc_lgbm_random = roc_auc_score(y['EC1'], EC1)\n",
    "\n",
    "\n",
    "print (\"LGBM. Random Search:\")\n",
    "print('AUC = %.2f' %(auc_lgbm_random*100))\n"
   ]
  },
  {
   "cell_type": "code",
   "execution_count": 38,
   "id": "a6e80481",
   "metadata": {
    "execution": {
     "iopub.execute_input": "2023-07-10T01:13:15.889835Z",
     "iopub.status.busy": "2023-07-10T01:13:15.889433Z",
     "iopub.status.idle": "2023-07-10T01:13:15.895150Z",
     "shell.execute_reply": "2023-07-10T01:13:15.894182Z"
    },
    "papermill": {
     "duration": 0.042779,
     "end_time": "2023-07-10T01:13:15.897053",
     "exception": false,
     "start_time": "2023-07-10T01:13:15.854274",
     "status": "completed"
    },
    "tags": []
   },
   "outputs": [],
   "source": [
    "# Los convertimos a df para añadirlos a x\n",
    "EC1 = pd.DataFrame(EC1)\n",
    "EC1 = EC1.rename(columns={0: 'EC1'})"
   ]
  },
  {
   "cell_type": "code",
   "execution_count": 39,
   "id": "02ab2a38",
   "metadata": {
    "execution": {
     "iopub.execute_input": "2023-07-10T01:13:15.967549Z",
     "iopub.status.busy": "2023-07-10T01:13:15.967138Z",
     "iopub.status.idle": "2023-07-10T01:13:15.998223Z",
     "shell.execute_reply": "2023-07-10T01:13:15.997243Z"
    },
    "papermill": {
     "duration": 0.069995,
     "end_time": "2023-07-10T01:13:16.001027",
     "exception": false,
     "start_time": "2023-07-10T01:13:15.931032",
     "status": "completed"
    },
    "tags": []
   },
   "outputs": [
    {
     "data": {
      "text/html": [
       "<div>\n",
       "<style scoped>\n",
       "    .dataframe tbody tr th:only-of-type {\n",
       "        vertical-align: middle;\n",
       "    }\n",
       "\n",
       "    .dataframe tbody tr th {\n",
       "        vertical-align: top;\n",
       "    }\n",
       "\n",
       "    .dataframe thead th {\n",
       "        text-align: right;\n",
       "    }\n",
       "</style>\n",
       "<table border=\"1\" class=\"dataframe\">\n",
       "  <thead>\n",
       "    <tr style=\"text-align: right;\">\n",
       "      <th></th>\n",
       "      <th>EState_VSA1</th>\n",
       "      <th>EState_VSA2</th>\n",
       "      <th>ExactMolWt</th>\n",
       "      <th>FpDensityMorgan3</th>\n",
       "      <th>HallKierAlpha</th>\n",
       "      <th>Kappa3</th>\n",
       "      <th>MaxAbsEStateIndex</th>\n",
       "      <th>MinEStateIndex</th>\n",
       "      <th>NumHeteroatoms</th>\n",
       "      <th>PEOE_VSA10</th>\n",
       "      <th>PEOE_VSA14</th>\n",
       "      <th>PEOE_VSA6</th>\n",
       "      <th>PEOE_VSA7</th>\n",
       "      <th>PEOE_VSA8</th>\n",
       "      <th>SMR_VSA10</th>\n",
       "      <th>SMR_VSA5</th>\n",
       "      <th>SlogP_VSA3</th>\n",
       "      <th>VSA_EState9</th>\n",
       "      <th>fr_COO</th>\n",
       "      <th>EC1</th>\n",
       "    </tr>\n",
       "  </thead>\n",
       "  <tbody>\n",
       "    <tr>\n",
       "      <th>0</th>\n",
       "      <td>0.000000</td>\n",
       "      <td>0.119459</td>\n",
       "      <td>0.098851</td>\n",
       "      <td>0.998452</td>\n",
       "      <td>0.876023</td>\n",
       "      <td>0.069425</td>\n",
       "      <td>0.762784</td>\n",
       "      <td>0.527203</td>\n",
       "      <td>0.095238</td>\n",
       "      <td>0.000000</td>\n",
       "      <td>0.189739</td>\n",
       "      <td>0.000000</td>\n",
       "      <td>0.000000</td>\n",
       "      <td>0.000000</td>\n",
       "      <td>0.219762</td>\n",
       "      <td>0.000000</td>\n",
       "      <td>0.041545</td>\n",
       "      <td>0.105052</td>\n",
       "      <td>0.00</td>\n",
       "      <td>0.775163</td>\n",
       "    </tr>\n",
       "    <tr>\n",
       "      <th>1</th>\n",
       "      <td>0.124099</td>\n",
       "      <td>0.000000</td>\n",
       "      <td>0.115826</td>\n",
       "      <td>0.999058</td>\n",
       "      <td>0.893567</td>\n",
       "      <td>0.066351</td>\n",
       "      <td>0.699435</td>\n",
       "      <td>0.121441</td>\n",
       "      <td>0.238095</td>\n",
       "      <td>0.250000</td>\n",
       "      <td>0.016215</td>\n",
       "      <td>0.000000</td>\n",
       "      <td>0.000000</td>\n",
       "      <td>0.000000</td>\n",
       "      <td>0.096885</td>\n",
       "      <td>0.062318</td>\n",
       "      <td>0.119800</td>\n",
       "      <td>0.128598</td>\n",
       "      <td>0.00</td>\n",
       "      <td>0.312916</td>\n",
       "    </tr>\n",
       "    <tr>\n",
       "      <th>2</th>\n",
       "      <td>0.043017</td>\n",
       "      <td>0.066111</td>\n",
       "      <td>0.170425</td>\n",
       "      <td>0.998506</td>\n",
       "      <td>0.812865</td>\n",
       "      <td>0.073671</td>\n",
       "      <td>0.718993</td>\n",
       "      <td>0.102313</td>\n",
       "      <td>0.214286</td>\n",
       "      <td>0.000000</td>\n",
       "      <td>0.032430</td>\n",
       "      <td>0.000000</td>\n",
       "      <td>0.252378</td>\n",
       "      <td>0.000000</td>\n",
       "      <td>0.193770</td>\n",
       "      <td>0.148446</td>\n",
       "      <td>0.155663</td>\n",
       "      <td>0.131042</td>\n",
       "      <td>0.00</td>\n",
       "      <td>0.478808</td>\n",
       "    </tr>\n",
       "    <tr>\n",
       "      <th>3</th>\n",
       "      <td>0.262958</td>\n",
       "      <td>0.000000</td>\n",
       "      <td>0.236578</td>\n",
       "      <td>0.998312</td>\n",
       "      <td>0.752047</td>\n",
       "      <td>0.068530</td>\n",
       "      <td>0.714715</td>\n",
       "      <td>0.085251</td>\n",
       "      <td>0.452381</td>\n",
       "      <td>0.437500</td>\n",
       "      <td>0.044224</td>\n",
       "      <td>0.000000</td>\n",
       "      <td>0.000000</td>\n",
       "      <td>0.063985</td>\n",
       "      <td>0.193770</td>\n",
       "      <td>0.126047</td>\n",
       "      <td>0.276952</td>\n",
       "      <td>0.238382</td>\n",
       "      <td>0.00</td>\n",
       "      <td>0.459954</td>\n",
       "    </tr>\n",
       "    <tr>\n",
       "      <th>4</th>\n",
       "      <td>0.049437</td>\n",
       "      <td>0.128498</td>\n",
       "      <td>0.052343</td>\n",
       "      <td>0.998739</td>\n",
       "      <td>0.775439</td>\n",
       "      <td>0.066802</td>\n",
       "      <td>0.630555</td>\n",
       "      <td>0.377304</td>\n",
       "      <td>0.095238</td>\n",
       "      <td>0.061864</td>\n",
       "      <td>0.024747</td>\n",
       "      <td>0.018442</td>\n",
       "      <td>0.091661</td>\n",
       "      <td>0.000000</td>\n",
       "      <td>0.147861</td>\n",
       "      <td>0.038324</td>\n",
       "      <td>0.083090</td>\n",
       "      <td>0.099425</td>\n",
       "      <td>0.25</td>\n",
       "      <td>0.761214</td>\n",
       "    </tr>\n",
       "    <tr>\n",
       "      <th>...</th>\n",
       "      <td>...</td>\n",
       "      <td>...</td>\n",
       "      <td>...</td>\n",
       "      <td>...</td>\n",
       "      <td>...</td>\n",
       "      <td>...</td>\n",
       "      <td>...</td>\n",
       "      <td>...</td>\n",
       "      <td>...</td>\n",
       "      <td>...</td>\n",
       "      <td>...</td>\n",
       "      <td>...</td>\n",
       "      <td>...</td>\n",
       "      <td>...</td>\n",
       "      <td>...</td>\n",
       "      <td>...</td>\n",
       "      <td>...</td>\n",
       "      <td>...</td>\n",
       "      <td>...</td>\n",
       "      <td>...</td>\n",
       "    </tr>\n",
       "    <tr>\n",
       "      <th>14833</th>\n",
       "      <td>0.090654</td>\n",
       "      <td>0.066111</td>\n",
       "      <td>0.154744</td>\n",
       "      <td>0.998936</td>\n",
       "      <td>0.685380</td>\n",
       "      <td>0.067389</td>\n",
       "      <td>0.731046</td>\n",
       "      <td>0.101367</td>\n",
       "      <td>0.380952</td>\n",
       "      <td>0.176612</td>\n",
       "      <td>0.032430</td>\n",
       "      <td>0.000000</td>\n",
       "      <td>0.065472</td>\n",
       "      <td>0.068997</td>\n",
       "      <td>0.426142</td>\n",
       "      <td>0.066176</td>\n",
       "      <td>0.164181</td>\n",
       "      <td>0.171353</td>\n",
       "      <td>0.00</td>\n",
       "      <td>0.505073</td>\n",
       "    </tr>\n",
       "    <tr>\n",
       "      <th>14834</th>\n",
       "      <td>0.000000</td>\n",
       "      <td>0.000000</td>\n",
       "      <td>0.032651</td>\n",
       "      <td>0.998904</td>\n",
       "      <td>0.842105</td>\n",
       "      <td>0.064821</td>\n",
       "      <td>0.352326</td>\n",
       "      <td>0.533564</td>\n",
       "      <td>0.000000</td>\n",
       "      <td>0.000000</td>\n",
       "      <td>0.000000</td>\n",
       "      <td>0.000000</td>\n",
       "      <td>0.000000</td>\n",
       "      <td>0.060453</td>\n",
       "      <td>0.000000</td>\n",
       "      <td>0.013031</td>\n",
       "      <td>0.000000</td>\n",
       "      <td>0.039578</td>\n",
       "      <td>0.00</td>\n",
       "      <td>0.835409</td>\n",
       "    </tr>\n",
       "    <tr>\n",
       "      <th>14835</th>\n",
       "      <td>0.047424</td>\n",
       "      <td>0.000000</td>\n",
       "      <td>0.132398</td>\n",
       "      <td>0.999058</td>\n",
       "      <td>0.535673</td>\n",
       "      <td>0.065636</td>\n",
       "      <td>0.775349</td>\n",
       "      <td>0.477096</td>\n",
       "      <td>0.190476</td>\n",
       "      <td>0.353059</td>\n",
       "      <td>0.000000</td>\n",
       "      <td>0.000000</td>\n",
       "      <td>0.000000</td>\n",
       "      <td>0.236800</td>\n",
       "      <td>0.135855</td>\n",
       "      <td>0.000000</td>\n",
       "      <td>0.000000</td>\n",
       "      <td>0.184921</td>\n",
       "      <td>0.00</td>\n",
       "      <td>0.644722</td>\n",
       "    </tr>\n",
       "    <tr>\n",
       "      <th>14836</th>\n",
       "      <td>0.125441</td>\n",
       "      <td>0.000000</td>\n",
       "      <td>0.118477</td>\n",
       "      <td>0.997834</td>\n",
       "      <td>0.852632</td>\n",
       "      <td>0.069582</td>\n",
       "      <td>0.697960</td>\n",
       "      <td>0.174081</td>\n",
       "      <td>0.166667</td>\n",
       "      <td>0.000000</td>\n",
       "      <td>0.016215</td>\n",
       "      <td>0.051730</td>\n",
       "      <td>0.000000</td>\n",
       "      <td>0.000000</td>\n",
       "      <td>0.096885</td>\n",
       "      <td>0.221138</td>\n",
       "      <td>0.078755</td>\n",
       "      <td>0.130845</td>\n",
       "      <td>0.00</td>\n",
       "      <td>0.474983</td>\n",
       "    </tr>\n",
       "    <tr>\n",
       "      <th>14837</th>\n",
       "      <td>0.226689</td>\n",
       "      <td>0.056910</td>\n",
       "      <td>0.195066</td>\n",
       "      <td>0.998656</td>\n",
       "      <td>0.745029</td>\n",
       "      <td>0.067574</td>\n",
       "      <td>0.781293</td>\n",
       "      <td>0.075651</td>\n",
       "      <td>0.380952</td>\n",
       "      <td>0.000000</td>\n",
       "      <td>0.032430</td>\n",
       "      <td>0.000000</td>\n",
       "      <td>0.175446</td>\n",
       "      <td>0.000000</td>\n",
       "      <td>0.405706</td>\n",
       "      <td>0.078550</td>\n",
       "      <td>0.196708</td>\n",
       "      <td>0.196361</td>\n",
       "      <td>0.00</td>\n",
       "      <td>0.491519</td>\n",
       "    </tr>\n",
       "  </tbody>\n",
       "</table>\n",
       "<p>14838 rows × 20 columns</p>\n",
       "</div>"
      ],
      "text/plain": [
       "       EState_VSA1  EState_VSA2  ExactMolWt  FpDensityMorgan3  HallKierAlpha  \\\n",
       "0         0.000000     0.119459    0.098851          0.998452       0.876023   \n",
       "1         0.124099     0.000000    0.115826          0.999058       0.893567   \n",
       "2         0.043017     0.066111    0.170425          0.998506       0.812865   \n",
       "3         0.262958     0.000000    0.236578          0.998312       0.752047   \n",
       "4         0.049437     0.128498    0.052343          0.998739       0.775439   \n",
       "...            ...          ...         ...               ...            ...   \n",
       "14833     0.090654     0.066111    0.154744          0.998936       0.685380   \n",
       "14834     0.000000     0.000000    0.032651          0.998904       0.842105   \n",
       "14835     0.047424     0.000000    0.132398          0.999058       0.535673   \n",
       "14836     0.125441     0.000000    0.118477          0.997834       0.852632   \n",
       "14837     0.226689     0.056910    0.195066          0.998656       0.745029   \n",
       "\n",
       "         Kappa3  MaxAbsEStateIndex  MinEStateIndex  NumHeteroatoms  \\\n",
       "0      0.069425           0.762784        0.527203        0.095238   \n",
       "1      0.066351           0.699435        0.121441        0.238095   \n",
       "2      0.073671           0.718993        0.102313        0.214286   \n",
       "3      0.068530           0.714715        0.085251        0.452381   \n",
       "4      0.066802           0.630555        0.377304        0.095238   \n",
       "...         ...                ...             ...             ...   \n",
       "14833  0.067389           0.731046        0.101367        0.380952   \n",
       "14834  0.064821           0.352326        0.533564        0.000000   \n",
       "14835  0.065636           0.775349        0.477096        0.190476   \n",
       "14836  0.069582           0.697960        0.174081        0.166667   \n",
       "14837  0.067574           0.781293        0.075651        0.380952   \n",
       "\n",
       "       PEOE_VSA10  PEOE_VSA14  PEOE_VSA6  PEOE_VSA7  PEOE_VSA8  SMR_VSA10  \\\n",
       "0        0.000000    0.189739   0.000000   0.000000   0.000000   0.219762   \n",
       "1        0.250000    0.016215   0.000000   0.000000   0.000000   0.096885   \n",
       "2        0.000000    0.032430   0.000000   0.252378   0.000000   0.193770   \n",
       "3        0.437500    0.044224   0.000000   0.000000   0.063985   0.193770   \n",
       "4        0.061864    0.024747   0.018442   0.091661   0.000000   0.147861   \n",
       "...           ...         ...        ...        ...        ...        ...   \n",
       "14833    0.176612    0.032430   0.000000   0.065472   0.068997   0.426142   \n",
       "14834    0.000000    0.000000   0.000000   0.000000   0.060453   0.000000   \n",
       "14835    0.353059    0.000000   0.000000   0.000000   0.236800   0.135855   \n",
       "14836    0.000000    0.016215   0.051730   0.000000   0.000000   0.096885   \n",
       "14837    0.000000    0.032430   0.000000   0.175446   0.000000   0.405706   \n",
       "\n",
       "       SMR_VSA5  SlogP_VSA3  VSA_EState9  fr_COO       EC1  \n",
       "0      0.000000    0.041545     0.105052    0.00  0.775163  \n",
       "1      0.062318    0.119800     0.128598    0.00  0.312916  \n",
       "2      0.148446    0.155663     0.131042    0.00  0.478808  \n",
       "3      0.126047    0.276952     0.238382    0.00  0.459954  \n",
       "4      0.038324    0.083090     0.099425    0.25  0.761214  \n",
       "...         ...         ...          ...     ...       ...  \n",
       "14833  0.066176    0.164181     0.171353    0.00  0.505073  \n",
       "14834  0.013031    0.000000     0.039578    0.00  0.835409  \n",
       "14835  0.000000    0.000000     0.184921    0.00  0.644722  \n",
       "14836  0.221138    0.078755     0.130845    0.00  0.474983  \n",
       "14837  0.078550    0.196708     0.196361    0.00  0.491519  \n",
       "\n",
       "[14838 rows x 20 columns]"
      ]
     },
     "execution_count": 39,
     "metadata": {},
     "output_type": "execute_result"
    }
   ],
   "source": [
    "# Concatenamos EC1 a X.\n",
    "\n",
    "X_EC1 = pd.concat([X, EC1], axis=1)\n",
    "X_EC1"
   ]
  },
  {
   "cell_type": "markdown",
   "id": "2cbfeebf",
   "metadata": {
    "papermill": {
     "duration": 0.034825,
     "end_time": "2023-07-10T01:13:16.074908",
     "exception": false,
     "start_time": "2023-07-10T01:13:16.040083",
     "status": "completed"
    },
    "tags": []
   },
   "source": [
    "### Ahora procedemos a predecir EC2 a partir de la prediccion de EC1.\n",
    "Se probaran los mismos modelos."
   ]
  },
  {
   "cell_type": "code",
   "execution_count": 40,
   "id": "816e8ce8",
   "metadata": {
    "execution": {
     "iopub.execute_input": "2023-07-10T01:13:16.148316Z",
     "iopub.status.busy": "2023-07-10T01:13:16.147964Z",
     "iopub.status.idle": "2023-07-10T01:13:16.156942Z",
     "shell.execute_reply": "2023-07-10T01:13:16.156062Z"
    },
    "papermill": {
     "duration": 0.048254,
     "end_time": "2023-07-10T01:13:16.158955",
     "exception": false,
     "start_time": "2023-07-10T01:13:16.110701",
     "status": "completed"
    },
    "tags": []
   },
   "outputs": [],
   "source": [
    "# Hacemos split de train y test set\n",
    "from sklearn.model_selection import train_test_split\n",
    "\n",
    "X_train_2, X_test_2, y_train_2, y_test_2 = train_test_split(X_EC1, y['EC2'], test_size=0.2, random_state=0)"
   ]
  },
  {
   "cell_type": "code",
   "execution_count": 41,
   "id": "66c0d6fd",
   "metadata": {
    "execution": {
     "iopub.execute_input": "2023-07-10T01:13:16.235371Z",
     "iopub.status.busy": "2023-07-10T01:13:16.235015Z",
     "iopub.status.idle": "2023-07-10T01:13:16.261786Z",
     "shell.execute_reply": "2023-07-10T01:13:16.260751Z"
    },
    "papermill": {
     "duration": 0.066936,
     "end_time": "2023-07-10T01:13:16.263762",
     "exception": false,
     "start_time": "2023-07-10T01:13:16.196826",
     "status": "completed"
    },
    "tags": []
   },
   "outputs": [
    {
     "name": "stdout",
     "output_type": "stream",
     "text": [
      "<class 'pandas.core.frame.DataFrame'>\n",
      "Int64Index: 11870 entries, 487 to 2732\n",
      "Data columns (total 20 columns):\n",
      " #   Column             Non-Null Count  Dtype  \n",
      "---  ------             --------------  -----  \n",
      " 0   EState_VSA1        11870 non-null  float64\n",
      " 1   EState_VSA2        11870 non-null  float64\n",
      " 2   ExactMolWt         11870 non-null  float64\n",
      " 3   FpDensityMorgan3   11870 non-null  float64\n",
      " 4   HallKierAlpha      11870 non-null  float64\n",
      " 5   Kappa3             11870 non-null  float64\n",
      " 6   MaxAbsEStateIndex  11870 non-null  float64\n",
      " 7   MinEStateIndex     11870 non-null  float64\n",
      " 8   NumHeteroatoms     11870 non-null  float64\n",
      " 9   PEOE_VSA10         11870 non-null  float64\n",
      " 10  PEOE_VSA14         11870 non-null  float64\n",
      " 11  PEOE_VSA6          11870 non-null  float64\n",
      " 12  PEOE_VSA7          11870 non-null  float64\n",
      " 13  PEOE_VSA8          11870 non-null  float64\n",
      " 14  SMR_VSA10          11870 non-null  float64\n",
      " 15  SMR_VSA5           11870 non-null  float64\n",
      " 16  SlogP_VSA3         11870 non-null  float64\n",
      " 17  VSA_EState9        11870 non-null  float64\n",
      " 18  fr_COO             11870 non-null  float64\n",
      " 19  EC1                11870 non-null  float64\n",
      "dtypes: float64(20)\n",
      "memory usage: 1.9 MB\n",
      "<class 'pandas.core.frame.DataFrame'>\n",
      "Int64Index: 2968 entries, 1377 to 10115\n",
      "Data columns (total 20 columns):\n",
      " #   Column             Non-Null Count  Dtype  \n",
      "---  ------             --------------  -----  \n",
      " 0   EState_VSA1        2968 non-null   float64\n",
      " 1   EState_VSA2        2968 non-null   float64\n",
      " 2   ExactMolWt         2968 non-null   float64\n",
      " 3   FpDensityMorgan3   2968 non-null   float64\n",
      " 4   HallKierAlpha      2968 non-null   float64\n",
      " 5   Kappa3             2968 non-null   float64\n",
      " 6   MaxAbsEStateIndex  2968 non-null   float64\n",
      " 7   MinEStateIndex     2968 non-null   float64\n",
      " 8   NumHeteroatoms     2968 non-null   float64\n",
      " 9   PEOE_VSA10         2968 non-null   float64\n",
      " 10  PEOE_VSA14         2968 non-null   float64\n",
      " 11  PEOE_VSA6          2968 non-null   float64\n",
      " 12  PEOE_VSA7          2968 non-null   float64\n",
      " 13  PEOE_VSA8          2968 non-null   float64\n",
      " 14  SMR_VSA10          2968 non-null   float64\n",
      " 15  SMR_VSA5           2968 non-null   float64\n",
      " 16  SlogP_VSA3         2968 non-null   float64\n",
      " 17  VSA_EState9        2968 non-null   float64\n",
      " 18  fr_COO             2968 non-null   float64\n",
      " 19  EC1                2968 non-null   float64\n",
      "dtypes: float64(20)\n",
      "memory usage: 486.9 KB\n",
      "<class 'pandas.core.series.Series'>\n",
      "Int64Index: 11870 entries, 487 to 2732\n",
      "Series name: EC2\n",
      "Non-Null Count  Dtype  \n",
      "--------------  -----  \n",
      "11870 non-null  float64\n",
      "dtypes: float64(1)\n",
      "memory usage: 185.5 KB\n",
      "<class 'pandas.core.series.Series'>\n",
      "Int64Index: 2968 entries, 1377 to 10115\n",
      "Series name: EC2\n",
      "Non-Null Count  Dtype  \n",
      "--------------  -----  \n",
      "2968 non-null   float64\n",
      "dtypes: float64(1)\n",
      "memory usage: 46.4 KB\n"
     ]
    },
    {
     "data": {
      "text/plain": [
       "(None, None, None, None)"
      ]
     },
     "execution_count": 41,
     "metadata": {},
     "output_type": "execute_result"
    }
   ],
   "source": [
    "X_train_2.info(), X_test_2.info(), y_train_2.info(), y_test_2.info()"
   ]
  },
  {
   "cell_type": "code",
   "execution_count": 42,
   "id": "89273082",
   "metadata": {
    "execution": {
     "iopub.execute_input": "2023-07-10T01:13:16.337006Z",
     "iopub.status.busy": "2023-07-10T01:13:16.336633Z",
     "iopub.status.idle": "2023-07-10T01:13:16.485474Z",
     "shell.execute_reply": "2023-07-10T01:13:16.484557Z"
    },
    "papermill": {
     "duration": 0.188487,
     "end_time": "2023-07-10T01:13:16.487787",
     "exception": false,
     "start_time": "2023-07-10T01:13:16.299300",
     "status": "completed"
    },
    "tags": []
   },
   "outputs": [
    {
     "data": {
      "text/plain": [
       "{0.0: 9513, 1.0: 9513}"
      ]
     },
     "execution_count": 42,
     "metadata": {},
     "output_type": "execute_result"
    }
   ],
   "source": [
    "# Oversampling\n",
    "\n",
    "sm = SMOTE(sampling_strategy='minority') \n",
    "X_train_n_2, y_train_n_2 = sm.fit_resample(X_train_2, y_train_2)\n",
    "unique, counts = np.unique(y_train_n_2, return_counts=True)\n",
    "dict(zip(unique, counts))"
   ]
  },
  {
   "cell_type": "markdown",
   "id": "1cca23e3",
   "metadata": {
    "papermill": {
     "duration": 0.035166,
     "end_time": "2023-07-10T01:13:16.559451",
     "exception": false,
     "start_time": "2023-07-10T01:13:16.524285",
     "status": "completed"
    },
    "tags": []
   },
   "source": [
    "##### 1. Gradient Boosting (xgb)"
   ]
  },
  {
   "cell_type": "code",
   "execution_count": 43,
   "id": "61c94d52",
   "metadata": {
    "execution": {
     "iopub.execute_input": "2023-07-10T01:13:16.631816Z",
     "iopub.status.busy": "2023-07-10T01:13:16.631427Z",
     "iopub.status.idle": "2023-07-10T01:13:16.665130Z",
     "shell.execute_reply": "2023-07-10T01:13:16.663994Z"
    },
    "papermill": {
     "duration": 0.073115,
     "end_time": "2023-07-10T01:13:16.667412",
     "exception": false,
     "start_time": "2023-07-10T01:13:16.594297",
     "status": "completed"
    },
    "tags": []
   },
   "outputs": [],
   "source": [
    "# Conversion del conjunto de datos\n",
    "\n",
    "original_data_2  = xgb.DMatrix(X_EC1, label=y[\"EC2\"])\n",
    "train_data_2 = xgb.DMatrix(X_train_n_2, label=y_train_n_2)\n",
    "test_data_2 = xgb.DMatrix(X_test_2, label=y_test_2)\n"
   ]
  },
  {
   "cell_type": "code",
   "execution_count": 44,
   "id": "7ac478a3",
   "metadata": {
    "execution": {
     "iopub.execute_input": "2023-07-10T01:13:16.742055Z",
     "iopub.status.busy": "2023-07-10T01:13:16.741674Z",
     "iopub.status.idle": "2023-07-10T01:23:43.432631Z",
     "shell.execute_reply": "2023-07-10T01:23:43.431438Z"
    },
    "papermill": {
     "duration": 626.73175,
     "end_time": "2023-07-10T01:23:43.435669",
     "exception": false,
     "start_time": "2023-07-10T01:13:16.703919",
     "status": "completed"
    },
    "tags": []
   },
   "outputs": [
    {
     "name": "stdout",
     "output_type": "stream",
     "text": [
      "[LightGBM] [Warning] min_data_in_leaf is set=5, min_child_samples=20 will be ignored. Current value: min_data_in_leaf=5\n",
      "[LightGBM] [Warning] min_data_in_leaf is set=5, min_child_samples=20 will be ignored. Current value: min_data_in_leaf=5\n",
      "[LightGBM] [Warning] min_data_in_leaf is set=5, min_child_samples=20 will be ignored. Current value: min_data_in_leaf=5\n",
      "[LightGBM] [Warning] min_data_in_leaf is set=20, min_child_samples=20 will be ignored. Current value: min_data_in_leaf=20\n",
      "[LightGBM] [Warning] min_data_in_leaf is set=5, min_child_samples=20 will be ignored. Current value: min_data_in_leaf=5\n",
      "[LightGBM] [Warning] min_data_in_leaf is set=5, min_child_samples=20 will be ignored. Current value: min_data_in_leaf=5\n",
      "[LightGBM] [Warning] min_data_in_leaf is set=20, min_child_samples=20 will be ignored. Current value: min_data_in_leaf=20\n",
      "[LightGBM] [Warning] min_data_in_leaf is set=40, min_child_samples=20 will be ignored. Current value: min_data_in_leaf=40\n",
      "[LightGBM] [Warning] min_data_in_leaf is set=40, min_child_samples=20 will be ignored. Current value: min_data_in_leaf=40\n",
      "[LightGBM] [Warning] min_data_in_leaf is set=40, min_child_samples=20 will be ignored. Current value: min_data_in_leaf=40\n",
      "[LightGBM] [Warning] min_data_in_leaf is set=20, min_child_samples=20 will be ignored. Current value: min_data_in_leaf=20\n",
      "[LightGBM] [Warning] min_data_in_leaf is set=20, min_child_samples=20 will be ignored. Current value: min_data_in_leaf=20\n",
      "[LightGBM] [Warning] min_data_in_leaf is set=20, min_child_samples=20 will be ignored. Current value: min_data_in_leaf=20\n",
      "[LightGBM] [Warning] min_data_in_leaf is set=5, min_child_samples=20 will be ignored. Current value: min_data_in_leaf=5\n",
      "[LightGBM] [Warning] min_data_in_leaf is set=5, min_child_samples=20 will be ignored. Current value: min_data_in_leaf=5\n",
      "[LightGBM] [Warning] min_data_in_leaf is set=5, min_child_samples=20 will be ignored. Current value: min_data_in_leaf=5\n",
      "[LightGBM] [Warning] min_data_in_leaf is set=20, min_child_samples=20 will be ignored. Current value: min_data_in_leaf=20\n",
      "[LightGBM] [Warning] min_data_in_leaf is set=5, min_child_samples=20 will be ignored. Current value: min_data_in_leaf=5\n",
      "[LightGBM] [Warning] min_data_in_leaf is set=20, min_child_samples=20 will be ignored. Current value: min_data_in_leaf=20\n",
      "[LightGBM] [Warning] min_data_in_leaf is set=20, min_child_samples=20 will be ignored. Current value: min_data_in_leaf=20\n",
      "[LightGBM] [Warning] min_data_in_leaf is set=40, min_child_samples=20 will be ignored. Current value: min_data_in_leaf=40\n",
      "[LightGBM] [Warning] min_data_in_leaf is set=20, min_child_samples=20 will be ignored. Current value: min_data_in_leaf=20\n",
      "[LightGBM] [Warning] min_data_in_leaf is set=40, min_child_samples=20 will be ignored. Current value: min_data_in_leaf=40\n",
      "[LightGBM] [Warning] min_data_in_leaf is set=40, min_child_samples=20 will be ignored. Current value: min_data_in_leaf=40\n",
      "[LightGBM] [Warning] min_data_in_leaf is set=20, min_child_samples=20 will be ignored. Current value: min_data_in_leaf=20\n",
      "[LightGBM] [Warning] min_data_in_leaf is set=5, min_child_samples=20 will be ignored. Current value: min_data_in_leaf=5\n",
      "[LightGBM] [Warning] min_data_in_leaf is set=5, min_child_samples=20 will be ignored. Current value: min_data_in_leaf=5\n",
      "[LightGBM] [Warning] min_data_in_leaf is set=5, min_child_samples=20 will be ignored. Current value: min_data_in_leaf=5\n",
      "[LightGBM] [Warning] min_data_in_leaf is set=20, min_child_samples=20 will be ignored. Current value: min_data_in_leaf=20\n",
      "[LightGBM] [Warning] min_data_in_leaf is set=20, min_child_samples=20 will be ignored. Current value: min_data_in_leaf=20\n",
      "[LightGBM] [Warning] min_data_in_leaf is set=20, min_child_samples=20 will be ignored. Current value: min_data_in_leaf=20\n",
      "[LightGBM] [Warning] min_data_in_leaf is set=40, min_child_samples=20 will be ignored. Current value: min_data_in_leaf=40\n",
      "[LightGBM] [Warning] min_data_in_leaf is set=20, min_child_samples=20 will be ignored. Current value: min_data_in_leaf=20\n",
      "[LightGBM] [Warning] min_data_in_leaf is set=20, min_child_samples=20 will be ignored. Current value: min_data_in_leaf=20\n",
      "[LightGBM] [Warning] min_data_in_leaf is set=5, min_child_samples=20 will be ignored. Current value: min_data_in_leaf=5\n",
      "[LightGBM] [Warning] min_data_in_leaf is set=5, min_child_samples=20 will be ignored. Current value: min_data_in_leaf=5\n",
      "[LightGBM] [Warning] min_data_in_leaf is set=5, min_child_samples=20 will be ignored. Current value: min_data_in_leaf=5\n",
      "[LightGBM] [Warning] min_data_in_leaf is set=5, min_child_samples=20 will be ignored. Current value: min_data_in_leaf=5\n",
      "[LightGBM] [Warning] min_data_in_leaf is set=20, min_child_samples=20 will be ignored. Current value: min_data_in_leaf=20\n",
      "[LightGBM] [Warning] min_data_in_leaf is set=5, min_child_samples=20 will be ignored. Current value: min_data_in_leaf=5\n",
      "[LightGBM] [Warning] min_data_in_leaf is set=5, min_child_samples=20 will be ignored. Current value: min_data_in_leaf=5\n",
      "[LightGBM] [Warning] min_data_in_leaf is set=20, min_child_samples=20 will be ignored. Current value: min_data_in_leaf=20\n",
      "[LightGBM] [Warning] min_data_in_leaf is set=20, min_child_samples=20 will be ignored. Current value: min_data_in_leaf=20\n",
      "[LightGBM] [Warning] min_data_in_leaf is set=40, min_child_samples=20 will be ignored. Current value: min_data_in_leaf=40\n",
      "[LightGBM] [Warning] min_data_in_leaf is set=20, min_child_samples=20 will be ignored. Current value: min_data_in_leaf=20\n",
      "[LightGBM] [Warning] min_data_in_leaf is set=40, min_child_samples=20 will be ignored. Current value: min_data_in_leaf=40\n",
      "[LightGBM] [Warning] min_data_in_leaf is set=40, min_child_samples=20 will be ignored. Current value: min_data_in_leaf=40\n",
      "[LightGBM] [Warning] min_data_in_leaf is set=20, min_child_samples=20 will be ignored. Current value: min_data_in_leaf=20\n",
      "[LightGBM] [Warning] min_data_in_leaf is set=5, min_child_samples=20 will be ignored. Current value: min_data_in_leaf=5\n",
      "[LightGBM] [Warning] min_data_in_leaf is set=5, min_child_samples=20 will be ignored. Current value: min_data_in_leaf=5\n"
     ]
    }
   ],
   "source": [
    "# Creo el clasificador 2\n",
    "gbm_random = xgb.XGBClassifier(objective='binary:logistic',\n",
    "                               eval_metric='auc',\n",
    "                               n_estimators=100,\n",
    "                               verbosity=0,\n",
    "                               random_state=0)\n",
    "# Declaro los parametros a revisar\n",
    "grid_parametros = {\n",
    "    'max_depth': [1, 3, 6, 12],\n",
    "    'min_child_weight': [1, 3, 10],\n",
    "    'subsample': [0.8, 1.0],\n",
    "    'colsample_bytree': [0.8, 1.0],\n",
    "    'learning_rate': [0.05, 0.1, 0.5],\n",
    "    'gamma': [0, 0.1, 0.2],\n",
    "    'n_estimators': [100, 200, 300, 500]\n",
    "}\n",
    "\n",
    "# Optimizo hiperparametros mediante random search\n",
    "xgb_random = RandomizedSearchCV(gbm_random, grid_parametros, scoring='roc_auc', cv=5, n_jobs=-1)\n",
    "start_1 = datetime.now()\n",
    "xgb_random.fit(X_train_n_2, y_train_n_2)\n",
    "stop_1 = datetime.now()\n"
   ]
  },
  {
   "cell_type": "code",
   "execution_count": 45,
   "id": "d5c365a2",
   "metadata": {
    "execution": {
     "iopub.execute_input": "2023-07-10T01:23:43.522951Z",
     "iopub.status.busy": "2023-07-10T01:23:43.522530Z",
     "iopub.status.idle": "2023-07-10T01:23:43.528237Z",
     "shell.execute_reply": "2023-07-10T01:23:43.527153Z"
    },
    "papermill": {
     "duration": 0.049909,
     "end_time": "2023-07-10T01:23:43.530455",
     "exception": false,
     "start_time": "2023-07-10T01:23:43.480546",
     "status": "completed"
    },
    "tags": []
   },
   "outputs": [
    {
     "name": "stdout",
     "output_type": "stream",
     "text": [
      "{'subsample': 1.0, 'n_estimators': 200, 'min_child_weight': 1, 'max_depth': 12, 'learning_rate': 0.5, 'gamma': 0, 'colsample_bytree': 1.0} 0:10:26.682765\n"
     ]
    }
   ],
   "source": [
    "# Execution time: Cuanto se demoró en entrenar el modelo.\n",
    "\n",
    "execution_time_xgb = stop_1-start_1\n",
    "\n",
    "# Muestro los mejores parametros\n",
    "print(xgb_random.best_params_, execution_time_xgb)"
   ]
  },
  {
   "cell_type": "code",
   "execution_count": 46,
   "id": "3354e60f",
   "metadata": {
    "execution": {
     "iopub.execute_input": "2023-07-10T01:23:43.612614Z",
     "iopub.status.busy": "2023-07-10T01:23:43.612012Z",
     "iopub.status.idle": "2023-07-10T01:23:55.459535Z",
     "shell.execute_reply": "2023-07-10T01:23:55.458348Z"
    },
    "papermill": {
     "duration": 11.891665,
     "end_time": "2023-07-10T01:23:55.462359",
     "exception": false,
     "start_time": "2023-07-10T01:23:43.570694",
     "status": "completed"
    },
    "tags": []
   },
   "outputs": [
    {
     "name": "stdout",
     "output_type": "stream",
     "text": [
      "[01:23:43] WARNING: ../src/learner.cc:767: \n",
      "Parameters: { \"early_stopping_rounds\", \"n_estimators\", \"verbose\" } are not used.\n",
      "\n",
      "Cantidad de rounds óptimo = 2\n"
     ]
    }
   ],
   "source": [
    "# Escogemos ahora el mejor número de rondas en base a los hiperparámetros ya elegidos:\n",
    "grid_parametros = {\n",
    "    'booster': 'gbtree',\n",
    "    'objective': 'binary:logistic',\n",
    "    'eval_metric': 'auc',\n",
    "    'n_estimators': xgb_random.best_params_['n_estimators'],\n",
    "    'early_stopping_rounds': 100,\n",
    "    'verbose': -10,\n",
    "    'seed': 0,\n",
    "    'max_depth': xgb_random.best_params_['max_depth'],\n",
    "    'min_child_weight': xgb_random.best_params_['min_child_weight'],\n",
    "    'subsample': xgb_random.best_params_['subsample'],\n",
    "    'colsample_bytree': xgb_random.best_params_['colsample_bytree'],\n",
    "    'learning_rate': xgb_random.best_params_['learning_rate'],\n",
    "    'gamma': xgb_random.best_params_['gamma']}\n",
    "\n",
    "# Corro el mejor modelo\n",
    "xgb_random_best = xgb.train(grid_parametros, train_data_2, num_boost_round=xgb_random.best_params_['n_estimators'], \n",
    "                            evals=[(test_data_2, 'test')], early_stopping_rounds=100, verbose_eval=False)\n",
    "\n",
    "print('Cantidad de rounds óptimo = %d' % xgb_random_best.best_iteration)\n"
   ]
  },
  {
   "cell_type": "code",
   "execution_count": 47,
   "id": "f064b1be",
   "metadata": {
    "execution": {
     "iopub.execute_input": "2023-07-10T01:23:55.548056Z",
     "iopub.status.busy": "2023-07-10T01:23:55.547445Z",
     "iopub.status.idle": "2023-07-10T01:23:55.834459Z",
     "shell.execute_reply": "2023-07-10T01:23:55.833525Z"
    },
    "papermill": {
     "duration": 0.333442,
     "end_time": "2023-07-10T01:23:55.836899",
     "exception": false,
     "start_time": "2023-07-10T01:23:55.503457",
     "status": "completed"
    },
    "tags": []
   },
   "outputs": [
    {
     "name": "stdout",
     "output_type": "stream",
     "text": [
      "[01:23:55] WARNING: ../src/learner.cc:767: \n",
      "Parameters: { \"n_estimators\", \"verbose\" } are not used.\n",
      "\n",
      "xgb\n",
      "AUC Train = 91.82\n",
      "AUC Test = 54.97\n"
     ]
    }
   ],
   "source": [
    "# Definiendo parametros optimos\n",
    "\n",
    "params = {\n",
    "    'booster': 'gbtree',\n",
    "    'objective': 'binary:logistic',\n",
    "    'eval_metric': 'auc',\n",
    "    'n_estimators': xgb_random_best.best_iteration,\n",
    "    'verbose': -10,\n",
    "    'seed': 0,\n",
    "    'max_depth': xgb_random.best_params_['max_depth'],\n",
    "    'min_child_weight': xgb_random.best_params_['min_child_weight'],\n",
    "    'subsample': xgb_random.best_params_['subsample'],\n",
    "    'colsample_bytree': xgb_random.best_params_['colsample_bytree'],\n",
    "    'learning_rate': xgb_random.best_params_['learning_rate'],\n",
    "    'gamma': xgb_random.best_params_['gamma']\n",
    "}\n",
    "\n",
    "xgb_EC2 = xgb.train(params, train_data_2, num_boost_round=xgb_random_best.best_iteration)\n",
    "\n",
    "# Generamos las predicciones.\n",
    "y_pred_train = xgb_EC2.predict(train_data_2)\n",
    "auc_xgb_random_train = roc_auc_score(y_train_n_2, y_pred_train)\n",
    "\n",
    "\n",
    "y_pred_test = xgb_EC2.predict(test_data_2)\n",
    "auc_xgb_random_test = roc_auc_score(y_test_2, y_pred_test)\n",
    "\n",
    "print('xgb')\n",
    "print('AUC Train = %.2f' % (auc_xgb_random_train * 100))\n",
    "print('AUC Test = %.2f' % (auc_xgb_random_test * 100))\n"
   ]
  },
  {
   "cell_type": "markdown",
   "id": "ffe90ca5",
   "metadata": {
    "papermill": {
     "duration": 0.040584,
     "end_time": "2023-07-10T01:23:55.918575",
     "exception": false,
     "start_time": "2023-07-10T01:23:55.877991",
     "status": "completed"
    },
    "tags": []
   },
   "source": [
    "##### 2. Random Forest"
   ]
  },
  {
   "cell_type": "code",
   "execution_count": 48,
   "id": "2fb3eea9",
   "metadata": {
    "execution": {
     "iopub.execute_input": "2023-07-10T01:23:56.002124Z",
     "iopub.status.busy": "2023-07-10T01:23:56.001730Z",
     "iopub.status.idle": "2023-07-10T01:26:52.487739Z",
     "shell.execute_reply": "2023-07-10T01:26:52.486578Z"
    },
    "papermill": {
     "duration": 176.57216,
     "end_time": "2023-07-10T01:26:52.531483",
     "exception": false,
     "start_time": "2023-07-10T01:23:55.959323",
     "status": "completed"
    },
    "tags": []
   },
   "outputs": [
    {
     "name": "stdout",
     "output_type": "stream",
     "text": [
      "Mejor Configuración de Parámetros\n",
      "n_estimators: 100\n",
      "max_depth: 15\n",
      "min_samples_leaf: 2\n",
      "max_features: sqrt\n",
      "min_samples_split: 2\n",
      "bootstrap: False\n",
      "tiempo de entrenamiento: 0:02:56.472993\n"
     ]
    }
   ],
   "source": [
    "# Probamos random forest\n",
    "\n",
    "from sklearn.ensemble import RandomForestClassifier\n",
    "from sklearn.model_selection import RandomizedSearchCV\n",
    "from datetime import datetime\n",
    "\n",
    "# Numeros de arboles en el random forest\n",
    "n_estimators = [50, 100, 125]\n",
    "# Number of caracnteristicas a considerar en cada división\n",
    "max_features = ['sqrt']\n",
    "# Maxima profundidad \n",
    "max_depth = [5, 10, 15]\n",
    "# Minimo numero de muestra para dividir \n",
    "min_samples_split = [2, 5, 10]\n",
    "# minimo numero de muestras en cada nodo\n",
    "min_samples_leaf = [1, 2, 4]\n",
    "# Metodo para entrenar los arboles\n",
    "bootstrap = [True, False]\n",
    "\n",
    "# creamos la grilla de parametros\n",
    "parameters_rfrandom = {'n_estimators': n_estimators,\n",
    "               'max_features': max_features,\n",
    "               'max_depth': max_depth,\n",
    "               'min_samples_split': min_samples_split,\n",
    "               'min_samples_leaf': min_samples_leaf,\n",
    "               'bootstrap': bootstrap}\n",
    "\n",
    "rf_rm = RandomForestClassifier(random_state=0) # definimos un random forest llamado rf_rm\n",
    "rf_random = RandomizedSearchCV (estimator = rf_rm, param_distributions = parameters_rfrandom, cv = 4,\n",
    "                                random_state = 0, n_jobs = -1)  # definimos el RandomizedSearchCV\n",
    "\n",
    "\n",
    "start_1=datetime.now()\n",
    "rf_random.fit(X_train_n_2, y_train_n_2) # entrenamos el modelo\n",
    "\n",
    "print('Mejor Configuración de Parámetros')\n",
    "print('n_estimators: ' +str(rf_random.best_params_['n_estimators']))\n",
    "print('max_depth: ' +str(rf_random.best_params_['max_depth']))\n",
    "print('min_samples_leaf: ' +str(rf_random.best_params_['min_samples_leaf']))\n",
    "print('max_features: ' +str(rf_random.best_params_['max_features']))\n",
    "print('min_samples_split: ' +str(rf_random.best_params_['min_samples_split']))\n",
    "print('bootstrap: ' +str(rf_random.best_params_['bootstrap']))\n",
    "\n",
    "\n",
    "stop_1=datetime.now()\n",
    "execution_time = stop_1-start_1\n",
    "print('tiempo de entrenamiento: {}'.format(execution_time))"
   ]
  },
  {
   "cell_type": "code",
   "execution_count": 49,
   "id": "fddecd7a",
   "metadata": {
    "execution": {
     "iopub.execute_input": "2023-07-10T01:26:52.616036Z",
     "iopub.status.busy": "2023-07-10T01:26:52.615668Z",
     "iopub.status.idle": "2023-07-10T01:26:53.050398Z",
     "shell.execute_reply": "2023-07-10T01:26:53.049476Z"
    },
    "papermill": {
     "duration": 0.480285,
     "end_time": "2023-07-10T01:26:53.052865",
     "exception": false,
     "start_time": "2023-07-10T01:26:52.572580",
     "status": "completed"
    },
    "tags": []
   },
   "outputs": [
    {
     "name": "stdout",
     "output_type": "stream",
     "text": [
      "forest\n",
      "AUC Test = 57.48\n",
      "AUC Train = 99.90\n"
     ]
    }
   ],
   "source": [
    "# Calcular el rendimiento\n",
    "\n",
    "y_pred_test_proba_rf_random = rf_random.predict_proba(X_test_2)[:,1]\n",
    "auc_rf_random_test = roc_auc_score(y_test_2, y_pred_test_proba_rf_random)\n",
    "\n",
    "\n",
    "y_pred_train_proba_rf_random = rf_random.predict_proba(X_train_n_2)[:,1]\n",
    "auc_rf_random_train = roc_auc_score(y_train_n_2, y_pred_train_proba_rf_random)\n",
    "\n",
    "print('forest')\n",
    "print('AUC Test = %.2f' %(auc_rf_random_test*100))\n",
    "print('AUC Train = %.2f' %(auc_rf_random_train*100))\n"
   ]
  },
  {
   "cell_type": "markdown",
   "id": "0a0fafa1",
   "metadata": {
    "papermill": {
     "duration": 0.04096,
     "end_time": "2023-07-10T01:26:53.135796",
     "exception": false,
     "start_time": "2023-07-10T01:26:53.094836",
     "status": "completed"
    },
    "tags": []
   },
   "source": [
    "##### 3. Red Neuronal"
   ]
  },
  {
   "cell_type": "code",
   "execution_count": 50,
   "id": "ad6c043f",
   "metadata": {
    "execution": {
     "iopub.execute_input": "2023-07-10T01:26:53.225540Z",
     "iopub.status.busy": "2023-07-10T01:26:53.225134Z",
     "iopub.status.idle": "2023-07-10T01:29:23.239150Z",
     "shell.execute_reply": "2023-07-10T01:29:23.237567Z"
    },
    "papermill": {
     "duration": 150.064432,
     "end_time": "2023-07-10T01:29:23.243912",
     "exception": false,
     "start_time": "2023-07-10T01:26:53.179480",
     "status": "completed"
    },
    "tags": []
   },
   "outputs": [
    {
     "name": "stderr",
     "output_type": "stream",
     "text": [
      "/opt/conda/lib/python3.10/site-packages/sklearn/neural_network/_multilayer_perceptron.py:541: ConvergenceWarning: lbfgs failed to converge (status=1):\n",
      "STOP: TOTAL NO. of ITERATIONS REACHED LIMIT.\n",
      "\n",
      "Increase the number of iterations (max_iter) or scale the data as shown in:\n",
      "    https://scikit-learn.org/stable/modules/preprocessing.html\n",
      "  self.n_iter_ = _check_optimize_result(\"lbfgs\", opt_res, self.max_iter)\n",
      "/opt/conda/lib/python3.10/site-packages/sklearn/neural_network/_multilayer_perceptron.py:541: ConvergenceWarning: lbfgs failed to converge (status=1):\n",
      "STOP: TOTAL NO. of ITERATIONS REACHED LIMIT.\n",
      "\n",
      "Increase the number of iterations (max_iter) or scale the data as shown in:\n",
      "    https://scikit-learn.org/stable/modules/preprocessing.html\n",
      "  self.n_iter_ = _check_optimize_result(\"lbfgs\", opt_res, self.max_iter)\n",
      "/opt/conda/lib/python3.10/site-packages/sklearn/neural_network/_multilayer_perceptron.py:541: ConvergenceWarning: lbfgs failed to converge (status=1):\n",
      "STOP: TOTAL NO. of ITERATIONS REACHED LIMIT.\n",
      "\n",
      "Increase the number of iterations (max_iter) or scale the data as shown in:\n",
      "    https://scikit-learn.org/stable/modules/preprocessing.html\n",
      "  self.n_iter_ = _check_optimize_result(\"lbfgs\", opt_res, self.max_iter)\n",
      "/opt/conda/lib/python3.10/site-packages/sklearn/neural_network/_multilayer_perceptron.py:541: ConvergenceWarning: lbfgs failed to converge (status=1):\n",
      "STOP: TOTAL NO. of ITERATIONS REACHED LIMIT.\n",
      "\n",
      "Increase the number of iterations (max_iter) or scale the data as shown in:\n",
      "    https://scikit-learn.org/stable/modules/preprocessing.html\n",
      "  self.n_iter_ = _check_optimize_result(\"lbfgs\", opt_res, self.max_iter)\n",
      "/opt/conda/lib/python3.10/site-packages/sklearn/neural_network/_multilayer_perceptron.py:541: ConvergenceWarning: lbfgs failed to converge (status=1):\n",
      "STOP: TOTAL NO. of ITERATIONS REACHED LIMIT.\n",
      "\n",
      "Increase the number of iterations (max_iter) or scale the data as shown in:\n",
      "    https://scikit-learn.org/stable/modules/preprocessing.html\n",
      "  self.n_iter_ = _check_optimize_result(\"lbfgs\", opt_res, self.max_iter)\n",
      "/opt/conda/lib/python3.10/site-packages/sklearn/neural_network/_multilayer_perceptron.py:541: ConvergenceWarning: lbfgs failed to converge (status=1):\n",
      "STOP: TOTAL NO. of ITERATIONS REACHED LIMIT.\n",
      "\n",
      "Increase the number of iterations (max_iter) or scale the data as shown in:\n",
      "    https://scikit-learn.org/stable/modules/preprocessing.html\n",
      "  self.n_iter_ = _check_optimize_result(\"lbfgs\", opt_res, self.max_iter)\n",
      "/opt/conda/lib/python3.10/site-packages/sklearn/neural_network/_multilayer_perceptron.py:686: ConvergenceWarning: Stochastic Optimizer: Maximum iterations (100) reached and the optimization hasn't converged yet.\n",
      "  warnings.warn(\n",
      "/opt/conda/lib/python3.10/site-packages/sklearn/neural_network/_multilayer_perceptron.py:686: ConvergenceWarning: Stochastic Optimizer: Maximum iterations (100) reached and the optimization hasn't converged yet.\n",
      "  warnings.warn(\n",
      "/opt/conda/lib/python3.10/site-packages/sklearn/neural_network/_multilayer_perceptron.py:686: ConvergenceWarning: Stochastic Optimizer: Maximum iterations (100) reached and the optimization hasn't converged yet.\n",
      "  warnings.warn(\n",
      "/opt/conda/lib/python3.10/site-packages/sklearn/neural_network/_multilayer_perceptron.py:686: ConvergenceWarning: Stochastic Optimizer: Maximum iterations (100) reached and the optimization hasn't converged yet.\n",
      "  warnings.warn(\n",
      "/opt/conda/lib/python3.10/site-packages/sklearn/neural_network/_multilayer_perceptron.py:686: ConvergenceWarning: Stochastic Optimizer: Maximum iterations (50) reached and the optimization hasn't converged yet.\n",
      "  warnings.warn(\n",
      "/opt/conda/lib/python3.10/site-packages/sklearn/neural_network/_multilayer_perceptron.py:686: ConvergenceWarning: Stochastic Optimizer: Maximum iterations (50) reached and the optimization hasn't converged yet.\n",
      "  warnings.warn(\n",
      "/opt/conda/lib/python3.10/site-packages/sklearn/neural_network/_multilayer_perceptron.py:686: ConvergenceWarning: Stochastic Optimizer: Maximum iterations (50) reached and the optimization hasn't converged yet.\n",
      "  warnings.warn(\n",
      "/opt/conda/lib/python3.10/site-packages/sklearn/neural_network/_multilayer_perceptron.py:686: ConvergenceWarning: Stochastic Optimizer: Maximum iterations (50) reached and the optimization hasn't converged yet.\n",
      "  warnings.warn(\n",
      "/opt/conda/lib/python3.10/site-packages/sklearn/neural_network/_multilayer_perceptron.py:686: ConvergenceWarning: Stochastic Optimizer: Maximum iterations (50) reached and the optimization hasn't converged yet.\n",
      "  warnings.warn(\n",
      "/opt/conda/lib/python3.10/site-packages/sklearn/neural_network/_multilayer_perceptron.py:686: ConvergenceWarning: Stochastic Optimizer: Maximum iterations (50) reached and the optimization hasn't converged yet.\n",
      "  warnings.warn(\n",
      "/opt/conda/lib/python3.10/site-packages/sklearn/neural_network/_multilayer_perceptron.py:686: ConvergenceWarning: Stochastic Optimizer: Maximum iterations (50) reached and the optimization hasn't converged yet.\n",
      "  warnings.warn(\n",
      "/opt/conda/lib/python3.10/site-packages/sklearn/neural_network/_multilayer_perceptron.py:686: ConvergenceWarning: Stochastic Optimizer: Maximum iterations (50) reached and the optimization hasn't converged yet.\n",
      "  warnings.warn(\n",
      "/opt/conda/lib/python3.10/site-packages/sklearn/neural_network/_multilayer_perceptron.py:541: ConvergenceWarning: lbfgs failed to converge (status=1):\n",
      "STOP: TOTAL NO. of ITERATIONS REACHED LIMIT.\n",
      "\n",
      "Increase the number of iterations (max_iter) or scale the data as shown in:\n",
      "    https://scikit-learn.org/stable/modules/preprocessing.html\n",
      "  self.n_iter_ = _check_optimize_result(\"lbfgs\", opt_res, self.max_iter)\n",
      "/opt/conda/lib/python3.10/site-packages/sklearn/neural_network/_multilayer_perceptron.py:541: ConvergenceWarning: lbfgs failed to converge (status=1):\n",
      "STOP: TOTAL NO. of ITERATIONS REACHED LIMIT.\n",
      "\n",
      "Increase the number of iterations (max_iter) or scale the data as shown in:\n",
      "    https://scikit-learn.org/stable/modules/preprocessing.html\n",
      "  self.n_iter_ = _check_optimize_result(\"lbfgs\", opt_res, self.max_iter)\n",
      "/opt/conda/lib/python3.10/site-packages/sklearn/neural_network/_multilayer_perceptron.py:541: ConvergenceWarning: lbfgs failed to converge (status=1):\n",
      "STOP: TOTAL NO. of ITERATIONS REACHED LIMIT.\n",
      "\n",
      "Increase the number of iterations (max_iter) or scale the data as shown in:\n",
      "    https://scikit-learn.org/stable/modules/preprocessing.html\n",
      "  self.n_iter_ = _check_optimize_result(\"lbfgs\", opt_res, self.max_iter)\n",
      "/opt/conda/lib/python3.10/site-packages/sklearn/neural_network/_multilayer_perceptron.py:686: ConvergenceWarning: Stochastic Optimizer: Maximum iterations (100) reached and the optimization hasn't converged yet.\n",
      "  warnings.warn(\n",
      "/opt/conda/lib/python3.10/site-packages/sklearn/neural_network/_multilayer_perceptron.py:686: ConvergenceWarning: Stochastic Optimizer: Maximum iterations (100) reached and the optimization hasn't converged yet.\n",
      "  warnings.warn(\n",
      "/opt/conda/lib/python3.10/site-packages/sklearn/neural_network/_multilayer_perceptron.py:686: ConvergenceWarning: Stochastic Optimizer: Maximum iterations (100) reached and the optimization hasn't converged yet.\n",
      "  warnings.warn(\n",
      "/opt/conda/lib/python3.10/site-packages/sklearn/neural_network/_multilayer_perceptron.py:686: ConvergenceWarning: Stochastic Optimizer: Maximum iterations (100) reached and the optimization hasn't converged yet.\n",
      "  warnings.warn(\n",
      "/opt/conda/lib/python3.10/site-packages/sklearn/neural_network/_multilayer_perceptron.py:541: ConvergenceWarning: lbfgs failed to converge (status=1):\n",
      "STOP: TOTAL NO. of ITERATIONS REACHED LIMIT.\n",
      "\n",
      "Increase the number of iterations (max_iter) or scale the data as shown in:\n",
      "    https://scikit-learn.org/stable/modules/preprocessing.html\n",
      "  self.n_iter_ = _check_optimize_result(\"lbfgs\", opt_res, self.max_iter)\n",
      "/opt/conda/lib/python3.10/site-packages/sklearn/neural_network/_multilayer_perceptron.py:541: ConvergenceWarning: lbfgs failed to converge (status=1):\n",
      "STOP: TOTAL NO. of ITERATIONS REACHED LIMIT.\n",
      "\n",
      "Increase the number of iterations (max_iter) or scale the data as shown in:\n",
      "    https://scikit-learn.org/stable/modules/preprocessing.html\n",
      "  self.n_iter_ = _check_optimize_result(\"lbfgs\", opt_res, self.max_iter)\n",
      "/opt/conda/lib/python3.10/site-packages/sklearn/neural_network/_multilayer_perceptron.py:541: ConvergenceWarning: lbfgs failed to converge (status=1):\n",
      "STOP: TOTAL NO. of ITERATIONS REACHED LIMIT.\n",
      "\n",
      "Increase the number of iterations (max_iter) or scale the data as shown in:\n",
      "    https://scikit-learn.org/stable/modules/preprocessing.html\n",
      "  self.n_iter_ = _check_optimize_result(\"lbfgs\", opt_res, self.max_iter)\n",
      "/opt/conda/lib/python3.10/site-packages/sklearn/neural_network/_multilayer_perceptron.py:541: ConvergenceWarning: lbfgs failed to converge (status=1):\n",
      "STOP: TOTAL NO. of ITERATIONS REACHED LIMIT.\n",
      "\n",
      "Increase the number of iterations (max_iter) or scale the data as shown in:\n",
      "    https://scikit-learn.org/stable/modules/preprocessing.html\n",
      "  self.n_iter_ = _check_optimize_result(\"lbfgs\", opt_res, self.max_iter)\n",
      "/opt/conda/lib/python3.10/site-packages/sklearn/neural_network/_multilayer_perceptron.py:541: ConvergenceWarning: lbfgs failed to converge (status=1):\n",
      "STOP: TOTAL NO. of ITERATIONS REACHED LIMIT.\n",
      "\n",
      "Increase the number of iterations (max_iter) or scale the data as shown in:\n",
      "    https://scikit-learn.org/stable/modules/preprocessing.html\n",
      "  self.n_iter_ = _check_optimize_result(\"lbfgs\", opt_res, self.max_iter)\n",
      "/opt/conda/lib/python3.10/site-packages/sklearn/neural_network/_multilayer_perceptron.py:541: ConvergenceWarning: lbfgs failed to converge (status=1):\n",
      "STOP: TOTAL NO. of ITERATIONS REACHED LIMIT.\n",
      "\n",
      "Increase the number of iterations (max_iter) or scale the data as shown in:\n",
      "    https://scikit-learn.org/stable/modules/preprocessing.html\n",
      "  self.n_iter_ = _check_optimize_result(\"lbfgs\", opt_res, self.max_iter)\n",
      "/opt/conda/lib/python3.10/site-packages/sklearn/neural_network/_multilayer_perceptron.py:541: ConvergenceWarning: lbfgs failed to converge (status=1):\n",
      "STOP: TOTAL NO. of ITERATIONS REACHED LIMIT.\n",
      "\n",
      "Increase the number of iterations (max_iter) or scale the data as shown in:\n",
      "    https://scikit-learn.org/stable/modules/preprocessing.html\n",
      "  self.n_iter_ = _check_optimize_result(\"lbfgs\", opt_res, self.max_iter)\n",
      "/opt/conda/lib/python3.10/site-packages/sklearn/neural_network/_multilayer_perceptron.py:541: ConvergenceWarning: lbfgs failed to converge (status=1):\n",
      "STOP: TOTAL NO. of ITERATIONS REACHED LIMIT.\n",
      "\n",
      "Increase the number of iterations (max_iter) or scale the data as shown in:\n",
      "    https://scikit-learn.org/stable/modules/preprocessing.html\n",
      "  self.n_iter_ = _check_optimize_result(\"lbfgs\", opt_res, self.max_iter)\n",
      "/opt/conda/lib/python3.10/site-packages/sklearn/neural_network/_multilayer_perceptron.py:541: ConvergenceWarning: lbfgs failed to converge (status=1):\n",
      "STOP: TOTAL NO. of ITERATIONS REACHED LIMIT.\n",
      "\n",
      "Increase the number of iterations (max_iter) or scale the data as shown in:\n",
      "    https://scikit-learn.org/stable/modules/preprocessing.html\n",
      "  self.n_iter_ = _check_optimize_result(\"lbfgs\", opt_res, self.max_iter)\n",
      "/opt/conda/lib/python3.10/site-packages/sklearn/neural_network/_multilayer_perceptron.py:541: ConvergenceWarning: lbfgs failed to converge (status=1):\n",
      "STOP: TOTAL NO. of ITERATIONS REACHED LIMIT.\n",
      "\n",
      "Increase the number of iterations (max_iter) or scale the data as shown in:\n",
      "    https://scikit-learn.org/stable/modules/preprocessing.html\n",
      "  self.n_iter_ = _check_optimize_result(\"lbfgs\", opt_res, self.max_iter)\n",
      "/opt/conda/lib/python3.10/site-packages/sklearn/neural_network/_multilayer_perceptron.py:541: ConvergenceWarning: lbfgs failed to converge (status=1):\n",
      "STOP: TOTAL NO. of ITERATIONS REACHED LIMIT.\n",
      "\n",
      "Increase the number of iterations (max_iter) or scale the data as shown in:\n",
      "    https://scikit-learn.org/stable/modules/preprocessing.html\n",
      "  self.n_iter_ = _check_optimize_result(\"lbfgs\", opt_res, self.max_iter)\n",
      "/opt/conda/lib/python3.10/site-packages/sklearn/neural_network/_multilayer_perceptron.py:541: ConvergenceWarning: lbfgs failed to converge (status=1):\n",
      "STOP: TOTAL NO. of ITERATIONS REACHED LIMIT.\n",
      "\n",
      "Increase the number of iterations (max_iter) or scale the data as shown in:\n",
      "    https://scikit-learn.org/stable/modules/preprocessing.html\n",
      "  self.n_iter_ = _check_optimize_result(\"lbfgs\", opt_res, self.max_iter)\n",
      "/opt/conda/lib/python3.10/site-packages/sklearn/neural_network/_multilayer_perceptron.py:541: ConvergenceWarning: lbfgs failed to converge (status=1):\n",
      "STOP: TOTAL NO. of ITERATIONS REACHED LIMIT.\n",
      "\n",
      "Increase the number of iterations (max_iter) or scale the data as shown in:\n",
      "    https://scikit-learn.org/stable/modules/preprocessing.html\n",
      "  self.n_iter_ = _check_optimize_result(\"lbfgs\", opt_res, self.max_iter)\n",
      "/opt/conda/lib/python3.10/site-packages/sklearn/neural_network/_multilayer_perceptron.py:541: ConvergenceWarning: lbfgs failed to converge (status=1):\n",
      "STOP: TOTAL NO. of ITERATIONS REACHED LIMIT.\n",
      "\n",
      "Increase the number of iterations (max_iter) or scale the data as shown in:\n",
      "    https://scikit-learn.org/stable/modules/preprocessing.html\n",
      "  self.n_iter_ = _check_optimize_result(\"lbfgs\", opt_res, self.max_iter)\n",
      "/opt/conda/lib/python3.10/site-packages/sklearn/neural_network/_multilayer_perceptron.py:541: ConvergenceWarning: lbfgs failed to converge (status=1):\n",
      "STOP: TOTAL NO. of ITERATIONS REACHED LIMIT.\n",
      "\n",
      "Increase the number of iterations (max_iter) or scale the data as shown in:\n",
      "    https://scikit-learn.org/stable/modules/preprocessing.html\n",
      "  self.n_iter_ = _check_optimize_result(\"lbfgs\", opt_res, self.max_iter)\n",
      "/opt/conda/lib/python3.10/site-packages/sklearn/neural_network/_multilayer_perceptron.py:541: ConvergenceWarning: lbfgs failed to converge (status=1):\n",
      "STOP: TOTAL NO. of ITERATIONS REACHED LIMIT.\n",
      "\n",
      "Increase the number of iterations (max_iter) or scale the data as shown in:\n",
      "    https://scikit-learn.org/stable/modules/preprocessing.html\n",
      "  self.n_iter_ = _check_optimize_result(\"lbfgs\", opt_res, self.max_iter)\n",
      "/opt/conda/lib/python3.10/site-packages/sklearn/neural_network/_multilayer_perceptron.py:541: ConvergenceWarning: lbfgs failed to converge (status=1):\n",
      "STOP: TOTAL NO. of ITERATIONS REACHED LIMIT.\n",
      "\n",
      "Increase the number of iterations (max_iter) or scale the data as shown in:\n",
      "    https://scikit-learn.org/stable/modules/preprocessing.html\n",
      "  self.n_iter_ = _check_optimize_result(\"lbfgs\", opt_res, self.max_iter)\n",
      "/opt/conda/lib/python3.10/site-packages/sklearn/neural_network/_multilayer_perceptron.py:541: ConvergenceWarning: lbfgs failed to converge (status=1):\n",
      "STOP: TOTAL NO. of ITERATIONS REACHED LIMIT.\n",
      "\n",
      "Increase the number of iterations (max_iter) or scale the data as shown in:\n",
      "    https://scikit-learn.org/stable/modules/preprocessing.html\n",
      "  self.n_iter_ = _check_optimize_result(\"lbfgs\", opt_res, self.max_iter)\n",
      "/opt/conda/lib/python3.10/site-packages/sklearn/neural_network/_multilayer_perceptron.py:541: ConvergenceWarning: lbfgs failed to converge (status=1):\n",
      "STOP: TOTAL NO. of ITERATIONS REACHED LIMIT.\n",
      "\n",
      "Increase the number of iterations (max_iter) or scale the data as shown in:\n",
      "    https://scikit-learn.org/stable/modules/preprocessing.html\n",
      "  self.n_iter_ = _check_optimize_result(\"lbfgs\", opt_res, self.max_iter)\n",
      "/opt/conda/lib/python3.10/site-packages/sklearn/neural_network/_multilayer_perceptron.py:541: ConvergenceWarning: lbfgs failed to converge (status=1):\n",
      "STOP: TOTAL NO. of ITERATIONS REACHED LIMIT.\n",
      "\n",
      "Increase the number of iterations (max_iter) or scale the data as shown in:\n",
      "    https://scikit-learn.org/stable/modules/preprocessing.html\n",
      "  self.n_iter_ = _check_optimize_result(\"lbfgs\", opt_res, self.max_iter)\n"
     ]
    },
    {
     "name": "stdout",
     "output_type": "stream",
     "text": [
      "{'activation': 'logistic', 'alpha': 0.1, 'hidden_layer_sizes': 4, 'max_iter': 50, 'solver': 'lbfgs'}\n"
     ]
    },
    {
     "name": "stderr",
     "output_type": "stream",
     "text": [
      "/opt/conda/lib/python3.10/site-packages/sklearn/neural_network/_multilayer_perceptron.py:541: ConvergenceWarning: lbfgs failed to converge (status=1):\n",
      "STOP: TOTAL NO. of ITERATIONS REACHED LIMIT.\n",
      "\n",
      "Increase the number of iterations (max_iter) or scale the data as shown in:\n",
      "    https://scikit-learn.org/stable/modules/preprocessing.html\n",
      "  self.n_iter_ = _check_optimize_result(\"lbfgs\", opt_res, self.max_iter)\n"
     ]
    }
   ],
   "source": [
    "# Probar red neuronal\n",
    "\n",
    "from sklearn.neural_network import MLPClassifier\n",
    "from sklearn.model_selection import RandomizedSearchCV\n",
    "from sklearn.pipeline import Pipeline\n",
    "from scipy.stats import randint\n",
    "\n",
    "# Optimización hiperparámetros de la Red Neuronal\n",
    "red = MLPClassifier()\n",
    "\n",
    "# Hiper Parámetros a testear mediante Random Search\n",
    "parametros = {\n",
    "    'max_iter': [50, 100],\n",
    "    'alpha': [0.1, 0.01, 0.001],\n",
    "    'solver': ['adam', 'lbfgs'],\n",
    "    'activation': ['relu', 'logistic'],\n",
    "    'hidden_layer_sizes': randint(2, 7)\n",
    "}\n",
    "\n",
    "red_random = RandomizedSearchCV(red, parametros, n_iter=10, cv=10, random_state=0)\n",
    "red_random.fit(X_train_n_2, y_train_n_2)\n",
    "\n",
    "print(red_random.best_params_)"
   ]
  },
  {
   "cell_type": "markdown",
   "id": "aa15d001",
   "metadata": {
    "papermill": {
     "duration": 0.049736,
     "end_time": "2023-07-10T01:29:23.390917",
     "exception": false,
     "start_time": "2023-07-10T01:29:23.341181",
     "status": "completed"
    },
    "tags": []
   },
   "source": [
    "{'activation': 'logistic', 'alpha': 0.1, 'hidden_layer_sizes': 3, 'max_iter': 100, 'solver': 'lbfgs'}"
   ]
  },
  {
   "cell_type": "code",
   "execution_count": 51,
   "id": "da22c4e9",
   "metadata": {
    "execution": {
     "iopub.execute_input": "2023-07-10T01:29:23.480619Z",
     "iopub.status.busy": "2023-07-10T01:29:23.480242Z",
     "iopub.status.idle": "2023-07-10T01:29:23.518868Z",
     "shell.execute_reply": "2023-07-10T01:29:23.517625Z"
    },
    "papermill": {
     "duration": 0.088427,
     "end_time": "2023-07-10T01:29:23.522979",
     "exception": false,
     "start_time": "2023-07-10T01:29:23.434552",
     "status": "completed"
    },
    "tags": []
   },
   "outputs": [
    {
     "name": "stdout",
     "output_type": "stream",
     "text": [
      "red\n",
      "AUC Test = 70.89\n",
      "AUC Train = 59.55\n"
     ]
    }
   ],
   "source": [
    "# Calculando rendimiento\n",
    "\n",
    "red_EC2 = red_random.best_estimator_\n",
    "\n",
    "y_pred_test_proba_red_random = red_EC2.predict_proba(X_test_2)[:,1]\n",
    "auc_rf_red = roc_auc_score(y_test_2, y_pred_test_proba_red_random)\n",
    "\n",
    "y_pred_train_proba_red_random = red_EC2.predict_proba(X_train_n_2)[:,1]\n",
    "auc_red_random_train = roc_auc_score(y_train_n_2, y_pred_train_proba_red_random)\n",
    "\n",
    "print('red')\n",
    "print('AUC Test = %.2f' %(auc_red_random_test*100))\n",
    "print('AUC Train = %.2f' %(auc_red_random_train*100))\n"
   ]
  },
  {
   "cell_type": "markdown",
   "id": "082844f4",
   "metadata": {
    "papermill": {
     "duration": 0.044752,
     "end_time": "2023-07-10T01:29:23.661910",
     "exception": false,
     "start_time": "2023-07-10T01:29:23.617158",
     "status": "completed"
    },
    "tags": []
   },
   "source": [
    "##### 4. Gradient Boosting (lgbm)"
   ]
  },
  {
   "cell_type": "code",
   "execution_count": 52,
   "id": "162826a6",
   "metadata": {
    "execution": {
     "iopub.execute_input": "2023-07-10T01:29:23.752283Z",
     "iopub.status.busy": "2023-07-10T01:29:23.751888Z",
     "iopub.status.idle": "2023-07-10T01:29:23.757667Z",
     "shell.execute_reply": "2023-07-10T01:29:23.756594Z"
    },
    "papermill": {
     "duration": 0.053508,
     "end_time": "2023-07-10T01:29:23.759711",
     "exception": false,
     "start_time": "2023-07-10T01:29:23.706203",
     "status": "completed"
    },
    "tags": []
   },
   "outputs": [],
   "source": [
    "# conversion del conjunto de datos\n",
    "\n",
    "original_data_lgb_2  = lgb.Dataset(X_EC1, label=y[\"EC2\"])\n",
    "train_data_lgb_2 = lgb.Dataset(X_train_n_2,label=y_train_n_2)\n",
    "test_data_lgb_1 = lgb.Dataset(X_test_2, label=y_test_2)"
   ]
  },
  {
   "cell_type": "code",
   "execution_count": 53,
   "id": "cddaf375",
   "metadata": {
    "execution": {
     "iopub.execute_input": "2023-07-10T01:29:23.849348Z",
     "iopub.status.busy": "2023-07-10T01:29:23.848902Z",
     "iopub.status.idle": "2023-07-10T01:30:30.189667Z",
     "shell.execute_reply": "2023-07-10T01:30:30.188562Z"
    },
    "papermill": {
     "duration": 66.38897,
     "end_time": "2023-07-10T01:30:30.192436",
     "exception": false,
     "start_time": "2023-07-10T01:29:23.803466",
     "status": "completed"
    },
    "tags": []
   },
   "outputs": [
    {
     "name": "stdout",
     "output_type": "stream",
     "text": [
      "[LightGBM] [Warning] min_data_in_leaf is set=5, min_child_samples=20 will be ignored. Current value: min_data_in_leaf=5\n",
      "[LightGBM] [Warning] min_data_in_leaf is set=5, min_child_samples=20 will be ignored. Current value: min_data_in_leaf=5\n",
      "[LightGBM] [Warning] min_data_in_leaf is set=5, min_child_samples=20 will be ignored. Current value: min_data_in_leaf=5\n",
      "[LightGBM] [Warning] min_data_in_leaf is set=5, min_child_samples=20 will be ignored. Current value: min_data_in_leaf=5\n",
      "[LightGBM] [Warning] min_data_in_leaf is set=5, min_child_samples=20 will be ignored. Current value: min_data_in_leaf=5\n",
      "[LightGBM] [Warning] min_data_in_leaf is set=5, min_child_samples=20 will be ignored. Current value: min_data_in_leaf=5\n",
      "[LightGBM] [Warning] min_data_in_leaf is set=5, min_child_samples=20 will be ignored. Current value: min_data_in_leaf=5\n",
      "[LightGBM] [Warning] min_data_in_leaf is set=5, min_child_samples=20 will be ignored. Current value: min_data_in_leaf=5\n",
      "[LightGBM] [Warning] min_data_in_leaf is set=5, min_child_samples=20 will be ignored. Current value: min_data_in_leaf=5\n",
      "[LightGBM] [Warning] min_data_in_leaf is set=5, min_child_samples=20 will be ignored. Current value: min_data_in_leaf=5\n",
      "[LightGBM] [Warning] min_data_in_leaf is set=20, min_child_samples=20 will be ignored. Current value: min_data_in_leaf=20\n",
      "[LightGBM] [Warning] min_data_in_leaf is set=20, min_child_samples=20 will be ignored. Current value: min_data_in_leaf=20\n",
      "[LightGBM] [Warning] min_data_in_leaf is set=20, min_child_samples=20 will be ignored. Current value: min_data_in_leaf=20\n",
      "[LightGBM] [Warning] min_data_in_leaf is set=20, min_child_samples=20 will be ignored. Current value: min_data_in_leaf=20\n",
      "[LightGBM] [Warning] min_data_in_leaf is set=20, min_child_samples=20 will be ignored. Current value: min_data_in_leaf=20\n",
      "[LightGBM] [Warning] min_data_in_leaf is set=5, min_child_samples=20 will be ignored. Current value: min_data_in_leaf=5\n",
      "[LightGBM] [Warning] min_data_in_leaf is set=5, min_child_samples=20 will be ignored. Current value: min_data_in_leaf=5\n",
      "[LightGBM] [Warning] min_data_in_leaf is set=5, min_child_samples=20 will be ignored. Current value: min_data_in_leaf=5\n",
      "[LightGBM] [Warning] min_data_in_leaf is set=5, min_child_samples=20 will be ignored. Current value: min_data_in_leaf=5\n",
      "[LightGBM] [Warning] min_data_in_leaf is set=5, min_child_samples=20 will be ignored. Current value: min_data_in_leaf=5\n",
      "[LightGBM] [Warning] min_data_in_leaf is set=40, min_child_samples=20 will be ignored. Current value: min_data_in_leaf=40\n",
      "[LightGBM] [Warning] min_data_in_leaf is set=40, min_child_samples=20 will be ignored. Current value: min_data_in_leaf=40\n",
      "[LightGBM] [Warning] min_data_in_leaf is set=40, min_child_samples=20 will be ignored. Current value: min_data_in_leaf=40\n",
      "[LightGBM] [Warning] min_data_in_leaf is set=40, min_child_samples=20 will be ignored. Current value: min_data_in_leaf=40\n",
      "[LightGBM] [Warning] min_data_in_leaf is set=40, min_child_samples=20 will be ignored. Current value: min_data_in_leaf=40\n",
      "[LightGBM] [Warning] min_data_in_leaf is set=40, min_child_samples=20 will be ignored. Current value: min_data_in_leaf=40\n",
      "[LightGBM] [Warning] min_data_in_leaf is set=40, min_child_samples=20 will be ignored. Current value: min_data_in_leaf=40\n",
      "[LightGBM] [Warning] min_data_in_leaf is set=40, min_child_samples=20 will be ignored. Current value: min_data_in_leaf=40\n",
      "[LightGBM] [Warning] min_data_in_leaf is set=40, min_child_samples=20 will be ignored. Current value: min_data_in_leaf=40\n",
      "[LightGBM] [Warning] min_data_in_leaf is set=40, min_child_samples=20 will be ignored. Current value: min_data_in_leaf=40\n",
      "[LightGBM] [Warning] min_data_in_leaf is set=40, min_child_samples=20 will be ignored. Current value: min_data_in_leaf=40\n",
      "[LightGBM] [Warning] min_data_in_leaf is set=40, min_child_samples=20 will be ignored. Current value: min_data_in_leaf=40\n",
      "[LightGBM] [Warning] min_data_in_leaf is set=40, min_child_samples=20 will be ignored. Current value: min_data_in_leaf=40\n",
      "[LightGBM] [Warning] min_data_in_leaf is set=40, min_child_samples=20 will be ignored. Current value: min_data_in_leaf=40\n",
      "[LightGBM] [Warning] min_data_in_leaf is set=40, min_child_samples=20 will be ignored. Current value: min_data_in_leaf=40\n",
      "[LightGBM] [Warning] min_data_in_leaf is set=40, min_child_samples=20 will be ignored. Current value: min_data_in_leaf=40\n",
      "[LightGBM] [Warning] min_data_in_leaf is set=40, min_child_samples=20 will be ignored. Current value: min_data_in_leaf=40\n",
      "[LightGBM] [Warning] min_data_in_leaf is set=40, min_child_samples=20 will be ignored. Current value: min_data_in_leaf=40\n",
      "[LightGBM] [Warning] min_data_in_leaf is set=40, min_child_samples=20 will be ignored. Current value: min_data_in_leaf=40\n",
      "[LightGBM] [Warning] min_data_in_leaf is set=40, min_child_samples=20 will be ignored. Current value: min_data_in_leaf=40\n",
      "[LightGBM] [Warning] min_data_in_leaf is set=20, min_child_samples=20 will be ignored. Current value: min_data_in_leaf=20\n",
      "[LightGBM] [Warning] min_data_in_leaf is set=20, min_child_samples=20 will be ignored. Current value: min_data_in_leaf=20\n",
      "[LightGBM] [Warning] min_data_in_leaf is set=20, min_child_samples=20 will be ignored. Current value: min_data_in_leaf=20\n",
      "[LightGBM] [Warning] min_data_in_leaf is set=20, min_child_samples=20 will be ignored. Current value: min_data_in_leaf=20\n",
      "[LightGBM] [Warning] min_data_in_leaf is set=20, min_child_samples=20 will be ignored. Current value: min_data_in_leaf=20\n",
      "[LightGBM] [Warning] min_data_in_leaf is set=40, min_child_samples=20 will be ignored. Current value: min_data_in_leaf=40\n",
      "[LightGBM] [Warning] min_data_in_leaf is set=40, min_child_samples=20 will be ignored. Current value: min_data_in_leaf=40\n",
      "[LightGBM] [Warning] min_data_in_leaf is set=40, min_child_samples=20 will be ignored. Current value: min_data_in_leaf=40\n",
      "[LightGBM] [Warning] min_data_in_leaf is set=40, min_child_samples=20 will be ignored. Current value: min_data_in_leaf=40\n",
      "[LightGBM] [Warning] min_data_in_leaf is set=40, min_child_samples=20 will be ignored. Current value: min_data_in_leaf=40\n",
      "[LightGBM] [Warning] min_data_in_leaf is set=40, min_child_samples=20 will be ignored. Current value: min_data_in_leaf=40\n"
     ]
    }
   ],
   "source": [
    "gbm_random = lgb.LGBMClassifier(boosting_type  = 'gbdt',\n",
    "                        application = 'binary',\n",
    "                        objective =  'binary',\n",
    "                        metric = 'auc',\n",
    "                        n_estimators = 100,\n",
    "                        verbose= -10,\n",
    "                        seed = 0)\n",
    "\n",
    "grid_parametros = {\n",
    "'max_depth': [1,3,6,12], #profundidad\n",
    "'min_data_in_bin': [1,3,10], #Mínimo número de datos por bucket en histograma\n",
    "'min_data_in_leaf': [5,20,40], #Mínima cantidad de datos en nodos terminales\n",
    "'num_leaves':[150,200],\n",
    "'learning_rate':[.05, 1, 1.5],\n",
    "'max_bin':[200],\n",
    "'n_estimators': [100,200,300,500]}  \n",
    "\n",
    "lgbm_random = RandomizedSearchCV(gbm_random, grid_parametros, scoring = 'roc_auc', cv = 5, n_jobs=-1)\n",
    "\n",
    "start_1=datetime.now()\n",
    "\n",
    "lgbm_random.fit(X_train_n_2, y_train_n_2)\n",
    "\n",
    "stop_1=datetime.now()"
   ]
  },
  {
   "cell_type": "code",
   "execution_count": 54,
   "id": "57f4ed4d",
   "metadata": {
    "execution": {
     "iopub.execute_input": "2023-07-10T01:30:30.293327Z",
     "iopub.status.busy": "2023-07-10T01:30:30.292426Z",
     "iopub.status.idle": "2023-07-10T01:30:30.297953Z",
     "shell.execute_reply": "2023-07-10T01:30:30.296919Z"
    },
    "papermill": {
     "duration": 0.058476,
     "end_time": "2023-07-10T01:30:30.300734",
     "exception": false,
     "start_time": "2023-07-10T01:30:30.242258",
     "status": "completed"
    },
    "tags": []
   },
   "outputs": [
    {
     "name": "stdout",
     "output_type": "stream",
     "text": [
      "{'num_leaves': 200, 'n_estimators': 500, 'min_data_in_leaf': 40, 'min_data_in_bin': 3, 'max_depth': 12, 'max_bin': 200, 'learning_rate': 1} 0:01:06.331447\n"
     ]
    }
   ],
   "source": [
    "#Execution time: Cuanto se demoró en entrenar el modelo.\n",
    "\n",
    "execution_time_lgb = stop_1-start_1\n",
    "\n",
    "#muestro los mejores parametros\n",
    "print(lgbm_random.best_params_, execution_time_lgb)"
   ]
  },
  {
   "cell_type": "code",
   "execution_count": 55,
   "id": "21b07838",
   "metadata": {
    "execution": {
     "iopub.execute_input": "2023-07-10T01:30:30.401879Z",
     "iopub.status.busy": "2023-07-10T01:30:30.401269Z",
     "iopub.status.idle": "2023-07-10T01:30:31.136776Z",
     "shell.execute_reply": "2023-07-10T01:30:31.135666Z"
    },
    "papermill": {
     "duration": 0.789278,
     "end_time": "2023-07-10T01:30:31.139416",
     "exception": false,
     "start_time": "2023-07-10T01:30:30.350138",
     "status": "completed"
    },
    "tags": []
   },
   "outputs": [
    {
     "name": "stderr",
     "output_type": "stream",
     "text": [
      "/opt/conda/lib/python3.10/site-packages/lightgbm/engine.py:177: UserWarning: Found `n_estimators` in params. Will use it instead of argument\n",
      "  _log_warning(f\"Found `{alias}` in params. Will use it instead of argument\")\n",
      "/opt/conda/lib/python3.10/site-packages/lightgbm/engine.py:239: UserWarning: 'verbose_eval' argument is deprecated and will be removed in a future release of LightGBM. Pass 'log_evaluation()' callback via 'callbacks' argument instead.\n",
      "  _log_warning(\"'verbose_eval' argument is deprecated and will be removed in a future release of LightGBM. \"\n"
     ]
    },
    {
     "name": "stdout",
     "output_type": "stream",
     "text": [
      "Cantidad de rounds óptimo = 4\n"
     ]
    }
   ],
   "source": [
    "# Escogemos ahora el mejor rounds en base a los hiper parámetros ya elegidos:\n",
    "\n",
    "grid_parametros = {'boosting_type': 'gbdt',\n",
    "                        'application': 'binary',\n",
    "                        'objective':  'binary',\n",
    "                        'metric': 'auc',\n",
    "                        'n_estimators': lgbm_random.best_params_['n_estimators'],\n",
    "                        'early_stopping_rounds': 100,\n",
    "                        'verbose': -10,\n",
    "                        'seed': 0,\n",
    "                        'max_depth':lgbm_random.best_params_['max_depth'],\n",
    "                        'min_data_in_bin': lgbm_random.best_params_['min_data_in_bin'],\n",
    "                        'min_data_in_leaf': lgbm_random.best_params_['min_data_in_leaf'],\n",
    "                        'learning_rate': lgbm_random.best_params_['learning_rate'],\n",
    "                        'max_bin': lgbm_random.best_params_['max_bin']}\n",
    "\n",
    "lgbm_random_best = lgb.train(grid_parametros,\n",
    "                        train_data_lgb_2,\n",
    "                        valid_sets=test_data_lgb_1, \n",
    "                         verbose_eval=False)\n",
    "\n",
    "print('Cantidad de rounds óptimo = %.1d' %lgbm_random_best.best_iteration)"
   ]
  },
  {
   "cell_type": "code",
   "execution_count": 56,
   "id": "2d0cda7d",
   "metadata": {
    "execution": {
     "iopub.execute_input": "2023-07-10T01:30:31.243035Z",
     "iopub.status.busy": "2023-07-10T01:30:31.241814Z",
     "iopub.status.idle": "2023-07-10T01:30:31.307755Z",
     "shell.execute_reply": "2023-07-10T01:30:31.306214Z"
    },
    "papermill": {
     "duration": 0.121023,
     "end_time": "2023-07-10T01:30:31.310725",
     "exception": false,
     "start_time": "2023-07-10T01:30:31.189702",
     "status": "completed"
    },
    "tags": []
   },
   "outputs": [
    {
     "name": "stdout",
     "output_type": "stream",
     "text": [
      "LGBM. Random Search:\n",
      "AUC Train = 85.58\n",
      "AUC Test = 55.93\n"
     ]
    },
    {
     "name": "stderr",
     "output_type": "stream",
     "text": [
      "/opt/conda/lib/python3.10/site-packages/lightgbm/engine.py:177: UserWarning: Found `n_estimators` in params. Will use it instead of argument\n",
      "  _log_warning(f\"Found `{alias}` in params. Will use it instead of argument\")\n"
     ]
    }
   ],
   "source": [
    "#  Ejecutamos el modelo con el rounds óptimo.\n",
    "\n",
    "params = {'boosting_type': 'gbdt',\n",
    "                        'application': 'binary',\n",
    "                        'objective':  'binary',\n",
    "                        'metric': 'auc',\n",
    "                        'n_estimators': lgbm_random_best.best_iteration,\n",
    "                        'verbose': -10,\n",
    "                        'seed': 0,\n",
    "                        'max_depth':lgbm_random.best_params_['max_depth'],\n",
    "                        'min_data_in_bin': lgbm_random.best_params_['min_data_in_bin'],\n",
    "                        'min_data_in_leaf': lgbm_random.best_params_['min_data_in_leaf'],\n",
    "                        'learning_rate': lgbm_random.best_params_['learning_rate'],\n",
    "                        'max_bin': lgbm_random.best_params_['max_bin']}\n",
    "lgbm_EC2 = lgb.train(params,\n",
    "                        train_data_lgb_2)\n",
    "\n",
    "# Generamos las predicciones.\n",
    "\n",
    "y_pred = lgbm_EC2.predict(X_train_n_2)\n",
    "auc_lgbm_random_train = roc_auc_score(y_train_n_2, y_pred)\n",
    "\n",
    "y_pred = lgbm_EC2.predict(X_test_2)\n",
    "auc_lgbm_random_test = roc_auc_score(y_test_2, y_pred)\n",
    "\n",
    "\n",
    "print (\"LGBM. Random Search:\")\n",
    "print('AUC Train = %.2f' %(auc_lgbm_random_train*100))\n",
    "print('AUC Test = %.2f' %(auc_lgbm_random_test*100))"
   ]
  },
  {
   "cell_type": "markdown",
   "id": "5348d211",
   "metadata": {
    "papermill": {
     "duration": 0.051258,
     "end_time": "2023-07-10T01:30:31.413562",
     "exception": false,
     "start_time": "2023-07-10T01:30:31.362304",
     "status": "completed"
    },
    "tags": []
   },
   "source": [
    "#### Se escoge el mejor modelo y reentrena sobre toda la muestra."
   ]
  },
  {
   "cell_type": "code",
   "execution_count": 57,
   "id": "94cde767",
   "metadata": {
    "execution": {
     "iopub.execute_input": "2023-07-10T01:30:31.515828Z",
     "iopub.status.busy": "2023-07-10T01:30:31.515420Z",
     "iopub.status.idle": "2023-07-10T01:30:31.523702Z",
     "shell.execute_reply": "2023-07-10T01:30:31.522691Z"
    },
    "papermill": {
     "duration": 0.062691,
     "end_time": "2023-07-10T01:30:31.526257",
     "exception": false,
     "start_time": "2023-07-10T01:30:31.463566",
     "status": "completed"
    },
    "tags": []
   },
   "outputs": [
    {
     "name": "stdout",
     "output_type": "stream",
     "text": [
      "xgb\n",
      "AUC Train = 91.82\n",
      "AUC Test = 54.97\n",
      "LGBM\n",
      "AUC Train = 85.58\n",
      "AUC Test = 55.93\n",
      "red\n",
      "AUC Train = 59.55\n",
      "AUC Test = 70.89\n",
      "forest\n",
      "AUC Train = 99.90\n",
      "AUC Test = 57.48\n"
     ]
    }
   ],
   "source": [
    "print('xgb')\n",
    "print('AUC Train = %.2f' % (auc_xgb_random_train * 100))\n",
    "print('AUC Test = %.2f' % (auc_xgb_random_test * 100))\n",
    "\n",
    "print (\"LGBM\")\n",
    "print('AUC Train = %.2f' %(auc_lgbm_random_train*100))\n",
    "print('AUC Test = %.2f' %(auc_lgbm_random_test*100))\n",
    "\n",
    "print('red')\n",
    "print('AUC Train = %.2f' %(auc_red_random_train*100))\n",
    "print('AUC Test = %.2f' %(auc_red_random_test*100))\n",
    "\n",
    "print('forest')\n",
    "print('AUC Train = %.2f' %(auc_rf_random_train*100))\n",
    "print('AUC Test = %.2f' %(auc_rf_random_test*100))"
   ]
  },
  {
   "cell_type": "markdown",
   "id": "0d472325",
   "metadata": {
    "papermill": {
     "duration": 0.050176,
     "end_time": "2023-07-10T01:30:31.627036",
     "exception": false,
     "start_time": "2023-07-10T01:30:31.576860",
     "status": "completed"
    },
    "tags": []
   },
   "source": [
    "A probar los valores de lgbm y red, por lograr valores decentes sin overfitting"
   ]
  },
  {
   "cell_type": "code",
   "execution_count": 58,
   "id": "8b45f744",
   "metadata": {
    "execution": {
     "iopub.execute_input": "2023-07-10T01:30:31.730380Z",
     "iopub.status.busy": "2023-07-10T01:30:31.729984Z",
     "iopub.status.idle": "2023-07-10T01:30:32.293408Z",
     "shell.execute_reply": "2023-07-10T01:30:32.291839Z"
    },
    "papermill": {
     "duration": 0.619109,
     "end_time": "2023-07-10T01:30:32.297476",
     "exception": false,
     "start_time": "2023-07-10T01:30:31.678367",
     "status": "completed"
    },
    "tags": []
   },
   "outputs": [
    {
     "name": "stderr",
     "output_type": "stream",
     "text": [
      "/opt/conda/lib/python3.10/site-packages/lightgbm/engine.py:177: UserWarning: Found `n_estimators` in params. Will use it instead of argument\n",
      "  _log_warning(f\"Found `{alias}` in params. Will use it instead of argument\")\n"
     ]
    },
    {
     "name": "stdout",
     "output_type": "stream",
     "text": [
      "[LightGBM] [Warning] objective is set=binary, application=binary will be ignored. Current value: objective=binary\n"
     ]
    },
    {
     "data": {
      "text/html": [
       "<style>#sk-container-id-1 {color: black;background-color: white;}#sk-container-id-1 pre{padding: 0;}#sk-container-id-1 div.sk-toggleable {background-color: white;}#sk-container-id-1 label.sk-toggleable__label {cursor: pointer;display: block;width: 100%;margin-bottom: 0;padding: 0.3em;box-sizing: border-box;text-align: center;}#sk-container-id-1 label.sk-toggleable__label-arrow:before {content: \"▸\";float: left;margin-right: 0.25em;color: #696969;}#sk-container-id-1 label.sk-toggleable__label-arrow:hover:before {color: black;}#sk-container-id-1 div.sk-estimator:hover label.sk-toggleable__label-arrow:before {color: black;}#sk-container-id-1 div.sk-toggleable__content {max-height: 0;max-width: 0;overflow: hidden;text-align: left;background-color: #f0f8ff;}#sk-container-id-1 div.sk-toggleable__content pre {margin: 0.2em;color: black;border-radius: 0.25em;background-color: #f0f8ff;}#sk-container-id-1 input.sk-toggleable__control:checked~div.sk-toggleable__content {max-height: 200px;max-width: 100%;overflow: auto;}#sk-container-id-1 input.sk-toggleable__control:checked~label.sk-toggleable__label-arrow:before {content: \"▾\";}#sk-container-id-1 div.sk-estimator input.sk-toggleable__control:checked~label.sk-toggleable__label {background-color: #d4ebff;}#sk-container-id-1 div.sk-label input.sk-toggleable__control:checked~label.sk-toggleable__label {background-color: #d4ebff;}#sk-container-id-1 input.sk-hidden--visually {border: 0;clip: rect(1px 1px 1px 1px);clip: rect(1px, 1px, 1px, 1px);height: 1px;margin: -1px;overflow: hidden;padding: 0;position: absolute;width: 1px;}#sk-container-id-1 div.sk-estimator {font-family: monospace;background-color: #f0f8ff;border: 1px dotted black;border-radius: 0.25em;box-sizing: border-box;margin-bottom: 0.5em;}#sk-container-id-1 div.sk-estimator:hover {background-color: #d4ebff;}#sk-container-id-1 div.sk-parallel-item::after {content: \"\";width: 100%;border-bottom: 1px solid gray;flex-grow: 1;}#sk-container-id-1 div.sk-label:hover label.sk-toggleable__label {background-color: #d4ebff;}#sk-container-id-1 div.sk-serial::before {content: \"\";position: absolute;border-left: 1px solid gray;box-sizing: border-box;top: 0;bottom: 0;left: 50%;z-index: 0;}#sk-container-id-1 div.sk-serial {display: flex;flex-direction: column;align-items: center;background-color: white;padding-right: 0.2em;padding-left: 0.2em;position: relative;}#sk-container-id-1 div.sk-item {position: relative;z-index: 1;}#sk-container-id-1 div.sk-parallel {display: flex;align-items: stretch;justify-content: center;background-color: white;position: relative;}#sk-container-id-1 div.sk-item::before, #sk-container-id-1 div.sk-parallel-item::before {content: \"\";position: absolute;border-left: 1px solid gray;box-sizing: border-box;top: 0;bottom: 0;left: 50%;z-index: -1;}#sk-container-id-1 div.sk-parallel-item {display: flex;flex-direction: column;z-index: 1;position: relative;background-color: white;}#sk-container-id-1 div.sk-parallel-item:first-child::after {align-self: flex-end;width: 50%;}#sk-container-id-1 div.sk-parallel-item:last-child::after {align-self: flex-start;width: 50%;}#sk-container-id-1 div.sk-parallel-item:only-child::after {width: 0;}#sk-container-id-1 div.sk-dashed-wrapped {border: 1px dashed gray;margin: 0 0.4em 0.5em 0.4em;box-sizing: border-box;padding-bottom: 0.4em;background-color: white;}#sk-container-id-1 div.sk-label label {font-family: monospace;font-weight: bold;display: inline-block;line-height: 1.2em;}#sk-container-id-1 div.sk-label-container {text-align: center;}#sk-container-id-1 div.sk-container {/* jupyter's `normalize.less` sets `[hidden] { display: none; }` but bootstrap.min.css set `[hidden] { display: none !important; }` so we also need the `!important` here to be able to override the default hidden behavior on the sphinx rendered scikit-learn.org. See: https://github.com/scikit-learn/scikit-learn/issues/21755 */display: inline-block !important;position: relative;}#sk-container-id-1 div.sk-text-repr-fallback {display: none;}</style><div id=\"sk-container-id-1\" class=\"sk-top-container\"><div class=\"sk-text-repr-fallback\"><pre>MLPClassifier(activation=&#x27;logistic&#x27;, alpha=0.1, hidden_layer_sizes=4,\n",
       "              max_iter=50, solver=&#x27;lbfgs&#x27;)</pre><b>In a Jupyter environment, please rerun this cell to show the HTML representation or trust the notebook. <br />On GitHub, the HTML representation is unable to render, please try loading this page with nbviewer.org.</b></div><div class=\"sk-container\" hidden><div class=\"sk-item\"><div class=\"sk-estimator sk-toggleable\"><input class=\"sk-toggleable__control sk-hidden--visually\" id=\"sk-estimator-id-1\" type=\"checkbox\" checked><label for=\"sk-estimator-id-1\" class=\"sk-toggleable__label sk-toggleable__label-arrow\">MLPClassifier</label><div class=\"sk-toggleable__content\"><pre>MLPClassifier(activation=&#x27;logistic&#x27;, alpha=0.1, hidden_layer_sizes=4,\n",
       "              max_iter=50, solver=&#x27;lbfgs&#x27;)</pre></div></div></div></div></div>"
      ],
      "text/plain": [
       "MLPClassifier(activation='logistic', alpha=0.1, hidden_layer_sizes=4,\n",
       "              max_iter=50, solver='lbfgs')"
      ]
     },
     "execution_count": 58,
     "metadata": {},
     "output_type": "execute_result"
    }
   ],
   "source": [
    "\n",
    "lgbm_EC2 = lgb.train(params,\n",
    "                        original_data_lgb_2)\n",
    "\n",
    "red_EC2.fit(X_EC1, y['EC2'])"
   ]
  },
  {
   "cell_type": "code",
   "execution_count": 59,
   "id": "6c96eb52",
   "metadata": {
    "execution": {
     "iopub.execute_input": "2023-07-10T01:30:32.453540Z",
     "iopub.status.busy": "2023-07-10T01:30:32.453090Z",
     "iopub.status.idle": "2023-07-10T01:30:32.472591Z",
     "shell.execute_reply": "2023-07-10T01:30:32.470913Z"
    },
    "papermill": {
     "duration": 0.077071,
     "end_time": "2023-07-10T01:30:32.476957",
     "exception": false,
     "start_time": "2023-07-10T01:30:32.399886",
     "status": "completed"
    },
    "tags": []
   },
   "outputs": [],
   "source": [
    "# Predecir EC2\n",
    "\n",
    "EC2red = red_EC2.predict_proba(X_EC1)[:,1]\n",
    "\n",
    "EC2lgbm = lgbm_EC2.predict(X_EC1)\n"
   ]
  },
  {
   "cell_type": "code",
   "execution_count": 60,
   "id": "80ff1b71",
   "metadata": {
    "execution": {
     "iopub.execute_input": "2023-07-10T01:30:32.638381Z",
     "iopub.status.busy": "2023-07-10T01:30:32.637967Z",
     "iopub.status.idle": "2023-07-10T01:30:32.658863Z",
     "shell.execute_reply": "2023-07-10T01:30:32.657486Z"
    },
    "papermill": {
     "duration": 0.076159,
     "end_time": "2023-07-10T01:30:32.661198",
     "exception": false,
     "start_time": "2023-07-10T01:30:32.585039",
     "status": "completed"
    },
    "tags": []
   },
   "outputs": [
    {
     "name": "stdout",
     "output_type": "stream",
     "text": [
      "AUC de red = 59.17\n",
      "AUC de lgbm = 68.83\n"
     ]
    }
   ],
   "source": [
    "# Calculando rendimiento\n",
    "\n",
    "auc_red_random_train = roc_auc_score(y['EC2'], EC2red)\n",
    "print('AUC de red = %.2f' %(auc_red_random_train*100))\n",
    "\n",
    "auc_lgbm_random_train = roc_auc_score(y['EC2'], EC2lgbm)\n",
    "print('AUC de lgbm = %.2f' %(auc_lgbm_random_train*100))"
   ]
  },
  {
   "cell_type": "markdown",
   "id": "6f1d34ca",
   "metadata": {
    "papermill": {
     "duration": 0.050739,
     "end_time": "2023-07-10T01:30:32.763524",
     "exception": false,
     "start_time": "2023-07-10T01:30:32.712785",
     "status": "completed"
    },
    "tags": []
   },
   "source": [
    "#### Parte 3: Aplicar mejores modelos al test set de Kaggle.\n",
    "Se seguirá la misma lógica que antes. Predecir EC1, integrarlo, predecir EC2."
   ]
  },
  {
   "cell_type": "code",
   "execution_count": 61,
   "id": "bf8b2b28",
   "metadata": {
    "execution": {
     "iopub.execute_input": "2023-07-10T01:30:32.867618Z",
     "iopub.status.busy": "2023-07-10T01:30:32.867190Z",
     "iopub.status.idle": "2023-07-10T01:30:32.989385Z",
     "shell.execute_reply": "2023-07-10T01:30:32.987405Z"
    },
    "papermill": {
     "duration": 0.176999,
     "end_time": "2023-07-10T01:30:32.991950",
     "exception": false,
     "start_time": "2023-07-10T01:30:32.814951",
     "status": "completed"
    },
    "tags": []
   },
   "outputs": [
    {
     "name": "stdout",
     "output_type": "stream",
     "text": [
      "         id      BertzCT       Chi1      Chi1n      Chi1v      Chi2n  \\\n",
      "0     14838   344.632371   7.283603   4.473966   5.834958   3.412257   \n",
      "1     14839  1432.410201  10.663869   7.079026   8.065215   5.297097   \n",
      "2     14840    83.352608   3.931852   1.774215   1.774215   1.073446   \n",
      "3     14841   150.255712   5.912790   3.548812   3.548812   2.595128   \n",
      "4     14842  1817.276351  24.910940  15.540529  20.047314  12.535886   \n",
      "...     ...          ...        ...        ...        ...        ...   \n",
      "9888  24726   246.422865   4.036581   2.816709   2.816709   1.875634   \n",
      "9889  24727   591.069706   8.770857   5.682461   5.682461   4.050440   \n",
      "9890  24728   378.113435   6.310349   3.402334   4.317724   2.817428   \n",
      "9891  24729   737.653518   9.949161   7.337949   7.337949   4.428511   \n",
      "9892  24730   785.394062  12.170505   7.565385   9.651755   5.842572   \n",
      "\n",
      "          Chi2v      Chi3v     Chi4n  EState_VSA1  ...  PEOE_VSA14  PEOE_VSA6  \\\n",
      "0      4.651530   2.096558  1.116433    49.458581  ...   13.512441   0.000000   \n",
      "1      5.297097   3.924155  2.569694     0.000000  ...    0.000000  34.947374   \n",
      "2      1.073446   0.467830  0.170838     5.969305  ...    5.969305   0.000000   \n",
      "3      2.595128   1.642813  0.694113     0.000000  ...   59.935299   0.000000   \n",
      "4     17.730988  11.979618  4.431173    84.554972  ...   23.468091  25.609359   \n",
      "...         ...        ...       ...          ...  ...         ...        ...   \n",
      "9888   1.875634   1.235986  0.362743    24.146543  ...   11.938611   0.000000   \n",
      "9889   4.050440   2.167855  1.770579     0.000000  ...    0.000000  18.199101   \n",
      "9890   4.071978   1.970236  1.165747    36.705949  ...    7.822697   0.000000   \n",
      "9891   5.948361   3.972459  2.160881    36.992053  ...    0.000000   0.000000   \n",
      "9892   8.229500   5.664696  2.587586    49.458581  ...    7.822697   0.000000   \n",
      "\n",
      "      PEOE_VSA7  PEOE_VSA8  SMR_VSA10   SMR_VSA5  SlogP_VSA3  VSA_EState9  \\\n",
      "0      0.000000   0.000000  26.809272  24.539800    4.794537    47.304082   \n",
      "1     98.323987   9.606882   0.000000  53.378235    0.000000    43.166667   \n",
      "2      0.000000   6.420822  11.752550  13.344559    9.589074    24.666667   \n",
      "3      0.000000   0.000000  17.744066  32.290168    4.794537    26.778866   \n",
      "4      0.000000  37.099000  69.141353  38.704130   50.697492   102.583333   \n",
      "...         ...        ...        ...        ...         ...          ...   \n",
      "9888   0.000000   0.000000  11.938611  12.207933    9.589074    30.000000   \n",
      "9889  37.107112  17.696186  10.969244   0.000000    0.000000    53.166667   \n",
      "9890   0.000000   0.000000   7.822697  24.099010    4.736863    50.652870   \n",
      "9891   0.000000   6.196844   0.000000  12.462662    9.589074    50.250000   \n",
      "9892   0.000000   0.000000  18.872230  24.539800   13.825658    69.130957   \n",
      "\n",
      "      fr_COO  fr_COO2  \n",
      "0          1        1  \n",
      "1          0        0  \n",
      "2          1        1  \n",
      "3          0        0  \n",
      "4          0        0  \n",
      "...      ...      ...  \n",
      "9888       2        2  \n",
      "9889       0        0  \n",
      "9890       0        0  \n",
      "9891       0        0  \n",
      "9892       0        0  \n",
      "\n",
      "[9893 rows x 32 columns]\n"
     ]
    }
   ],
   "source": [
    "# Cargar los datos de prueba desde el archivo CSV\n",
    "data_test = pd.read_csv('/kaggle/input/playground-series-s3e18/test.csv')\n",
    "print (data_test)"
   ]
  },
  {
   "cell_type": "code",
   "execution_count": 62,
   "id": "43aade13",
   "metadata": {
    "execution": {
     "iopub.execute_input": "2023-07-10T01:30:33.161850Z",
     "iopub.status.busy": "2023-07-10T01:30:33.161299Z",
     "iopub.status.idle": "2023-07-10T01:30:33.169671Z",
     "shell.execute_reply": "2023-07-10T01:30:33.168646Z"
    },
    "papermill": {
     "duration": 0.063123,
     "end_time": "2023-07-10T01:30:33.171844",
     "exception": false,
     "start_time": "2023-07-10T01:30:33.108721",
     "status": "completed"
    },
    "tags": []
   },
   "outputs": [
    {
     "data": {
      "text/plain": [
       "0       14838\n",
       "1       14839\n",
       "2       14840\n",
       "3       14841\n",
       "4       14842\n",
       "        ...  \n",
       "9888    24726\n",
       "9889    24727\n",
       "9890    24728\n",
       "9891    24729\n",
       "9892    24730\n",
       "Name: id, Length: 9893, dtype: int64"
      ]
     },
     "execution_count": 62,
     "metadata": {},
     "output_type": "execute_result"
    }
   ],
   "source": [
    "# Recuperamos la id para el submission file\n",
    "id_var = data_test['id']\n",
    "id_var"
   ]
  },
  {
   "cell_type": "code",
   "execution_count": 63,
   "id": "33d9ff09",
   "metadata": {
    "execution": {
     "iopub.execute_input": "2023-07-10T01:30:33.278197Z",
     "iopub.status.busy": "2023-07-10T01:30:33.277816Z",
     "iopub.status.idle": "2023-07-10T01:30:33.300408Z",
     "shell.execute_reply": "2023-07-10T01:30:33.299543Z"
    },
    "papermill": {
     "duration": 0.078566,
     "end_time": "2023-07-10T01:30:33.302957",
     "exception": false,
     "start_time": "2023-07-10T01:30:33.224391",
     "status": "completed"
    },
    "tags": []
   },
   "outputs": [],
   "source": [
    "# Transformamos el test set\n",
    "\n",
    "variables_to_drop = ['id','FpDensityMorgan2', 'FpDensityMorgan1', 'fr_COO2', 'HeavyAtomMolWt', 'Chi1', 'Chi1v', 'Chi2v', 'BertzCT', 'Chi4n', 'Chi3v', 'Chi1n', 'Chi2n']\n",
    "for i in variables_to_drop:\n",
    "    del data_test[i]\n",
    "\n",
    "# Normalizando\n",
    "\n",
    "from sklearn.preprocessing import MinMaxScaler\n",
    "\n",
    "scaler = MinMaxScaler()\n",
    "scaler_data = scaler.fit(data_test)\n",
    "data_test_scaled = pd.DataFrame(scaler_data.transform(data_test), index=data_test.index, columns=data_test.columns)\n"
   ]
  },
  {
   "cell_type": "code",
   "execution_count": 64,
   "id": "29589d31",
   "metadata": {
    "execution": {
     "iopub.execute_input": "2023-07-10T01:30:33.410037Z",
     "iopub.status.busy": "2023-07-10T01:30:33.409663Z",
     "iopub.status.idle": "2023-07-10T01:30:33.422825Z",
     "shell.execute_reply": "2023-07-10T01:30:33.421230Z"
    },
    "papermill": {
     "duration": 0.070401,
     "end_time": "2023-07-10T01:30:33.425120",
     "exception": false,
     "start_time": "2023-07-10T01:30:33.354719",
     "status": "completed"
    },
    "tags": []
   },
   "outputs": [
    {
     "name": "stdout",
     "output_type": "stream",
     "text": [
      "<class 'pandas.core.frame.DataFrame'>\n",
      "RangeIndex: 9893 entries, 0 to 9892\n",
      "Data columns (total 19 columns):\n",
      " #   Column             Non-Null Count  Dtype  \n",
      "---  ------             --------------  -----  \n",
      " 0   EState_VSA1        9893 non-null   float64\n",
      " 1   EState_VSA2        9893 non-null   float64\n",
      " 2   ExactMolWt         9893 non-null   float64\n",
      " 3   FpDensityMorgan3   9893 non-null   float64\n",
      " 4   HallKierAlpha      9893 non-null   float64\n",
      " 5   Kappa3             9893 non-null   float64\n",
      " 6   MaxAbsEStateIndex  9893 non-null   float64\n",
      " 7   MinEStateIndex     9893 non-null   float64\n",
      " 8   NumHeteroatoms     9893 non-null   float64\n",
      " 9   PEOE_VSA10         9893 non-null   float64\n",
      " 10  PEOE_VSA14         9893 non-null   float64\n",
      " 11  PEOE_VSA6          9893 non-null   float64\n",
      " 12  PEOE_VSA7          9893 non-null   float64\n",
      " 13  PEOE_VSA8          9893 non-null   float64\n",
      " 14  SMR_VSA10          9893 non-null   float64\n",
      " 15  SMR_VSA5           9893 non-null   float64\n",
      " 16  SlogP_VSA3         9893 non-null   float64\n",
      " 17  VSA_EState9        9893 non-null   float64\n",
      " 18  fr_COO             9893 non-null   float64\n",
      "dtypes: float64(19)\n",
      "memory usage: 1.4 MB\n"
     ]
    }
   ],
   "source": [
    "data_test_scaled.info()"
   ]
  },
  {
   "cell_type": "code",
   "execution_count": 65,
   "id": "1d9add85",
   "metadata": {
    "execution": {
     "iopub.execute_input": "2023-07-10T01:30:33.530607Z",
     "iopub.status.busy": "2023-07-10T01:30:33.530213Z",
     "iopub.status.idle": "2023-07-10T01:30:33.550483Z",
     "shell.execute_reply": "2023-07-10T01:30:33.549637Z"
    },
    "papermill": {
     "duration": 0.075375,
     "end_time": "2023-07-10T01:30:33.552697",
     "exception": false,
     "start_time": "2023-07-10T01:30:33.477322",
     "status": "completed"
    },
    "tags": []
   },
   "outputs": [
    {
     "data": {
      "text/plain": [
       "array([0.37690121, 0.83608976, 0.80466145, ..., 0.39861489, 0.56326269,\n",
       "       0.37379985])"
      ]
     },
     "execution_count": 65,
     "metadata": {},
     "output_type": "execute_result"
    }
   ],
   "source": [
    "# Calculamos el valor de EC1\n",
    "\n",
    "EC1 = lgbm_EC1.predict(data_test_scaled)\n",
    "EC1\n"
   ]
  },
  {
   "cell_type": "code",
   "execution_count": 66,
   "id": "b38c5e80",
   "metadata": {
    "execution": {
     "iopub.execute_input": "2023-07-10T01:30:33.658163Z",
     "iopub.status.busy": "2023-07-10T01:30:33.657799Z",
     "iopub.status.idle": "2023-07-10T01:30:33.692454Z",
     "shell.execute_reply": "2023-07-10T01:30:33.691415Z"
    },
    "papermill": {
     "duration": 0.08985,
     "end_time": "2023-07-10T01:30:33.694957",
     "exception": false,
     "start_time": "2023-07-10T01:30:33.605107",
     "status": "completed"
    },
    "tags": []
   },
   "outputs": [
    {
     "data": {
      "text/html": [
       "<div>\n",
       "<style scoped>\n",
       "    .dataframe tbody tr th:only-of-type {\n",
       "        vertical-align: middle;\n",
       "    }\n",
       "\n",
       "    .dataframe tbody tr th {\n",
       "        vertical-align: top;\n",
       "    }\n",
       "\n",
       "    .dataframe thead th {\n",
       "        text-align: right;\n",
       "    }\n",
       "</style>\n",
       "<table border=\"1\" class=\"dataframe\">\n",
       "  <thead>\n",
       "    <tr style=\"text-align: right;\">\n",
       "      <th></th>\n",
       "      <th>EState_VSA1</th>\n",
       "      <th>EState_VSA2</th>\n",
       "      <th>ExactMolWt</th>\n",
       "      <th>FpDensityMorgan3</th>\n",
       "      <th>HallKierAlpha</th>\n",
       "      <th>Kappa3</th>\n",
       "      <th>MaxAbsEStateIndex</th>\n",
       "      <th>MinEStateIndex</th>\n",
       "      <th>NumHeteroatoms</th>\n",
       "      <th>PEOE_VSA10</th>\n",
       "      <th>PEOE_VSA14</th>\n",
       "      <th>PEOE_VSA6</th>\n",
       "      <th>PEOE_VSA7</th>\n",
       "      <th>PEOE_VSA8</th>\n",
       "      <th>SMR_VSA10</th>\n",
       "      <th>SMR_VSA5</th>\n",
       "      <th>SlogP_VSA3</th>\n",
       "      <th>VSA_EState9</th>\n",
       "      <th>fr_COO</th>\n",
       "      <th>EC1</th>\n",
       "    </tr>\n",
       "  </thead>\n",
       "  <tbody>\n",
       "    <tr>\n",
       "      <th>0</th>\n",
       "      <td>0.135985</td>\n",
       "      <td>0.000000</td>\n",
       "      <td>0.100904</td>\n",
       "      <td>0.645870</td>\n",
       "      <td>0.873373</td>\n",
       "      <td>0.066379</td>\n",
       "      <td>0.700514</td>\n",
       "      <td>0.127213</td>\n",
       "      <td>0.132075</td>\n",
       "      <td>0.150076</td>\n",
       "      <td>0.028009</td>\n",
       "      <td>0.000000</td>\n",
       "      <td>0.000000</td>\n",
       "      <td>0.000000</td>\n",
       "      <td>0.335449</td>\n",
       "      <td>0.049804</td>\n",
       "      <td>0.041545</td>\n",
       "      <td>0.134438</td>\n",
       "      <td>0.125</td>\n",
       "      <td>0.376901</td>\n",
       "    </tr>\n",
       "    <tr>\n",
       "      <th>1</th>\n",
       "      <td>0.000000</td>\n",
       "      <td>0.298021</td>\n",
       "      <td>0.160212</td>\n",
       "      <td>0.264832</td>\n",
       "      <td>0.687574</td>\n",
       "      <td>0.070600</td>\n",
       "      <td>0.814608</td>\n",
       "      <td>0.534987</td>\n",
       "      <td>0.075472</td>\n",
       "      <td>0.000000</td>\n",
       "      <td>0.000000</td>\n",
       "      <td>0.135013</td>\n",
       "      <td>0.362252</td>\n",
       "      <td>0.099124</td>\n",
       "      <td>0.000000</td>\n",
       "      <td>0.108332</td>\n",
       "      <td>0.000000</td>\n",
       "      <td>0.123816</td>\n",
       "      <td>0.000</td>\n",
       "      <td>0.836090</td>\n",
       "    </tr>\n",
       "    <tr>\n",
       "      <th>2</th>\n",
       "      <td>0.016412</td>\n",
       "      <td>0.064249</td>\n",
       "      <td>0.045918</td>\n",
       "      <td>0.676498</td>\n",
       "      <td>0.800000</td>\n",
       "      <td>0.067730</td>\n",
       "      <td>0.662630</td>\n",
       "      <td>0.486216</td>\n",
       "      <td>0.056604</td>\n",
       "      <td>0.000000</td>\n",
       "      <td>0.012373</td>\n",
       "      <td>0.000000</td>\n",
       "      <td>0.000000</td>\n",
       "      <td>0.066250</td>\n",
       "      <td>0.147053</td>\n",
       "      <td>0.027083</td>\n",
       "      <td>0.083090</td>\n",
       "      <td>0.076321</td>\n",
       "      <td>0.125</td>\n",
       "      <td>0.804661</td>\n",
       "    </tr>\n",
       "    <tr>\n",
       "      <th>3</th>\n",
       "      <td>0.000000</td>\n",
       "      <td>0.000000</td>\n",
       "      <td>0.091851</td>\n",
       "      <td>0.834101</td>\n",
       "      <td>0.834320</td>\n",
       "      <td>0.066507</td>\n",
       "      <td>0.698270</td>\n",
       "      <td>0.589710</td>\n",
       "      <td>0.113208</td>\n",
       "      <td>0.000000</td>\n",
       "      <td>0.124235</td>\n",
       "      <td>0.000000</td>\n",
       "      <td>0.000000</td>\n",
       "      <td>0.000000</td>\n",
       "      <td>0.222021</td>\n",
       "      <td>0.065533</td>\n",
       "      <td>0.041545</td>\n",
       "      <td>0.081743</td>\n",
       "      <td>0.000</td>\n",
       "      <td>0.786358</td>\n",
       "    </tr>\n",
       "    <tr>\n",
       "      <th>4</th>\n",
       "      <td>0.232482</td>\n",
       "      <td>0.473903</td>\n",
       "      <td>0.467588</td>\n",
       "      <td>0.662725</td>\n",
       "      <td>0.613018</td>\n",
       "      <td>0.069582</td>\n",
       "      <td>0.864117</td>\n",
       "      <td>0.050283</td>\n",
       "      <td>0.377358</td>\n",
       "      <td>0.297170</td>\n",
       "      <td>0.048645</td>\n",
       "      <td>0.098937</td>\n",
       "      <td>0.000000</td>\n",
       "      <td>0.382788</td>\n",
       "      <td>0.865125</td>\n",
       "      <td>0.078550</td>\n",
       "      <td>0.439296</td>\n",
       "      <td>0.276358</td>\n",
       "      <td>0.000</td>\n",
       "      <td>0.699740</td>\n",
       "    </tr>\n",
       "    <tr>\n",
       "      <th>...</th>\n",
       "      <td>...</td>\n",
       "      <td>...</td>\n",
       "      <td>...</td>\n",
       "      <td>...</td>\n",
       "      <td>...</td>\n",
       "      <td>...</td>\n",
       "      <td>...</td>\n",
       "      <td>...</td>\n",
       "      <td>...</td>\n",
       "      <td>...</td>\n",
       "      <td>...</td>\n",
       "      <td>...</td>\n",
       "      <td>...</td>\n",
       "      <td>...</td>\n",
       "      <td>...</td>\n",
       "      <td>...</td>\n",
       "      <td>...</td>\n",
       "      <td>...</td>\n",
       "      <td>...</td>\n",
       "      <td>...</td>\n",
       "    </tr>\n",
       "    <tr>\n",
       "      <th>9888</th>\n",
       "      <td>0.066390</td>\n",
       "      <td>0.064249</td>\n",
       "      <td>0.069964</td>\n",
       "      <td>0.733377</td>\n",
       "      <td>0.771598</td>\n",
       "      <td>0.065547</td>\n",
       "      <td>0.701407</td>\n",
       "      <td>0.457851</td>\n",
       "      <td>0.094340</td>\n",
       "      <td>0.100051</td>\n",
       "      <td>0.024747</td>\n",
       "      <td>0.000000</td>\n",
       "      <td>0.000000</td>\n",
       "      <td>0.000000</td>\n",
       "      <td>0.149381</td>\n",
       "      <td>0.024776</td>\n",
       "      <td>0.083090</td>\n",
       "      <td>0.090013</td>\n",
       "      <td>0.250</td>\n",
       "      <td>0.773983</td>\n",
       "    </tr>\n",
       "    <tr>\n",
       "      <th>9889</th>\n",
       "      <td>0.000000</td>\n",
       "      <td>0.282465</td>\n",
       "      <td>0.154357</td>\n",
       "      <td>0.764977</td>\n",
       "      <td>0.605917</td>\n",
       "      <td>0.065135</td>\n",
       "      <td>0.838787</td>\n",
       "      <td>0.531957</td>\n",
       "      <td>0.094340</td>\n",
       "      <td>0.047121</td>\n",
       "      <td>0.000000</td>\n",
       "      <td>0.070309</td>\n",
       "      <td>0.136713</td>\n",
       "      <td>0.182589</td>\n",
       "      <td>0.137252</td>\n",
       "      <td>0.000000</td>\n",
       "      <td>0.000000</td>\n",
       "      <td>0.149489</td>\n",
       "      <td>0.000</td>\n",
       "      <td>0.844914</td>\n",
       "    </tr>\n",
       "    <tr>\n",
       "      <th>9890</th>\n",
       "      <td>0.100922</td>\n",
       "      <td>0.000000</td>\n",
       "      <td>0.130763</td>\n",
       "      <td>0.543779</td>\n",
       "      <td>0.874556</td>\n",
       "      <td>0.066210</td>\n",
       "      <td>0.708648</td>\n",
       "      <td>0.394058</td>\n",
       "      <td>0.188679</td>\n",
       "      <td>0.204224</td>\n",
       "      <td>0.016215</td>\n",
       "      <td>0.000000</td>\n",
       "      <td>0.000000</td>\n",
       "      <td>0.000000</td>\n",
       "      <td>0.097881</td>\n",
       "      <td>0.048909</td>\n",
       "      <td>0.041045</td>\n",
       "      <td>0.143036</td>\n",
       "      <td>0.000</td>\n",
       "      <td>0.398615</td>\n",
       "    </tr>\n",
       "    <tr>\n",
       "      <th>9891</th>\n",
       "      <td>0.101709</td>\n",
       "      <td>0.000000</td>\n",
       "      <td>0.159603</td>\n",
       "      <td>0.543779</td>\n",
       "      <td>0.680473</td>\n",
       "      <td>0.066513</td>\n",
       "      <td>0.789462</td>\n",
       "      <td>0.418525</td>\n",
       "      <td>0.226415</td>\n",
       "      <td>0.297170</td>\n",
       "      <td>0.000000</td>\n",
       "      <td>0.000000</td>\n",
       "      <td>0.000000</td>\n",
       "      <td>0.063939</td>\n",
       "      <td>0.000000</td>\n",
       "      <td>0.025293</td>\n",
       "      <td>0.083090</td>\n",
       "      <td>0.142001</td>\n",
       "      <td>0.000</td>\n",
       "      <td>0.563263</td>\n",
       "    </tr>\n",
       "    <tr>\n",
       "      <th>9892</th>\n",
       "      <td>0.135985</td>\n",
       "      <td>0.111710</td>\n",
       "      <td>0.177736</td>\n",
       "      <td>0.709677</td>\n",
       "      <td>0.738462</td>\n",
       "      <td>0.066351</td>\n",
       "      <td>0.809836</td>\n",
       "      <td>0.147837</td>\n",
       "      <td>0.245283</td>\n",
       "      <td>0.150076</td>\n",
       "      <td>0.016215</td>\n",
       "      <td>0.000000</td>\n",
       "      <td>0.000000</td>\n",
       "      <td>0.000000</td>\n",
       "      <td>0.236137</td>\n",
       "      <td>0.049804</td>\n",
       "      <td>0.119800</td>\n",
       "      <td>0.190475</td>\n",
       "      <td>0.000</td>\n",
       "      <td>0.373800</td>\n",
       "    </tr>\n",
       "  </tbody>\n",
       "</table>\n",
       "<p>9893 rows × 20 columns</p>\n",
       "</div>"
      ],
      "text/plain": [
       "      EState_VSA1  EState_VSA2  ExactMolWt  FpDensityMorgan3  HallKierAlpha  \\\n",
       "0        0.135985     0.000000    0.100904          0.645870       0.873373   \n",
       "1        0.000000     0.298021    0.160212          0.264832       0.687574   \n",
       "2        0.016412     0.064249    0.045918          0.676498       0.800000   \n",
       "3        0.000000     0.000000    0.091851          0.834101       0.834320   \n",
       "4        0.232482     0.473903    0.467588          0.662725       0.613018   \n",
       "...           ...          ...         ...               ...            ...   \n",
       "9888     0.066390     0.064249    0.069964          0.733377       0.771598   \n",
       "9889     0.000000     0.282465    0.154357          0.764977       0.605917   \n",
       "9890     0.100922     0.000000    0.130763          0.543779       0.874556   \n",
       "9891     0.101709     0.000000    0.159603          0.543779       0.680473   \n",
       "9892     0.135985     0.111710    0.177736          0.709677       0.738462   \n",
       "\n",
       "        Kappa3  MaxAbsEStateIndex  MinEStateIndex  NumHeteroatoms  PEOE_VSA10  \\\n",
       "0     0.066379           0.700514        0.127213        0.132075    0.150076   \n",
       "1     0.070600           0.814608        0.534987        0.075472    0.000000   \n",
       "2     0.067730           0.662630        0.486216        0.056604    0.000000   \n",
       "3     0.066507           0.698270        0.589710        0.113208    0.000000   \n",
       "4     0.069582           0.864117        0.050283        0.377358    0.297170   \n",
       "...        ...                ...             ...             ...         ...   \n",
       "9888  0.065547           0.701407        0.457851        0.094340    0.100051   \n",
       "9889  0.065135           0.838787        0.531957        0.094340    0.047121   \n",
       "9890  0.066210           0.708648        0.394058        0.188679    0.204224   \n",
       "9891  0.066513           0.789462        0.418525        0.226415    0.297170   \n",
       "9892  0.066351           0.809836        0.147837        0.245283    0.150076   \n",
       "\n",
       "      PEOE_VSA14  PEOE_VSA6  PEOE_VSA7  PEOE_VSA8  SMR_VSA10  SMR_VSA5  \\\n",
       "0       0.028009   0.000000   0.000000   0.000000   0.335449  0.049804   \n",
       "1       0.000000   0.135013   0.362252   0.099124   0.000000  0.108332   \n",
       "2       0.012373   0.000000   0.000000   0.066250   0.147053  0.027083   \n",
       "3       0.124235   0.000000   0.000000   0.000000   0.222021  0.065533   \n",
       "4       0.048645   0.098937   0.000000   0.382788   0.865125  0.078550   \n",
       "...          ...        ...        ...        ...        ...       ...   \n",
       "9888    0.024747   0.000000   0.000000   0.000000   0.149381  0.024776   \n",
       "9889    0.000000   0.070309   0.136713   0.182589   0.137252  0.000000   \n",
       "9890    0.016215   0.000000   0.000000   0.000000   0.097881  0.048909   \n",
       "9891    0.000000   0.000000   0.000000   0.063939   0.000000  0.025293   \n",
       "9892    0.016215   0.000000   0.000000   0.000000   0.236137  0.049804   \n",
       "\n",
       "      SlogP_VSA3  VSA_EState9  fr_COO       EC1  \n",
       "0       0.041545     0.134438   0.125  0.376901  \n",
       "1       0.000000     0.123816   0.000  0.836090  \n",
       "2       0.083090     0.076321   0.125  0.804661  \n",
       "3       0.041545     0.081743   0.000  0.786358  \n",
       "4       0.439296     0.276358   0.000  0.699740  \n",
       "...          ...          ...     ...       ...  \n",
       "9888    0.083090     0.090013   0.250  0.773983  \n",
       "9889    0.000000     0.149489   0.000  0.844914  \n",
       "9890    0.041045     0.143036   0.000  0.398615  \n",
       "9891    0.083090     0.142001   0.000  0.563263  \n",
       "9892    0.119800     0.190475   0.000  0.373800  \n",
       "\n",
       "[9893 rows x 20 columns]"
      ]
     },
     "execution_count": 66,
     "metadata": {},
     "output_type": "execute_result"
    }
   ],
   "source": [
    "# Concatenamos EC1 al data test\n",
    "\n",
    "EC1df = pd.DataFrame(EC1)\n",
    "EC1df = EC1df.rename(columns={0: 'EC1'})\n",
    "data_test_scaled = pd.concat([data_test_scaled, EC1df], axis=1)\n",
    "                     \n",
    "data_test_scaled"
   ]
  },
  {
   "cell_type": "code",
   "execution_count": 67,
   "id": "2cf50c92",
   "metadata": {
    "execution": {
     "iopub.execute_input": "2023-07-10T01:30:33.801333Z",
     "iopub.status.busy": "2023-07-10T01:30:33.800957Z",
     "iopub.status.idle": "2023-07-10T01:30:33.817262Z",
     "shell.execute_reply": "2023-07-10T01:30:33.816157Z"
    },
    "papermill": {
     "duration": 0.071856,
     "end_time": "2023-07-10T01:30:33.819549",
     "exception": false,
     "start_time": "2023-07-10T01:30:33.747693",
     "status": "completed"
    },
    "tags": []
   },
   "outputs": [
    {
     "data": {
      "text/plain": [
       "array([0.96410843, 0.6299564 , 0.85886541, ..., 0.95266119, 0.92296019,\n",
       "       0.79220361])"
      ]
     },
     "execution_count": 67,
     "metadata": {},
     "output_type": "execute_result"
    }
   ],
   "source": [
    "# Predecir EC2\n",
    "\n",
    "EC2 = lgbm_EC2.predict(data_test_scaled)\n",
    "EC2"
   ]
  },
  {
   "cell_type": "code",
   "execution_count": 68,
   "id": "f067d822",
   "metadata": {
    "execution": {
     "iopub.execute_input": "2023-07-10T01:30:33.927910Z",
     "iopub.status.busy": "2023-07-10T01:30:33.927478Z",
     "iopub.status.idle": "2023-07-10T01:30:34.006474Z",
     "shell.execute_reply": "2023-07-10T01:30:34.005084Z"
    },
    "papermill": {
     "duration": 0.136315,
     "end_time": "2023-07-10T01:30:34.009062",
     "exception": false,
     "start_time": "2023-07-10T01:30:33.872747",
     "status": "completed"
    },
    "tags": []
   },
   "outputs": [
    {
     "name": "stdout",
     "output_type": "stream",
     "text": [
      "         id       EC1       EC2\n",
      "0     14838  0.376901  0.964108\n",
      "1     14839  0.836090  0.629956\n",
      "2     14840  0.804661  0.858865\n",
      "3     14841  0.786358  0.960623\n",
      "4     14842  0.699740  0.539244\n",
      "...     ...       ...       ...\n",
      "9888  24726  0.773983  0.858865\n",
      "9889  24727  0.844914  0.973525\n",
      "9890  24728  0.398615  0.952661\n",
      "9891  24729  0.563263  0.922960\n",
      "9892  24730  0.373800  0.792204\n",
      "\n",
      "[9893 rows x 3 columns]\n"
     ]
    }
   ],
   "source": [
    "# Concatenamos todas las predicciones\n",
    "\n",
    "df1 = pd.DataFrame(id_var)\n",
    "df2 = pd.DataFrame(EC1)\n",
    "df3 = pd.DataFrame(EC2)\n",
    "\n",
    "df_combined = pd.concat([df1, df2, df3], axis=1, ignore_index=True)\n",
    "df_combined = df_combined.rename(columns={0: 'id', 1: 'EC1', 2: 'EC2'})\n",
    "\n",
    "# Se exportan los resultados en un nuevo archivo CSV\n",
    "df_combined.to_csv('/kaggle/working/submission.csv', index=False)\n",
    "\n",
    "print(df_combined)"
   ]
  },
  {
   "cell_type": "markdown",
   "id": "46f1df20",
   "metadata": {
    "papermill": {
     "duration": 0.053315,
     "end_time": "2023-07-10T01:30:34.115440",
     "exception": false,
     "start_time": "2023-07-10T01:30:34.062125",
     "status": "completed"
    },
    "tags": []
   },
   "source": [
    "\n"
   ]
  }
 ],
 "metadata": {
  "kernelspec": {
   "display_name": "Python 3",
   "language": "python",
   "name": "python3"
  },
  "language_info": {
   "codemirror_mode": {
    "name": "ipython",
    "version": 3
   },
   "file_extension": ".py",
   "mimetype": "text/x-python",
   "name": "python",
   "nbconvert_exporter": "python",
   "pygments_lexer": "ipython3",
   "version": "3.10.10"
  },
  "papermill": {
   "default_parameters": {},
   "duration": 1483.921397,
   "end_time": "2023-07-10T01:30:36.792285",
   "environment_variables": {},
   "exception": null,
   "input_path": "__notebook__.ipynb",
   "output_path": "__notebook__.ipynb",
   "parameters": {},
   "start_time": "2023-07-10T01:05:52.870888",
   "version": "2.4.0"
  }
 },
 "nbformat": 4,
 "nbformat_minor": 5
}
